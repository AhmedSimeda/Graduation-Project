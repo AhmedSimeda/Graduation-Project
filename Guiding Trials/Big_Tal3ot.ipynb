{
 "cells": [
  {
   "cell_type": "code",
   "execution_count": null,
   "metadata": {
    "colab": {
     "base_uri": "https://localhost:8080/"
    },
    "id": "zXtedHbb3Y70",
    "outputId": "374413ed-7112-44bf-d6e1-54932e1d293e"
   },
   "outputs": [
    {
     "name": "stdout",
     "output_type": "stream",
     "text": [
      "Mounted at /content/drive\n"
     ]
    }
   ],
   "source": [
    "from google.colab import drive\n",
    "drive.mount('/content/drive')"
   ]
  },
  {
   "cell_type": "code",
   "execution_count": null,
   "metadata": {
    "colab": {
     "base_uri": "https://localhost:8080/"
    },
    "id": "pg4cBOrG6VpT",
    "outputId": "55137ea8-ec1d-4267-afff-e44aed2c5d65"
   },
   "outputs": [
    {
     "name": "stdout",
     "output_type": "stream",
     "text": [
      "Collecting vit_keras\n",
      "  Downloading vit_keras-0.1.0-py3-none-any.whl (24 kB)\n",
      "Requirement already satisfied: scipy in /usr/local/lib/python3.7/dist-packages (from vit_keras) (1.4.1)\n",
      "Collecting validators\n",
      "  Downloading validators-0.18.2-py3-none-any.whl (19 kB)\n",
      "Requirement already satisfied: numpy>=1.13.3 in /usr/local/lib/python3.7/dist-packages (from scipy->vit_keras) (1.19.5)\n",
      "Requirement already satisfied: six>=1.4.0 in /usr/local/lib/python3.7/dist-packages (from validators->vit_keras) (1.15.0)\n",
      "Requirement already satisfied: decorator>=3.4.0 in /usr/local/lib/python3.7/dist-packages (from validators->vit_keras) (4.4.2)\n",
      "Installing collected packages: validators, vit-keras\n",
      "Successfully installed validators-0.18.2 vit-keras-0.1.0\n"
     ]
    }
   ],
   "source": [
    "pip install vit_keras"
   ]
  },
  {
   "cell_type": "code",
   "execution_count": null,
   "metadata": {
    "colab": {
     "base_uri": "https://localhost:8080/"
    },
    "id": "UtfYNazm6fP0",
    "outputId": "1a6dd20d-3a2c-4864-8487-d41d59954fb6"
   },
   "outputs": [
    {
     "name": "stdout",
     "output_type": "stream",
     "text": [
      "Collecting tensorflow_addons\n",
      "  Downloading tensorflow_addons-0.15.0-cp37-cp37m-manylinux_2_12_x86_64.manylinux2010_x86_64.whl (1.1 MB)\n",
      "\u001b[?25l\r",
      "\u001b[K     |▎                               | 10 kB 19.8 MB/s eta 0:00:01\r",
      "\u001b[K     |▋                               | 20 kB 20.7 MB/s eta 0:00:01\r",
      "\u001b[K     |▉                               | 30 kB 10.6 MB/s eta 0:00:01\r",
      "\u001b[K     |█▏                              | 40 kB 8.4 MB/s eta 0:00:01\r",
      "\u001b[K     |█▌                              | 51 kB 5.3 MB/s eta 0:00:01\r",
      "\u001b[K     |█▊                              | 61 kB 5.6 MB/s eta 0:00:01\r",
      "\u001b[K     |██                              | 71 kB 5.6 MB/s eta 0:00:01\r",
      "\u001b[K     |██▍                             | 81 kB 6.3 MB/s eta 0:00:01\r",
      "\u001b[K     |██▋                             | 92 kB 4.9 MB/s eta 0:00:01\r",
      "\u001b[K     |███                             | 102 kB 5.3 MB/s eta 0:00:01\r",
      "\u001b[K     |███▎                            | 112 kB 5.3 MB/s eta 0:00:01\r",
      "\u001b[K     |███▌                            | 122 kB 5.3 MB/s eta 0:00:01\r",
      "\u001b[K     |███▉                            | 133 kB 5.3 MB/s eta 0:00:01\r",
      "\u001b[K     |████▏                           | 143 kB 5.3 MB/s eta 0:00:01\r",
      "\u001b[K     |████▍                           | 153 kB 5.3 MB/s eta 0:00:01\r",
      "\u001b[K     |████▊                           | 163 kB 5.3 MB/s eta 0:00:01\r",
      "\u001b[K     |█████                           | 174 kB 5.3 MB/s eta 0:00:01\r",
      "\u001b[K     |█████▎                          | 184 kB 5.3 MB/s eta 0:00:01\r",
      "\u001b[K     |█████▋                          | 194 kB 5.3 MB/s eta 0:00:01\r",
      "\u001b[K     |█████▉                          | 204 kB 5.3 MB/s eta 0:00:01\r",
      "\u001b[K     |██████▏                         | 215 kB 5.3 MB/s eta 0:00:01\r",
      "\u001b[K     |██████▌                         | 225 kB 5.3 MB/s eta 0:00:01\r",
      "\u001b[K     |██████▊                         | 235 kB 5.3 MB/s eta 0:00:01\r",
      "\u001b[K     |███████                         | 245 kB 5.3 MB/s eta 0:00:01\r",
      "\u001b[K     |███████▍                        | 256 kB 5.3 MB/s eta 0:00:01\r",
      "\u001b[K     |███████▋                        | 266 kB 5.3 MB/s eta 0:00:01\r",
      "\u001b[K     |████████                        | 276 kB 5.3 MB/s eta 0:00:01\r",
      "\u001b[K     |████████▎                       | 286 kB 5.3 MB/s eta 0:00:01\r",
      "\u001b[K     |████████▌                       | 296 kB 5.3 MB/s eta 0:00:01\r",
      "\u001b[K     |████████▉                       | 307 kB 5.3 MB/s eta 0:00:01\r",
      "\u001b[K     |█████████                       | 317 kB 5.3 MB/s eta 0:00:01\r",
      "\u001b[K     |█████████▍                      | 327 kB 5.3 MB/s eta 0:00:01\r",
      "\u001b[K     |█████████▊                      | 337 kB 5.3 MB/s eta 0:00:01\r",
      "\u001b[K     |██████████                      | 348 kB 5.3 MB/s eta 0:00:01\r",
      "\u001b[K     |██████████▎                     | 358 kB 5.3 MB/s eta 0:00:01\r",
      "\u001b[K     |██████████▋                     | 368 kB 5.3 MB/s eta 0:00:01\r",
      "\u001b[K     |██████████▉                     | 378 kB 5.3 MB/s eta 0:00:01\r",
      "\u001b[K     |███████████▏                    | 389 kB 5.3 MB/s eta 0:00:01\r",
      "\u001b[K     |███████████▌                    | 399 kB 5.3 MB/s eta 0:00:01\r",
      "\u001b[K     |███████████▊                    | 409 kB 5.3 MB/s eta 0:00:01\r",
      "\u001b[K     |████████████                    | 419 kB 5.3 MB/s eta 0:00:01\r",
      "\u001b[K     |████████████▍                   | 430 kB 5.3 MB/s eta 0:00:01\r",
      "\u001b[K     |████████████▋                   | 440 kB 5.3 MB/s eta 0:00:01\r",
      "\u001b[K     |█████████████                   | 450 kB 5.3 MB/s eta 0:00:01\r",
      "\u001b[K     |█████████████▎                  | 460 kB 5.3 MB/s eta 0:00:01\r",
      "\u001b[K     |█████████████▌                  | 471 kB 5.3 MB/s eta 0:00:01\r",
      "\u001b[K     |█████████████▉                  | 481 kB 5.3 MB/s eta 0:00:01\r",
      "\u001b[K     |██████████████                  | 491 kB 5.3 MB/s eta 0:00:01\r",
      "\u001b[K     |██████████████▍                 | 501 kB 5.3 MB/s eta 0:00:01\r",
      "\u001b[K     |██████████████▊                 | 512 kB 5.3 MB/s eta 0:00:01\r",
      "\u001b[K     |███████████████                 | 522 kB 5.3 MB/s eta 0:00:01\r",
      "\u001b[K     |███████████████▎                | 532 kB 5.3 MB/s eta 0:00:01\r",
      "\u001b[K     |███████████████▋                | 542 kB 5.3 MB/s eta 0:00:01\r",
      "\u001b[K     |███████████████▉                | 552 kB 5.3 MB/s eta 0:00:01\r",
      "\u001b[K     |████████████████▏               | 563 kB 5.3 MB/s eta 0:00:01\r",
      "\u001b[K     |████████████████▌               | 573 kB 5.3 MB/s eta 0:00:01\r",
      "\u001b[K     |████████████████▊               | 583 kB 5.3 MB/s eta 0:00:01\r",
      "\u001b[K     |█████████████████               | 593 kB 5.3 MB/s eta 0:00:01\r",
      "\u001b[K     |█████████████████▍              | 604 kB 5.3 MB/s eta 0:00:01\r",
      "\u001b[K     |█████████████████▋              | 614 kB 5.3 MB/s eta 0:00:01\r",
      "\u001b[K     |██████████████████              | 624 kB 5.3 MB/s eta 0:00:01\r",
      "\u001b[K     |██████████████████▏             | 634 kB 5.3 MB/s eta 0:00:01\r",
      "\u001b[K     |██████████████████▌             | 645 kB 5.3 MB/s eta 0:00:01\r",
      "\u001b[K     |██████████████████▉             | 655 kB 5.3 MB/s eta 0:00:01\r",
      "\u001b[K     |███████████████████             | 665 kB 5.3 MB/s eta 0:00:01\r",
      "\u001b[K     |███████████████████▍            | 675 kB 5.3 MB/s eta 0:00:01\r",
      "\u001b[K     |███████████████████▊            | 686 kB 5.3 MB/s eta 0:00:01\r",
      "\u001b[K     |████████████████████            | 696 kB 5.3 MB/s eta 0:00:01\r",
      "\u001b[K     |████████████████████▎           | 706 kB 5.3 MB/s eta 0:00:01\r",
      "\u001b[K     |████████████████████▋           | 716 kB 5.3 MB/s eta 0:00:01\r",
      "\u001b[K     |████████████████████▉           | 727 kB 5.3 MB/s eta 0:00:01\r",
      "\u001b[K     |█████████████████████▏          | 737 kB 5.3 MB/s eta 0:00:01\r",
      "\u001b[K     |█████████████████████▌          | 747 kB 5.3 MB/s eta 0:00:01\r",
      "\u001b[K     |█████████████████████▊          | 757 kB 5.3 MB/s eta 0:00:01\r",
      "\u001b[K     |██████████████████████          | 768 kB 5.3 MB/s eta 0:00:01\r",
      "\u001b[K     |██████████████████████▎         | 778 kB 5.3 MB/s eta 0:00:01\r",
      "\u001b[K     |██████████████████████▋         | 788 kB 5.3 MB/s eta 0:00:01\r",
      "\u001b[K     |███████████████████████         | 798 kB 5.3 MB/s eta 0:00:01\r",
      "\u001b[K     |███████████████████████▏        | 808 kB 5.3 MB/s eta 0:00:01\r",
      "\u001b[K     |███████████████████████▌        | 819 kB 5.3 MB/s eta 0:00:01\r",
      "\u001b[K     |███████████████████████▉        | 829 kB 5.3 MB/s eta 0:00:01\r",
      "\u001b[K     |████████████████████████        | 839 kB 5.3 MB/s eta 0:00:01\r",
      "\u001b[K     |████████████████████████▍       | 849 kB 5.3 MB/s eta 0:00:01\r",
      "\u001b[K     |████████████████████████▊       | 860 kB 5.3 MB/s eta 0:00:01\r",
      "\u001b[K     |█████████████████████████       | 870 kB 5.3 MB/s eta 0:00:01\r",
      "\u001b[K     |█████████████████████████▎      | 880 kB 5.3 MB/s eta 0:00:01\r",
      "\u001b[K     |█████████████████████████▋      | 890 kB 5.3 MB/s eta 0:00:01\r",
      "\u001b[K     |█████████████████████████▉      | 901 kB 5.3 MB/s eta 0:00:01\r",
      "\u001b[K     |██████████████████████████▏     | 911 kB 5.3 MB/s eta 0:00:01\r",
      "\u001b[K     |██████████████████████████▌     | 921 kB 5.3 MB/s eta 0:00:01\r",
      "\u001b[K     |██████████████████████████▊     | 931 kB 5.3 MB/s eta 0:00:01\r",
      "\u001b[K     |███████████████████████████     | 942 kB 5.3 MB/s eta 0:00:01\r",
      "\u001b[K     |███████████████████████████▎    | 952 kB 5.3 MB/s eta 0:00:01\r",
      "\u001b[K     |███████████████████████████▋    | 962 kB 5.3 MB/s eta 0:00:01\r",
      "\u001b[K     |████████████████████████████    | 972 kB 5.3 MB/s eta 0:00:01\r",
      "\u001b[K     |████████████████████████████▏   | 983 kB 5.3 MB/s eta 0:00:01\r",
      "\u001b[K     |████████████████████████████▌   | 993 kB 5.3 MB/s eta 0:00:01\r",
      "\u001b[K     |████████████████████████████▉   | 1.0 MB 5.3 MB/s eta 0:00:01\r",
      "\u001b[K     |█████████████████████████████   | 1.0 MB 5.3 MB/s eta 0:00:01\r",
      "\u001b[K     |█████████████████████████████▍  | 1.0 MB 5.3 MB/s eta 0:00:01\r",
      "\u001b[K     |█████████████████████████████▊  | 1.0 MB 5.3 MB/s eta 0:00:01\r",
      "\u001b[K     |██████████████████████████████  | 1.0 MB 5.3 MB/s eta 0:00:01\r",
      "\u001b[K     |██████████████████████████████▎ | 1.1 MB 5.3 MB/s eta 0:00:01\r",
      "\u001b[K     |██████████████████████████████▋ | 1.1 MB 5.3 MB/s eta 0:00:01\r",
      "\u001b[K     |██████████████████████████████▉ | 1.1 MB 5.3 MB/s eta 0:00:01\r",
      "\u001b[K     |███████████████████████████████▏| 1.1 MB 5.3 MB/s eta 0:00:01\r",
      "\u001b[K     |███████████████████████████████▍| 1.1 MB 5.3 MB/s eta 0:00:01\r",
      "\u001b[K     |███████████████████████████████▊| 1.1 MB 5.3 MB/s eta 0:00:01\r",
      "\u001b[K     |████████████████████████████████| 1.1 MB 5.3 MB/s \n",
      "\u001b[?25hRequirement already satisfied: typeguard>=2.7 in /usr/local/lib/python3.7/dist-packages (from tensorflow_addons) (2.7.1)\n",
      "Installing collected packages: tensorflow-addons\n",
      "Successfully installed tensorflow-addons-0.15.0\n"
     ]
    }
   ],
   "source": [
    "pip install tensorflow_addons"
   ]
  },
  {
   "cell_type": "code",
   "execution_count": null,
   "metadata": {
    "id": "bO5-r51CFkFe"
   },
   "outputs": [],
   "source": [
    "!unzip /content/drive/MyDrive/Graduation_Project/CheXpert-v1.0-small.zip > /dev/null"
   ]
  },
  {
   "cell_type": "code",
   "execution_count": null,
   "metadata": {
    "id": "617G6Rxs3GaY"
   },
   "outputs": [],
   "source": [
    "import cv2\n",
    "import numpy as np \n",
    "import pandas as pd\n",
    "\n",
    "import matplotlib.pyplot as plt\n",
    "\n",
    "import tensorflow as tf\n",
    "from keras.models import Sequential\n",
    "from tensorflow.keras.layers import Dense, Dropout, Flatten, Conv2D\n",
    "from tensorflow.keras.optimizers import Adam\n",
    "from tensorflow.keras.callbacks import ModelCheckpoint, Callback, EarlyStopping\n",
    "\n",
    "from myowngen_v2 import DataGenerator\n",
    "from vit_keras import vit, utils"
   ]
  },
  {
   "cell_type": "code",
   "execution_count": null,
   "metadata": {
    "id": "RgpWyE0um8ZS"
   },
   "outputs": [],
   "source": [
    "sample_path  = 'sample_4.csv'\n",
    "valid_path   = 'val_sample_2.csv' \n",
    "data_path    = \"/content/\"\n",
    "weights_path = '/content/drive/MyDrive/Graduation_Project/model_weight.hdf5'"
   ]
  },
  {
   "cell_type": "code",
   "execution_count": null,
   "metadata": {
    "colab": {
     "base_uri": "https://localhost:8080/",
     "height": 374
    },
    "id": "fV7powDJ61Am",
    "outputId": "218ba3ad-abac-4206-a40b-1a6223278820"
   },
   "outputs": [
    {
     "data": {
      "text/html": [
       "\n",
       "  <div id=\"df-19608495-d57f-4c6e-8336-cfffb3cbeea1\">\n",
       "    <div class=\"colab-df-container\">\n",
       "      <div>\n",
       "<style scoped>\n",
       "    .dataframe tbody tr th:only-of-type {\n",
       "        vertical-align: middle;\n",
       "    }\n",
       "\n",
       "    .dataframe tbody tr th {\n",
       "        vertical-align: top;\n",
       "    }\n",
       "\n",
       "    .dataframe thead th {\n",
       "        text-align: right;\n",
       "    }\n",
       "</style>\n",
       "<table border=\"1\" class=\"dataframe\">\n",
       "  <thead>\n",
       "    <tr style=\"text-align: right;\">\n",
       "      <th></th>\n",
       "      <th>Path</th>\n",
       "      <th>Sex</th>\n",
       "      <th>Age</th>\n",
       "      <th>Frontal/Lateral</th>\n",
       "      <th>AP/PA</th>\n",
       "      <th>No Finding</th>\n",
       "      <th>Enlarged Cardiomediastinum</th>\n",
       "      <th>Cardiomegaly</th>\n",
       "      <th>Lung Opacity</th>\n",
       "      <th>Lung Lesion</th>\n",
       "      <th>Edema</th>\n",
       "      <th>Consolidation</th>\n",
       "      <th>Pneumonia</th>\n",
       "      <th>Atelectasis</th>\n",
       "      <th>Pneumothorax</th>\n",
       "      <th>Pleural Effusion</th>\n",
       "      <th>Pleural Other</th>\n",
       "      <th>Fracture</th>\n",
       "      <th>Support Devices</th>\n",
       "    </tr>\n",
       "  </thead>\n",
       "  <tbody>\n",
       "    <tr>\n",
       "      <th>0</th>\n",
       "      <td>CheXpert-v1.0-small/train/patient00057/study2/...</td>\n",
       "      <td>Female</td>\n",
       "      <td>48</td>\n",
       "      <td>Frontal</td>\n",
       "      <td>AP</td>\n",
       "      <td>1.0</td>\n",
       "      <td>NaN</td>\n",
       "      <td>NaN</td>\n",
       "      <td>NaN</td>\n",
       "      <td>NaN</td>\n",
       "      <td>NaN</td>\n",
       "      <td>NaN</td>\n",
       "      <td>NaN</td>\n",
       "      <td>NaN</td>\n",
       "      <td>0.0</td>\n",
       "      <td>NaN</td>\n",
       "      <td>NaN</td>\n",
       "      <td>NaN</td>\n",
       "      <td>NaN</td>\n",
       "    </tr>\n",
       "    <tr>\n",
       "      <th>1</th>\n",
       "      <td>CheXpert-v1.0-small/train/patient00060/study1/...</td>\n",
       "      <td>Female</td>\n",
       "      <td>44</td>\n",
       "      <td>Frontal</td>\n",
       "      <td>PA</td>\n",
       "      <td>1.0</td>\n",
       "      <td>0.0</td>\n",
       "      <td>NaN</td>\n",
       "      <td>NaN</td>\n",
       "      <td>NaN</td>\n",
       "      <td>NaN</td>\n",
       "      <td>NaN</td>\n",
       "      <td>NaN</td>\n",
       "      <td>NaN</td>\n",
       "      <td>NaN</td>\n",
       "      <td>0.0</td>\n",
       "      <td>NaN</td>\n",
       "      <td>NaN</td>\n",
       "      <td>NaN</td>\n",
       "    </tr>\n",
       "    <tr>\n",
       "      <th>2</th>\n",
       "      <td>CheXpert-v1.0-small/train/patient00060/study1/...</td>\n",
       "      <td>Female</td>\n",
       "      <td>44</td>\n",
       "      <td>Lateral</td>\n",
       "      <td>NaN</td>\n",
       "      <td>1.0</td>\n",
       "      <td>0.0</td>\n",
       "      <td>NaN</td>\n",
       "      <td>NaN</td>\n",
       "      <td>NaN</td>\n",
       "      <td>NaN</td>\n",
       "      <td>NaN</td>\n",
       "      <td>NaN</td>\n",
       "      <td>NaN</td>\n",
       "      <td>NaN</td>\n",
       "      <td>0.0</td>\n",
       "      <td>NaN</td>\n",
       "      <td>NaN</td>\n",
       "      <td>NaN</td>\n",
       "    </tr>\n",
       "    <tr>\n",
       "      <th>3</th>\n",
       "      <td>CheXpert-v1.0-small/train/patient00066/study1/...</td>\n",
       "      <td>Male</td>\n",
       "      <td>61</td>\n",
       "      <td>Frontal</td>\n",
       "      <td>PA</td>\n",
       "      <td>1.0</td>\n",
       "      <td>0.0</td>\n",
       "      <td>NaN</td>\n",
       "      <td>NaN</td>\n",
       "      <td>NaN</td>\n",
       "      <td>0.0</td>\n",
       "      <td>0.0</td>\n",
       "      <td>NaN</td>\n",
       "      <td>NaN</td>\n",
       "      <td>NaN</td>\n",
       "      <td>0.0</td>\n",
       "      <td>NaN</td>\n",
       "      <td>NaN</td>\n",
       "      <td>NaN</td>\n",
       "    </tr>\n",
       "    <tr>\n",
       "      <th>4</th>\n",
       "      <td>CheXpert-v1.0-small/train/patient00066/study1/...</td>\n",
       "      <td>Male</td>\n",
       "      <td>61</td>\n",
       "      <td>Lateral</td>\n",
       "      <td>NaN</td>\n",
       "      <td>1.0</td>\n",
       "      <td>0.0</td>\n",
       "      <td>NaN</td>\n",
       "      <td>NaN</td>\n",
       "      <td>NaN</td>\n",
       "      <td>0.0</td>\n",
       "      <td>0.0</td>\n",
       "      <td>NaN</td>\n",
       "      <td>NaN</td>\n",
       "      <td>NaN</td>\n",
       "      <td>0.0</td>\n",
       "      <td>NaN</td>\n",
       "      <td>NaN</td>\n",
       "      <td>NaN</td>\n",
       "    </tr>\n",
       "  </tbody>\n",
       "</table>\n",
       "</div>\n",
       "      <button class=\"colab-df-convert\" onclick=\"convertToInteractive('df-19608495-d57f-4c6e-8336-cfffb3cbeea1')\"\n",
       "              title=\"Convert this dataframe to an interactive table.\"\n",
       "              style=\"display:none;\">\n",
       "        \n",
       "  <svg xmlns=\"http://www.w3.org/2000/svg\" height=\"24px\"viewBox=\"0 0 24 24\"\n",
       "       width=\"24px\">\n",
       "    <path d=\"M0 0h24v24H0V0z\" fill=\"none\"/>\n",
       "    <path d=\"M18.56 5.44l.94 2.06.94-2.06 2.06-.94-2.06-.94-.94-2.06-.94 2.06-2.06.94zm-11 1L8.5 8.5l.94-2.06 2.06-.94-2.06-.94L8.5 2.5l-.94 2.06-2.06.94zm10 10l.94 2.06.94-2.06 2.06-.94-2.06-.94-.94-2.06-.94 2.06-2.06.94z\"/><path d=\"M17.41 7.96l-1.37-1.37c-.4-.4-.92-.59-1.43-.59-.52 0-1.04.2-1.43.59L10.3 9.45l-7.72 7.72c-.78.78-.78 2.05 0 2.83L4 21.41c.39.39.9.59 1.41.59.51 0 1.02-.2 1.41-.59l7.78-7.78 2.81-2.81c.8-.78.8-2.07 0-2.86zM5.41 20L4 18.59l7.72-7.72 1.47 1.35L5.41 20z\"/>\n",
       "  </svg>\n",
       "      </button>\n",
       "      \n",
       "  <style>\n",
       "    .colab-df-container {\n",
       "      display:flex;\n",
       "      flex-wrap:wrap;\n",
       "      gap: 12px;\n",
       "    }\n",
       "\n",
       "    .colab-df-convert {\n",
       "      background-color: #E8F0FE;\n",
       "      border: none;\n",
       "      border-radius: 50%;\n",
       "      cursor: pointer;\n",
       "      display: none;\n",
       "      fill: #1967D2;\n",
       "      height: 32px;\n",
       "      padding: 0 0 0 0;\n",
       "      width: 32px;\n",
       "    }\n",
       "\n",
       "    .colab-df-convert:hover {\n",
       "      background-color: #E2EBFA;\n",
       "      box-shadow: 0px 1px 2px rgba(60, 64, 67, 0.3), 0px 1px 3px 1px rgba(60, 64, 67, 0.15);\n",
       "      fill: #174EA6;\n",
       "    }\n",
       "\n",
       "    [theme=dark] .colab-df-convert {\n",
       "      background-color: #3B4455;\n",
       "      fill: #D2E3FC;\n",
       "    }\n",
       "\n",
       "    [theme=dark] .colab-df-convert:hover {\n",
       "      background-color: #434B5C;\n",
       "      box-shadow: 0px 1px 3px 1px rgba(0, 0, 0, 0.15);\n",
       "      filter: drop-shadow(0px 1px 2px rgba(0, 0, 0, 0.3));\n",
       "      fill: #FFFFFF;\n",
       "    }\n",
       "  </style>\n",
       "\n",
       "      <script>\n",
       "        const buttonEl =\n",
       "          document.querySelector('#df-19608495-d57f-4c6e-8336-cfffb3cbeea1 button.colab-df-convert');\n",
       "        buttonEl.style.display =\n",
       "          google.colab.kernel.accessAllowed ? 'block' : 'none';\n",
       "\n",
       "        async function convertToInteractive(key) {\n",
       "          const element = document.querySelector('#df-19608495-d57f-4c6e-8336-cfffb3cbeea1');\n",
       "          const dataTable =\n",
       "            await google.colab.kernel.invokeFunction('convertToInteractive',\n",
       "                                                     [key], {});\n",
       "          if (!dataTable) return;\n",
       "\n",
       "          const docLinkHtml = 'Like what you see? Visit the ' +\n",
       "            '<a target=\"_blank\" href=https://colab.research.google.com/notebooks/data_table.ipynb>data table notebook</a>'\n",
       "            + ' to learn more about interactive tables.';\n",
       "          element.innerHTML = '';\n",
       "          dataTable['output_type'] = 'display_data';\n",
       "          await google.colab.output.renderOutput(dataTable, element);\n",
       "          const docLink = document.createElement('div');\n",
       "          docLink.innerHTML = docLinkHtml;\n",
       "          element.appendChild(docLink);\n",
       "        }\n",
       "      </script>\n",
       "    </div>\n",
       "  </div>\n",
       "  "
      ],
      "text/plain": [
       "                                                Path  ... Support Devices\n",
       "0  CheXpert-v1.0-small/train/patient00057/study2/...  ...             NaN\n",
       "1  CheXpert-v1.0-small/train/patient00060/study1/...  ...             NaN\n",
       "2  CheXpert-v1.0-small/train/patient00060/study1/...  ...             NaN\n",
       "3  CheXpert-v1.0-small/train/patient00066/study1/...  ...             NaN\n",
       "4  CheXpert-v1.0-small/train/patient00066/study1/...  ...             NaN\n",
       "\n",
       "[5 rows x 19 columns]"
      ]
     },
     "execution_count": 7,
     "metadata": {},
     "output_type": "execute_result"
    }
   ],
   "source": [
    "train = pd.read_csv(sample_path)\n",
    "#train.drop(columns=['Binary'], inplace=True)\n",
    "train.head()"
   ]
  },
  {
   "cell_type": "code",
   "execution_count": null,
   "metadata": {
    "id": "Z4cVXjSp3ZFT"
   },
   "outputs": [],
   "source": [
    "train.loc[:, train.columns[5:]] = train.loc[:, train.columns[5:]].fillna(0)\n",
    "\n",
    "to_take = list(set(train.columns[5:])-set(['Edema', 'Atelectasis']))\n",
    "train.loc[:, to_take] = train.loc[:, to_take].replace({-1:0})\n",
    "\n",
    "train.loc[:, ['Edema', 'Atelectasis']] = train.loc[:, ['Edema', 'Atelectasis']].replace({-1:1})"
   ]
  },
  {
   "cell_type": "code",
   "execution_count": null,
   "metadata": {
    "colab": {
     "base_uri": "https://localhost:8080/",
     "height": 374
    },
    "id": "93ry00363Gaf",
    "outputId": "9890b4ff-24ea-4daf-9c05-b9f45cee78e4"
   },
   "outputs": [
    {
     "data": {
      "text/html": [
       "\n",
       "  <div id=\"df-6a63b0e5-1915-48ed-8965-e35e12b60b40\">\n",
       "    <div class=\"colab-df-container\">\n",
       "      <div>\n",
       "<style scoped>\n",
       "    .dataframe tbody tr th:only-of-type {\n",
       "        vertical-align: middle;\n",
       "    }\n",
       "\n",
       "    .dataframe tbody tr th {\n",
       "        vertical-align: top;\n",
       "    }\n",
       "\n",
       "    .dataframe thead th {\n",
       "        text-align: right;\n",
       "    }\n",
       "</style>\n",
       "<table border=\"1\" class=\"dataframe\">\n",
       "  <thead>\n",
       "    <tr style=\"text-align: right;\">\n",
       "      <th></th>\n",
       "      <th>Path</th>\n",
       "      <th>Sex</th>\n",
       "      <th>Age</th>\n",
       "      <th>Frontal/Lateral</th>\n",
       "      <th>AP/PA</th>\n",
       "      <th>No Finding</th>\n",
       "      <th>Enlarged Cardiomediastinum</th>\n",
       "      <th>Cardiomegaly</th>\n",
       "      <th>Lung Opacity</th>\n",
       "      <th>Lung Lesion</th>\n",
       "      <th>Edema</th>\n",
       "      <th>Consolidation</th>\n",
       "      <th>Pneumonia</th>\n",
       "      <th>Atelectasis</th>\n",
       "      <th>Pneumothorax</th>\n",
       "      <th>Pleural Effusion</th>\n",
       "      <th>Pleural Other</th>\n",
       "      <th>Fracture</th>\n",
       "      <th>Support Devices</th>\n",
       "      <th>Sex_y</th>\n",
       "    </tr>\n",
       "  </thead>\n",
       "  <tbody>\n",
       "    <tr>\n",
       "      <th>0</th>\n",
       "      <td>CheXpert-v1.0-small/train/patient04947/study3/...</td>\n",
       "      <td>Male</td>\n",
       "      <td>56</td>\n",
       "      <td>Frontal</td>\n",
       "      <td>PA</td>\n",
       "      <td>0</td>\n",
       "      <td>0</td>\n",
       "      <td>0</td>\n",
       "      <td>0</td>\n",
       "      <td>0</td>\n",
       "      <td>0</td>\n",
       "      <td>0</td>\n",
       "      <td>0</td>\n",
       "      <td>0</td>\n",
       "      <td>0</td>\n",
       "      <td>0</td>\n",
       "      <td>0</td>\n",
       "      <td>0</td>\n",
       "      <td>0</td>\n",
       "      <td>NaN</td>\n",
       "    </tr>\n",
       "    <tr>\n",
       "      <th>1</th>\n",
       "      <td>CheXpert-v1.0-small/train/patient38193/study3/...</td>\n",
       "      <td>Male</td>\n",
       "      <td>67</td>\n",
       "      <td>Frontal</td>\n",
       "      <td>AP</td>\n",
       "      <td>0</td>\n",
       "      <td>0</td>\n",
       "      <td>0</td>\n",
       "      <td>1</td>\n",
       "      <td>0</td>\n",
       "      <td>1</td>\n",
       "      <td>0</td>\n",
       "      <td>0</td>\n",
       "      <td>0</td>\n",
       "      <td>0</td>\n",
       "      <td>0</td>\n",
       "      <td>0</td>\n",
       "      <td>0</td>\n",
       "      <td>1</td>\n",
       "      <td>NaN</td>\n",
       "    </tr>\n",
       "    <tr>\n",
       "      <th>2</th>\n",
       "      <td>CheXpert-v1.0-small/train/patient47458/study7/...</td>\n",
       "      <td>Male</td>\n",
       "      <td>57</td>\n",
       "      <td>Frontal</td>\n",
       "      <td>AP</td>\n",
       "      <td>0</td>\n",
       "      <td>0</td>\n",
       "      <td>0</td>\n",
       "      <td>1</td>\n",
       "      <td>0</td>\n",
       "      <td>0</td>\n",
       "      <td>0</td>\n",
       "      <td>0</td>\n",
       "      <td>0</td>\n",
       "      <td>0</td>\n",
       "      <td>0</td>\n",
       "      <td>0</td>\n",
       "      <td>1</td>\n",
       "      <td>1</td>\n",
       "      <td>NaN</td>\n",
       "    </tr>\n",
       "    <tr>\n",
       "      <th>3</th>\n",
       "      <td>CheXpert-v1.0-small/train/patient38830/study3/...</td>\n",
       "      <td>Male</td>\n",
       "      <td>56</td>\n",
       "      <td>Frontal</td>\n",
       "      <td>AP</td>\n",
       "      <td>0</td>\n",
       "      <td>0</td>\n",
       "      <td>0</td>\n",
       "      <td>0</td>\n",
       "      <td>0</td>\n",
       "      <td>0</td>\n",
       "      <td>0</td>\n",
       "      <td>0</td>\n",
       "      <td>1</td>\n",
       "      <td>0</td>\n",
       "      <td>0</td>\n",
       "      <td>0</td>\n",
       "      <td>0</td>\n",
       "      <td>1</td>\n",
       "      <td>NaN</td>\n",
       "    </tr>\n",
       "    <tr>\n",
       "      <th>4</th>\n",
       "      <td>CheXpert-v1.0-small/train/patient26417/study1/...</td>\n",
       "      <td>Female</td>\n",
       "      <td>50</td>\n",
       "      <td>Lateral</td>\n",
       "      <td>NaN</td>\n",
       "      <td>0</td>\n",
       "      <td>0</td>\n",
       "      <td>0</td>\n",
       "      <td>0</td>\n",
       "      <td>0</td>\n",
       "      <td>0</td>\n",
       "      <td>0</td>\n",
       "      <td>0</td>\n",
       "      <td>0</td>\n",
       "      <td>0</td>\n",
       "      <td>0</td>\n",
       "      <td>0</td>\n",
       "      <td>0</td>\n",
       "      <td>1</td>\n",
       "      <td>NaN</td>\n",
       "    </tr>\n",
       "  </tbody>\n",
       "</table>\n",
       "</div>\n",
       "      <button class=\"colab-df-convert\" onclick=\"convertToInteractive('df-6a63b0e5-1915-48ed-8965-e35e12b60b40')\"\n",
       "              title=\"Convert this dataframe to an interactive table.\"\n",
       "              style=\"display:none;\">\n",
       "        \n",
       "  <svg xmlns=\"http://www.w3.org/2000/svg\" height=\"24px\"viewBox=\"0 0 24 24\"\n",
       "       width=\"24px\">\n",
       "    <path d=\"M0 0h24v24H0V0z\" fill=\"none\"/>\n",
       "    <path d=\"M18.56 5.44l.94 2.06.94-2.06 2.06-.94-2.06-.94-.94-2.06-.94 2.06-2.06.94zm-11 1L8.5 8.5l.94-2.06 2.06-.94-2.06-.94L8.5 2.5l-.94 2.06-2.06.94zm10 10l.94 2.06.94-2.06 2.06-.94-2.06-.94-.94-2.06-.94 2.06-2.06.94z\"/><path d=\"M17.41 7.96l-1.37-1.37c-.4-.4-.92-.59-1.43-.59-.52 0-1.04.2-1.43.59L10.3 9.45l-7.72 7.72c-.78.78-.78 2.05 0 2.83L4 21.41c.39.39.9.59 1.41.59.51 0 1.02-.2 1.41-.59l7.78-7.78 2.81-2.81c.8-.78.8-2.07 0-2.86zM5.41 20L4 18.59l7.72-7.72 1.47 1.35L5.41 20z\"/>\n",
       "  </svg>\n",
       "      </button>\n",
       "      \n",
       "  <style>\n",
       "    .colab-df-container {\n",
       "      display:flex;\n",
       "      flex-wrap:wrap;\n",
       "      gap: 12px;\n",
       "    }\n",
       "\n",
       "    .colab-df-convert {\n",
       "      background-color: #E8F0FE;\n",
       "      border: none;\n",
       "      border-radius: 50%;\n",
       "      cursor: pointer;\n",
       "      display: none;\n",
       "      fill: #1967D2;\n",
       "      height: 32px;\n",
       "      padding: 0 0 0 0;\n",
       "      width: 32px;\n",
       "    }\n",
       "\n",
       "    .colab-df-convert:hover {\n",
       "      background-color: #E2EBFA;\n",
       "      box-shadow: 0px 1px 2px rgba(60, 64, 67, 0.3), 0px 1px 3px 1px rgba(60, 64, 67, 0.15);\n",
       "      fill: #174EA6;\n",
       "    }\n",
       "\n",
       "    [theme=dark] .colab-df-convert {\n",
       "      background-color: #3B4455;\n",
       "      fill: #D2E3FC;\n",
       "    }\n",
       "\n",
       "    [theme=dark] .colab-df-convert:hover {\n",
       "      background-color: #434B5C;\n",
       "      box-shadow: 0px 1px 3px 1px rgba(0, 0, 0, 0.15);\n",
       "      filter: drop-shadow(0px 1px 2px rgba(0, 0, 0, 0.3));\n",
       "      fill: #FFFFFF;\n",
       "    }\n",
       "  </style>\n",
       "\n",
       "      <script>\n",
       "        const buttonEl =\n",
       "          document.querySelector('#df-6a63b0e5-1915-48ed-8965-e35e12b60b40 button.colab-df-convert');\n",
       "        buttonEl.style.display =\n",
       "          google.colab.kernel.accessAllowed ? 'block' : 'none';\n",
       "\n",
       "        async function convertToInteractive(key) {\n",
       "          const element = document.querySelector('#df-6a63b0e5-1915-48ed-8965-e35e12b60b40');\n",
       "          const dataTable =\n",
       "            await google.colab.kernel.invokeFunction('convertToInteractive',\n",
       "                                                     [key], {});\n",
       "          if (!dataTable) return;\n",
       "\n",
       "          const docLinkHtml = 'Like what you see? Visit the ' +\n",
       "            '<a target=\"_blank\" href=https://colab.research.google.com/notebooks/data_table.ipynb>data table notebook</a>'\n",
       "            + ' to learn more about interactive tables.';\n",
       "          element.innerHTML = '';\n",
       "          dataTable['output_type'] = 'display_data';\n",
       "          await google.colab.output.renderOutput(dataTable, element);\n",
       "          const docLink = document.createElement('div');\n",
       "          docLink.innerHTML = docLinkHtml;\n",
       "          element.appendChild(docLink);\n",
       "        }\n",
       "      </script>\n",
       "    </div>\n",
       "  </div>\n",
       "  "
      ],
      "text/plain": [
       "                                                Path  ... Sex_y\n",
       "0  CheXpert-v1.0-small/train/patient04947/study3/...  ...   NaN\n",
       "1  CheXpert-v1.0-small/train/patient38193/study3/...  ...   NaN\n",
       "2  CheXpert-v1.0-small/train/patient47458/study7/...  ...   NaN\n",
       "3  CheXpert-v1.0-small/train/patient38830/study3/...  ...   NaN\n",
       "4  CheXpert-v1.0-small/train/patient26417/study1/...  ...   NaN\n",
       "\n",
       "[5 rows x 20 columns]"
      ]
     },
     "execution_count": 9,
     "metadata": {},
     "output_type": "execute_result"
    }
   ],
   "source": [
    "valid = pd.read_csv(valid_path)\n",
    "valid.head()"
   ]
  },
  {
   "cell_type": "code",
   "execution_count": null,
   "metadata": {
    "id": "92jaOZPzm9y4"
   },
   "outputs": [],
   "source": [
    "valid.drop('Sex_y', axis=1, inplace=True)"
   ]
  },
  {
   "cell_type": "code",
   "execution_count": null,
   "metadata": {
    "id": "UTUdXENOJDk2"
   },
   "outputs": [],
   "source": [
    "# valid.loc[:, valid.columns[5:]] = valid.loc[:, valid.columns[5:]].fillna(0)\n",
    "\n",
    "# to_take = list(set(valid.columns[5:])-set(['Edema', 'Atelectasis']))\n",
    "# valid.loc[:, to_take] = valid.loc[:, to_take].replace({-1:0})\n",
    "\n",
    "# valid.loc[:, ['Edema', 'Atelectasis']] = valid.loc[:, ['Edema', 'Atelectasis']].replace({-1:1})"
   ]
  },
  {
   "cell_type": "code",
   "execution_count": null,
   "metadata": {
    "id": "7MTvQgDG3Gai"
   },
   "outputs": [],
   "source": [
    "train_generator = DataGenerator(data_path, train, 14, batch_size=32, shape=(256,256, 3), shuffle=True)"
   ]
  },
  {
   "cell_type": "code",
   "execution_count": null,
   "metadata": {
    "id": "U59hsBpL3Gai"
   },
   "outputs": [],
   "source": [
    "valid_generator = DataGenerator(data_path, valid, 14, batch_size=32, shape=(256,256, 3), shuffle=True)"
   ]
  },
  {
   "cell_type": "code",
   "execution_count": null,
   "metadata": {
    "id": "piOSD7_43Gaj"
   },
   "outputs": [],
   "source": [
    "checkpoint = ModelCheckpoint(weights_path, monitor='val_auc', verbose=1, save_best_only=False, mode='auto', save_freq='epoch')\n",
    "early = EarlyStopping(monitor=\"val_auc\", mode='auto', patience=5, restore_best_weights=False)\n",
    "callbacks_list = [checkpoint, early]"
   ]
  },
  {
   "cell_type": "code",
   "execution_count": null,
   "metadata": {
    "colab": {
     "base_uri": "https://localhost:8080/"
    },
    "id": "FezsMP_s3Gak",
    "outputId": "69d539d5-17c4-4a22-b8e9-0d0b4180e03a",
    "scrolled": true
   },
   "outputs": [
    {
     "name": "stdout",
     "output_type": "stream",
     "text": [
      "Downloading data from https://github.com/faustomorales/vit-keras/releases/download/dl/ViT-B_16_imagenet21k+imagenet2012.npz\n",
      "347504640/347502902 [==============================] - 19s 0us/step\n",
      "347512832/347502902 [==============================] - 19s 0us/step\n"
     ]
    },
    {
     "name": "stderr",
     "output_type": "stream",
     "text": [
      "/usr/local/lib/python3.7/dist-packages/vit_keras/utils.py:83: UserWarning: Resizing position embeddings from 24, 24 to 16, 16\n",
      "  UserWarning,\n"
     ]
    }
   ],
   "source": [
    "base_model = vit.vit_b16(image_size=256,\n",
    "                        pretrained=True,\n",
    "                        pretrained_top = False,\n",
    "                        include_top=False)"
   ]
  },
  {
   "cell_type": "code",
   "execution_count": null,
   "metadata": {
    "id": "NFIuLAyd0JC1"
   },
   "outputs": [],
   "source": [
    "#base_model.layers"
   ]
  },
  {
   "cell_type": "code",
   "execution_count": null,
   "metadata": {
    "colab": {
     "base_uri": "https://localhost:8080/"
    },
    "id": "9zJGfa8n0Gmc",
    "outputId": "26ddc39a-4fed-435b-c474-5794c304cf86"
   },
   "outputs": [
    {
     "name": "stdout",
     "output_type": "stream",
     "text": [
      "Model: \"sequential\"\n",
      "_________________________________________________________________\n",
      " Layer (type)                Output Shape              Param #   \n",
      "=================================================================\n",
      " vit-b16 (Functional)        (None, 768)               85844736  \n",
      "                                                                 \n",
      " dense (Dense)               (None, 512)               393728    \n",
      "                                                                 \n",
      " dropout (Dropout)           (None, 512)               0         \n",
      "                                                                 \n",
      " dense_1 (Dense)             (None, 128)               65664     \n",
      "                                                                 \n",
      " dropout_1 (Dropout)         (None, 128)               0         \n",
      "                                                                 \n",
      " dense_2 (Dense)             (None, 14)                1806      \n",
      "                                                                 \n",
      "=================================================================\n",
      "Total params: 86,305,934\n",
      "Trainable params: 35,902,094\n",
      "Non-trainable params: 50,403,840\n",
      "_________________________________________________________________\n"
     ]
    }
   ],
   "source": [
    "for layer in base_model.layers[:-7]:\n",
    "    layer.trainable = False\n",
    "\n",
    "for layer in base_model.layers[-7:]:\n",
    "    layer.trainable = True\n",
    "\n",
    "#building the model\n",
    "model=Sequential()\n",
    "model.add(base_model)\n",
    "model.add(Dense(512, activation=\"relu\"))\n",
    "model.add(Dropout(0.1))\n",
    "model.add(Dense(128,activation='relu'))\n",
    "model.add(Dropout(0.1))\n",
    "model.add(Dense(14,activation=\"sigmoid\"))\n",
    "model.summary()"
   ]
  },
  {
   "cell_type": "code",
   "execution_count": null,
   "metadata": {
    "id": "Z5SP_hmNoIjK"
   },
   "outputs": [],
   "source": [
    "model.load_weights(weights_path)"
   ]
  },
  {
   "cell_type": "code",
   "execution_count": null,
   "metadata": {
    "id": "TeVMF3WP3Gal"
   },
   "outputs": [],
   "source": [
    "INIT_LR, EPOCHS, BS = 0.001, 3, 32\n",
    "model.compile(loss='binary_crossentropy', optimizer=Adam(learning_rate=INIT_LR, decay= INIT_LR/EPOCHS),\n",
    "              metrics=['binary_accuracy', tf.keras.metrics.AUC(multi_label = True)])"
   ]
  },
  {
   "cell_type": "code",
   "execution_count": null,
   "metadata": {
    "colab": {
     "base_uri": "https://localhost:8080/"
    },
    "id": "Fewpf21z3Gam",
    "outputId": "2d699cc0-cb7a-44da-dec5-b8dc107769a7"
   },
   "outputs": [
    {
     "name": "stdout",
     "output_type": "stream",
     "text": [
      "Epoch 1/3\n",
      "1883/1883 [==============================] - ETA: 0s - loss: 0.3597 - binary_accuracy: 0.8487 - auc: 0.7623\n",
      "Epoch 00001: saving model to /content/drive/MyDrive/Graduation_Project/model_weight.hdf5\n",
      "1883/1883 [==============================] - 4601s 2s/step - loss: 0.3597 - binary_accuracy: 0.8487 - auc: 0.7623 - val_loss: 0.3085 - val_binary_accuracy: 0.8697 - val_auc: 0.7541\n",
      "Epoch 2/3\n",
      "1883/1883 [==============================] - ETA: 0s - loss: 0.3541 - binary_accuracy: 0.8508 - auc: 0.7730\n",
      "Epoch 00002: saving model to /content/drive/MyDrive/Graduation_Project/model_weight.hdf5\n",
      "1883/1883 [==============================] - 4550s 2s/step - loss: 0.3541 - binary_accuracy: 0.8508 - auc: 0.7730 - val_loss: 0.3059 - val_binary_accuracy: 0.8721 - val_auc: 0.7556\n",
      "Epoch 3/3\n",
      "1883/1883 [==============================] - ETA: 0s - loss: 0.3500 - binary_accuracy: 0.8526 - auc: 0.7801\n",
      "Epoch 00003: saving model to /content/drive/MyDrive/Graduation_Project/model_weight.hdf5\n",
      "1883/1883 [==============================] - 4544s 2s/step - loss: 0.3500 - binary_accuracy: 0.8526 - auc: 0.7801 - val_loss: 0.3063 - val_binary_accuracy: 0.8710 - val_auc: 0.7573\n"
     ]
    }
   ],
   "source": [
    "history = model.fit(train_generator, validation_data=valid_generator, epochs=EPOCHS, batch_size=BS, verbose=1, callbacks=callbacks_list)"
   ]
  },
  {
   "cell_type": "markdown",
   "metadata": {
    "id": "0TNp7Os8qRL9"
   },
   "source": [
    "# Test"
   ]
  },
  {
   "cell_type": "code",
   "execution_count": null,
   "metadata": {
    "id": "zkleaEQwqfkW"
   },
   "outputs": [],
   "source": [
    "from sklearn.metrics import roc_auc_score\n",
    "\n",
    "def custom_auc(y_true, y_pred):\n",
    "    labels = ['Cardiomegaly', 'Edema', 'Consolidation', 'Atelectasis', 'Pleural Effusion']\n",
    "\n",
    "    results = pd.DataFrame(index=labels)\n",
    "\n",
    "\n",
    "    scores = []\n",
    "    for i in [2, 5, 6, 8, 10]:\n",
    "        score = roc_auc_score(y_true[:, i], y_pred[:, i])\n",
    "        scores.append(score)\n",
    "        \n",
    "    results['AUC'] = scores\n",
    "\n",
    "    return results"
   ]
  },
  {
   "cell_type": "code",
   "execution_count": null,
   "metadata": {
    "id": "EjUZlWUFMA7o"
   },
   "outputs": [],
   "source": [
    "val_path   = '/content/CheXpert-v1.0-small/valid.csv'\n",
    "val = pd.read_csv(val_path)"
   ]
  },
  {
   "cell_type": "code",
   "execution_count": null,
   "metadata": {
    "id": "lHtuu9LI_2Ee"
   },
   "outputs": [],
   "source": [
    "#train_generator = DataGenerator(data_path, train, 14, batch_size=1, shape=(224,224, 3), shuffle=False)\n",
    "val_generator = DataGenerator(data_path, val, 14, batch_size=1, shape=(256,256, 3), shuffle=False)"
   ]
  },
  {
   "cell_type": "code",
   "execution_count": null,
   "metadata": {
    "colab": {
     "base_uri": "https://localhost:8080/"
    },
    "id": "Lmc_b7iIAVzs",
    "outputId": "4e7fff50-0f16-44bc-b257-5c180dc5f122"
   },
   "outputs": [
    {
     "data": {
      "text/plain": [
       "0.868680019210841"
      ]
     },
     "execution_count": 24,
     "metadata": {},
     "output_type": "execute_result"
    }
   ],
   "source": [
    "# actual\n",
    "y_val_true   = val.iloc[:, 5:].values\n",
    "\n",
    "# predicted\n",
    "y_val_pred   = model.predict(val_generator)\n",
    "\n",
    "results = custom_auc(y_val_true, y_val_pred)\n",
    "results.AUC.mean()"
   ]
  },
  {
   "cell_type": "code",
   "execution_count": null,
   "metadata": {
    "id": "kc0ew0AD6XIj"
   },
   "outputs": [],
   "source": [
    "test_path   = '/content/test_sample_2.csv'\n",
    "test = pd.read_csv(test_path)"
   ]
  },
  {
   "cell_type": "code",
   "execution_count": null,
   "metadata": {
    "id": "TXbEOd8s6XIl"
   },
   "outputs": [],
   "source": [
    "test_generator = DataGenerator(data_path, test, 14, batch_size=1, shape=(256,256, 3), shuffle=False)"
   ]
  },
  {
   "cell_type": "code",
   "execution_count": null,
   "metadata": {
    "colab": {
     "base_uri": "https://localhost:8080/"
    },
    "id": "zzooOVDg6XIl",
    "outputId": "6c3d34b0-5ba0-454f-a7ce-d8229220baad"
   },
   "outputs": [
    {
     "data": {
      "text/plain": [
       "0.7752053118418927"
      ]
     },
     "execution_count": 30,
     "metadata": {},
     "output_type": "execute_result"
    }
   ],
   "source": [
    "# actual\n",
    "y_test_true   = test.iloc[:, 5:].values\n",
    "\n",
    "# predicted\n",
    "y_test_pred   = model.predict(test_generator)\n",
    "\n",
    "results = custom_auc(y_test_true, y_test_pred)\n",
    "results.AUC.mean()"
   ]
  },
  {
   "cell_type": "code",
   "execution_count": null,
   "metadata": {
    "id": "L1dYyVu1LMn-"
   },
   "outputs": [],
   "source": [
    "from sklearn.metrics import roc_auc_score\n",
    "\n",
    "def custom_auc_all(y_true, y_pred):\n",
    "\n",
    "    scores = []\n",
    "    for i in range(14):\n",
    "      score = roc_auc_score(y_true[:, i], y_pred[:, i])\n",
    "      scores.append(score)\n",
    "        \n",
    "\n",
    "    return np.array(scores).mean()"
   ]
  },
  {
   "cell_type": "code",
   "execution_count": null,
   "metadata": {
    "colab": {
     "base_uri": "https://localhost:8080/"
    },
    "id": "nuhQ0lhSQ1Uw",
    "outputId": "01c3d36d-fecc-4e25-aa2b-40bafc8164cf"
   },
   "outputs": [
    {
     "data": {
      "text/plain": [
       "0.7385657758674241"
      ]
     },
     "execution_count": 43,
     "metadata": {},
     "output_type": "execute_result"
    }
   ],
   "source": [
    "results = custom_auc_all(y_test_true, y_test_pred)\n",
    "results"
   ]
  },
  {
   "cell_type": "code",
   "execution_count": null,
   "metadata": {
    "id": "yUmIzXGdQ-np"
   },
   "outputs": [],
   "source": []
  }
 ],
 "metadata": {
  "accelerator": "GPU",
  "colab": {
   "collapsed_sections": [],
   "name": "Big_Tal3ot_v3.ipynb",
   "provenance": []
  },
  "kernelspec": {
   "display_name": "Python 3 (ipykernel)",
   "language": "python",
   "name": "python3"
  },
  "language_info": {
   "codemirror_mode": {
    "name": "ipython",
    "version": 3
   },
   "file_extension": ".py",
   "mimetype": "text/x-python",
   "name": "python",
   "nbconvert_exporter": "python",
   "pygments_lexer": "ipython3",
   "version": "3.9.7"
  }
 },
 "nbformat": 4,
 "nbformat_minor": 1
}
