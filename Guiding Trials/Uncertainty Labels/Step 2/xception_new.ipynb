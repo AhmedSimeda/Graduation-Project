{
  "cells": [
    {
      "cell_type": "code",
      "execution_count": 1,
      "metadata": {
        "colab": {
          "base_uri": "https://localhost:8080/"
        },
        "id": "1BFMewjPicrE",
        "outputId": "b80d7122-b8e7-489f-fea3-bcca1a3f98b5"
      },
      "outputs": [
        {
          "output_type": "stream",
          "name": "stdout",
          "text": [
            "GPU 0: Tesla T4 (UUID: GPU-65c6fbe3-9da8-df49-9f7e-3f3bb55ae785)\n"
          ]
        }
      ],
      "source": [
        "!nvidia-smi -L"
      ]
    },
    {
      "cell_type": "code",
      "execution_count": 1,
      "metadata": {
        "colab": {
          "base_uri": "https://localhost:8080/"
        },
        "id": "UbCQhIOOOYD6",
        "outputId": "2415e34e-d91d-4ac5-8c91-ec963839a8c8"
      },
      "outputs": [
        {
          "output_type": "stream",
          "name": "stdout",
          "text": [
            "Mounted at /content/drive\n"
          ]
        }
      ],
      "source": [
        "from google.colab import drive\n",
        "drive.mount('/content/drive')"
      ]
    },
    {
      "cell_type": "code",
      "execution_count": 2,
      "metadata": {
        "id": "ezLUMrGkOhNJ"
      },
      "outputs": [],
      "source": [
        "!unzip /content/drive/MyDrive/Graduation_Project/CheXpert-v1.0-small.zip > /dev/null"
      ]
    },
    {
      "cell_type": "code",
      "execution_count": 3,
      "metadata": {
        "id": "_8dlabuqhhwh"
      },
      "outputs": [],
      "source": [
        "!pip install timm > /dev/null"
      ]
    },
    {
      "cell_type": "code",
      "execution_count": 5,
      "metadata": {
        "id": "HV-lvLWUOi9V"
      },
      "outputs": [],
      "source": [
        "import cv2\n",
        "import numpy as np \n",
        "import pandas as pd\n",
        "\n",
        "import matplotlib.pyplot as plt\n",
        "\n",
        "import torch \n",
        "from torch import nn\n",
        "from torchsummary import summary\n",
        "\n",
        "import timm\n",
        "from torch.optim import Adam, lr_scheduler\n",
        "\n",
        "from myGen import MyGen\n",
        "\n",
        "from sklearn.metrics import roc_auc_score"
      ]
    },
    {
      "cell_type": "code",
      "execution_count": 6,
      "metadata": {
        "id": "aDfe4k8_jXW3"
      },
      "outputs": [],
      "source": [
        "train = pd.read_csv('/content/CheXpert-v1.0-small/train.csv')"
      ]
    },
    {
      "cell_type": "code",
      "execution_count": 7,
      "metadata": {
        "id": "bmWkX4FljjbT"
      },
      "outputs": [],
      "source": [
        "train.loc[:, train.columns[5:]] = train.loc[:, train.columns[5:]].fillna(0)\n",
        "\n",
        "zeros = ['Consolidation']\n",
        "train.loc[:, zeros] = train.loc[:, zeros].replace({-1:0})\n",
        "ones = ['Edema', 'Atelectasis', 'Cardiomegaly', 'Pleural Effusion']\n",
        "train.loc[:, ones] = train.loc[:, ones].replace({-1:1})\n",
        "\n",
        "train = train[['Path', 'Frontal/Lateral', 'Cardiomegaly', 'Edema', 'Consolidation', 'Atelectasis', 'Pleural Effusion']].copy() "
      ]
    },
    {
      "cell_type": "code",
      "execution_count": 8,
      "metadata": {
        "id": "ze6PDyvtkQR6"
      },
      "outputs": [],
      "source": [
        "train.to_csv('/content/CheXpert-v1.0-small/train_edited.csv', index=False)"
      ]
    },
    {
      "cell_type": "code",
      "execution_count": 9,
      "metadata": {
        "id": "WhX4hTCnAt68"
      },
      "outputs": [],
      "source": [
        "save_weights_path = '/content/drive/MyDrive/Graduation_Project/xception_new.pth' #edit\n",
        "load_weights_path = '/content/drive/MyDrive/Graduation_Project/xception_new.pth' #edit"
      ]
    },
    {
      "cell_type": "code",
      "execution_count": 10,
      "metadata": {
        "id": "B1Ccjd9kMYX6",
        "colab": {
          "base_uri": "https://localhost:8080/"
        },
        "outputId": "613720ea-477c-4af3-b501-97b5614984c1"
      },
      "outputs": [
        {
          "output_type": "stream",
          "name": "stderr",
          "text": [
            "Downloading: \"https://github.com/rwightman/pytorch-image-models/releases/download/v0.1-cadene/xception-43020ad28.pth\" to /root/.cache/torch/hub/checkpoints/xception-43020ad28.pth\n"
          ]
        }
      ],
      "source": [
        "model = timm.create_model('xception', num_classes=5, pretrained=True) #edit\n",
        "#model = model.cuda()\n",
        "\n",
        "#summary(model, (3, 224, 224), batch_size=64, device='cuda')"
      ]
    },
    {
      "cell_type": "code",
      "source": [
        "model.load_state_dict(torch.load(load_weights_path, map_location=torch.device('cpu')))"
      ],
      "metadata": {
        "colab": {
          "base_uri": "https://localhost:8080/"
        },
        "id": "3i-HQiJG0T6d",
        "outputId": "ea80c3b0-389c-47bc-9ce7-aa4796419568"
      },
      "execution_count": 12,
      "outputs": [
        {
          "output_type": "execute_result",
          "data": {
            "text/plain": [
              "<All keys matched successfully>"
            ]
          },
          "metadata": {},
          "execution_count": 12
        }
      ]
    },
    {
      "cell_type": "code",
      "execution_count": 13,
      "metadata": {
        "id": "rteLJ084NtTA"
      },
      "outputs": [],
      "source": [
        "def get_lr(optimizer):\n",
        "    for param_group in optimizer.param_groups:\n",
        "        return param_group['lr']"
      ]
    },
    {
      "cell_type": "code",
      "execution_count": null,
      "metadata": {
        "id": "h1-qVWyinYT5",
        "colab": {
          "base_uri": "https://localhost:8080/"
        },
        "outputId": "ff9d16cc-8d78-48c3-db8c-2ad807d7218c"
      },
      "outputs": [
        {
          "output_type": "stream",
          "name": "stdout",
          "text": [
            "Epoch=0, BatchID=0, Val_AUC=0.8912, Best_Val_AUC=0.8912, lr=0.001000\n",
            "Epoch=0, BatchID=400, Val_AUC=0.8473, Best_Val_AUC=0.8912, lr=0.001000\n",
            "Epoch=0, BatchID=800, Val_AUC=0.8693, Best_Val_AUC=0.8912, lr=0.001000\n",
            "Epoch=0, BatchID=1200, Val_AUC=0.8833, Best_Val_AUC=0.8912, lr=0.001000\n",
            "Epoch=0, BatchID=1600, Val_AUC=0.8759, Best_Val_AUC=0.8912, lr=0.001000\n",
            "Epoch=0, BatchID=2000, Val_AUC=0.8672, Best_Val_AUC=0.8912, lr=0.000500\n",
            "Epoch=0, BatchID=2400, Val_AUC=0.8710, Best_Val_AUC=0.8912, lr=0.000500\n",
            "Epoch=0, BatchID=2800, Val_AUC=0.8915, Best_Val_AUC=0.8915, lr=0.000500\n",
            "Epoch=1, BatchID=0, Val_AUC=0.8841, Best_Val_AUC=0.8915, lr=0.000500\n",
            "Epoch=1, BatchID=400, Val_AUC=0.8715, Best_Val_AUC=0.8915, lr=0.000500\n",
            "Epoch=1, BatchID=800, Val_AUC=0.8715, Best_Val_AUC=0.8915, lr=0.000500\n",
            "Epoch=1, BatchID=1200, Val_AUC=0.8928, Best_Val_AUC=0.8928, lr=0.000500\n",
            "Epoch=1, BatchID=1600, Val_AUC=0.8844, Best_Val_AUC=0.8928, lr=0.000500\n",
            "Epoch=1, BatchID=2000, Val_AUC=0.8857, Best_Val_AUC=0.8928, lr=0.000500\n",
            "Epoch=1, BatchID=2400, Val_AUC=0.8800, Best_Val_AUC=0.8928, lr=0.000500\n",
            "Epoch=1, BatchID=2800, Val_AUC=0.8866, Best_Val_AUC=0.8928, lr=0.000500\n",
            "Epoch=2, BatchID=0, Val_AUC=0.8834, Best_Val_AUC=0.8928, lr=0.000250\n",
            "Epoch=2, BatchID=400, Val_AUC=0.8791, Best_Val_AUC=0.8928, lr=0.000250\n",
            "Epoch=2, BatchID=800, Val_AUC=0.8888, Best_Val_AUC=0.8928, lr=0.000250\n",
            "Epoch=2, BatchID=1200, Val_AUC=0.8723, Best_Val_AUC=0.8928, lr=0.000250\n",
            "Epoch=2, BatchID=1600, Val_AUC=0.8705, Best_Val_AUC=0.8928, lr=0.000250\n",
            "Epoch=2, BatchID=2000, Val_AUC=0.8803, Best_Val_AUC=0.8928, lr=0.000250\n",
            "Epoch=2, BatchID=2400, Val_AUC=0.8698, Best_Val_AUC=0.8928, lr=0.000125\n",
            "Epoch=2, BatchID=2800, Val_AUC=0.8706, Best_Val_AUC=0.8928, lr=0.000125\n",
            "Epoch=3, BatchID=0, Val_AUC=0.8894, Best_Val_AUC=0.8928, lr=0.000125\n"
          ]
        }
      ],
      "source": [
        "root = '/content/'\n",
        "\n",
        "trainGen = MyGen(image_root_path=root, \n",
        "                 csv_path='CheXpert-v1.0-small/train_edited.csv', \n",
        "                 image_size=224, #edit\n",
        "                 frontal=True)\n",
        "\n",
        "valGen =  MyGen(image_root_path=root, \n",
        "                 csv_path='CheXpert-v1.0-small/valid.csv', \n",
        "                 image_size=224,  #edit\n",
        "                 frontal=True)\n",
        "\n",
        "trainloader =  torch.utils.data.DataLoader(trainGen, batch_size=64, shuffle=True)\n",
        "testloader =  torch.utils.data.DataLoader(valGen, batch_size=64, shuffle=False)\n",
        "\n",
        "# define loss & optimizer\n",
        "Loss = nn.BCELoss()\n",
        "\n",
        "optimizer = Adam(model.parameters(), lr=1e-3)\n",
        "\n",
        "scheduler = lr_scheduler.StepLR(optimizer, step_size=5, gamma=0.5)  # Decay LR by a factor of 0.5 every 5 epochs\n",
        "\n",
        "#model.load_state_dict(torch.load(load_weights_path))\n",
        "\n",
        "# training\n",
        "const_threshold = 5\n",
        "\n",
        "val_auc_mean = 0\n",
        "best_val_auc = 0.8887\n",
        "const_cnt = 0\n",
        "\n",
        "for epoch in range(4):\n",
        "\n",
        "    for idx, data in enumerate(trainloader):\n",
        "      train_data, train_labels = data\n",
        "      train_data, train_labels  = train_data.cuda(), train_labels.cuda()\n",
        "      y_pred = model(train_data)\n",
        "      y_pred = torch.sigmoid(y_pred)\n",
        "      loss = Loss(y_pred, train_labels)\n",
        "\n",
        "      optimizer.zero_grad()\n",
        "      loss.backward()\n",
        "      optimizer.step()\n",
        "        \n",
        "      # validation  \n",
        "      if idx % 400 == 0:\n",
        "         model.eval()\n",
        "         with torch.no_grad():    \n",
        "              test_pred = []\n",
        "              test_true = [] \n",
        "              for data in testloader:\n",
        "                  test_data, test_labels = data\n",
        "                  test_data = test_data.cuda()\n",
        "                  y_pred = model(test_data)\n",
        "                  y_pred = torch.sigmoid(y_pred)\n",
        "                  test_pred.append(y_pred.cpu().detach().numpy())            \n",
        "                  test_true.append(test_labels.numpy())\n",
        "            \n",
        "              test_true = np.concatenate(test_true)\n",
        "              test_pred = np.concatenate(test_pred)\n",
        "              val_auc_mean =  roc_auc_score(test_true, test_pred) \n",
        "              model.train()\n",
        "\n",
        "              if best_val_auc < val_auc_mean:\n",
        "                  const_cnt = 0\n",
        "                  scheduler = lr_scheduler.StepLR(optimizer, step_size=5, gamma=0.5)\n",
        "                  best_val_auc = val_auc_mean\n",
        "                  torch.save(model.state_dict(), save_weights_path)\n",
        "              else:\n",
        "                  const_cnt += 1\n",
        "                  scheduler.step()            \n",
        "\n",
        "              if (const_cnt > const_threshold):\n",
        "                  const_cnt = 0 \n",
        "                  scheduler = lr_scheduler.StepLR(optimizer, step_size=5, gamma=0.5)\n",
        "                  model.load_state_dict(torch.load(save_weights_path))\n",
        "                               \n",
        "              lr = get_lr(optimizer)\n",
        "\n",
        "              print ('Epoch=%s, BatchID=%s, Val_AUC=%.4f, Best_Val_AUC=%.4f, lr=%f' %(epoch, idx, val_auc_mean, best_val_auc, lr))"
      ]
    },
    {
      "cell_type": "code",
      "execution_count": 14,
      "metadata": {
        "id": "vcOQiYC1Hj32"
      },
      "outputs": [],
      "source": [
        "root = '/content/'\n",
        "testGen =  MyGen(image_root_path=root, \n",
        "                 csv_path='CheXpert-v1.0-small/valid.csv', \n",
        "                 image_size=224, \n",
        "                 frontal=True)\n",
        "\n",
        "testloader =  torch.utils.data.DataLoader(testGen, batch_size=1, shuffle=False)"
      ]
    },
    {
      "cell_type": "code",
      "execution_count": 16,
      "metadata": {
        "id": "GEK6mJxhq31H"
      },
      "outputs": [],
      "source": [
        "#model.load_state_dict(torch.load(save_weights_path))"
      ]
    },
    {
      "cell_type": "code",
      "execution_count": 20,
      "metadata": {
        "id": "zpe-z8zxDyrG"
      },
      "outputs": [],
      "source": [
        "model.eval()\n",
        "with torch.no_grad():    \n",
        "    test_pred = []\n",
        "    test_true = [] \n",
        "    for data in testloader:\n",
        "        test_data, test_labels = data\n",
        "        test_data = test_data #.cuda()\n",
        "        y_pred = model(test_data)\n",
        "        y_pred = torch.sigmoid(y_pred)\n",
        "        test_pred.append(y_pred.cpu().detach().numpy())\n",
        "        test_true.append(test_labels.numpy())\n",
        "  \n",
        "    test_true = np.concatenate(test_true)\n",
        "    test_pred = np.concatenate(test_pred)"
      ]
    },
    {
      "cell_type": "code",
      "execution_count": 21,
      "metadata": {
        "id": "fv7xxNPVOsS5"
      },
      "outputs": [],
      "source": [
        "labels = ['Cardiomegaly', 'Edema', 'Consolidation', 'Atelectasis', 'Pleural Effusion']\n",
        "\n",
        "results = pd.DataFrame(index=labels)\n",
        "\n",
        "\n",
        "scores = []\n",
        "for i in range(5):\n",
        "    score = roc_auc_score(test_true[:, i], test_pred[:, i])\n",
        "    scores.append(score)\n",
        "    \n",
        "results['AUC'] = scores"
      ]
    },
    {
      "cell_type": "code",
      "execution_count": 22,
      "metadata": {
        "colab": {
          "base_uri": "https://localhost:8080/",
          "height": 206
        },
        "id": "_dtjEgiROuS3",
        "outputId": "31e0bc38-99f6-400a-b518-4e0369b8b908"
      },
      "outputs": [
        {
          "output_type": "execute_result",
          "data": {
            "text/plain": [
              "                       AUC\n",
              "Cardiomegaly      0.816734\n",
              "Edema             0.944643\n",
              "Consolidation     0.912132\n",
              "Atelectasis       0.847769\n",
              "Pleural Effusion  0.942595"
            ],
            "text/html": [
              "\n",
              "  <div id=\"df-c6bb2dbb-d29a-4f68-a659-f2e009e4d63b\">\n",
              "    <div class=\"colab-df-container\">\n",
              "      <div>\n",
              "<style scoped>\n",
              "    .dataframe tbody tr th:only-of-type {\n",
              "        vertical-align: middle;\n",
              "    }\n",
              "\n",
              "    .dataframe tbody tr th {\n",
              "        vertical-align: top;\n",
              "    }\n",
              "\n",
              "    .dataframe thead th {\n",
              "        text-align: right;\n",
              "    }\n",
              "</style>\n",
              "<table border=\"1\" class=\"dataframe\">\n",
              "  <thead>\n",
              "    <tr style=\"text-align: right;\">\n",
              "      <th></th>\n",
              "      <th>AUC</th>\n",
              "    </tr>\n",
              "  </thead>\n",
              "  <tbody>\n",
              "    <tr>\n",
              "      <th>Cardiomegaly</th>\n",
              "      <td>0.816734</td>\n",
              "    </tr>\n",
              "    <tr>\n",
              "      <th>Edema</th>\n",
              "      <td>0.944643</td>\n",
              "    </tr>\n",
              "    <tr>\n",
              "      <th>Consolidation</th>\n",
              "      <td>0.912132</td>\n",
              "    </tr>\n",
              "    <tr>\n",
              "      <th>Atelectasis</th>\n",
              "      <td>0.847769</td>\n",
              "    </tr>\n",
              "    <tr>\n",
              "      <th>Pleural Effusion</th>\n",
              "      <td>0.942595</td>\n",
              "    </tr>\n",
              "  </tbody>\n",
              "</table>\n",
              "</div>\n",
              "      <button class=\"colab-df-convert\" onclick=\"convertToInteractive('df-c6bb2dbb-d29a-4f68-a659-f2e009e4d63b')\"\n",
              "              title=\"Convert this dataframe to an interactive table.\"\n",
              "              style=\"display:none;\">\n",
              "        \n",
              "  <svg xmlns=\"http://www.w3.org/2000/svg\" height=\"24px\"viewBox=\"0 0 24 24\"\n",
              "       width=\"24px\">\n",
              "    <path d=\"M0 0h24v24H0V0z\" fill=\"none\"/>\n",
              "    <path d=\"M18.56 5.44l.94 2.06.94-2.06 2.06-.94-2.06-.94-.94-2.06-.94 2.06-2.06.94zm-11 1L8.5 8.5l.94-2.06 2.06-.94-2.06-.94L8.5 2.5l-.94 2.06-2.06.94zm10 10l.94 2.06.94-2.06 2.06-.94-2.06-.94-.94-2.06-.94 2.06-2.06.94z\"/><path d=\"M17.41 7.96l-1.37-1.37c-.4-.4-.92-.59-1.43-.59-.52 0-1.04.2-1.43.59L10.3 9.45l-7.72 7.72c-.78.78-.78 2.05 0 2.83L4 21.41c.39.39.9.59 1.41.59.51 0 1.02-.2 1.41-.59l7.78-7.78 2.81-2.81c.8-.78.8-2.07 0-2.86zM5.41 20L4 18.59l7.72-7.72 1.47 1.35L5.41 20z\"/>\n",
              "  </svg>\n",
              "      </button>\n",
              "      \n",
              "  <style>\n",
              "    .colab-df-container {\n",
              "      display:flex;\n",
              "      flex-wrap:wrap;\n",
              "      gap: 12px;\n",
              "    }\n",
              "\n",
              "    .colab-df-convert {\n",
              "      background-color: #E8F0FE;\n",
              "      border: none;\n",
              "      border-radius: 50%;\n",
              "      cursor: pointer;\n",
              "      display: none;\n",
              "      fill: #1967D2;\n",
              "      height: 32px;\n",
              "      padding: 0 0 0 0;\n",
              "      width: 32px;\n",
              "    }\n",
              "\n",
              "    .colab-df-convert:hover {\n",
              "      background-color: #E2EBFA;\n",
              "      box-shadow: 0px 1px 2px rgba(60, 64, 67, 0.3), 0px 1px 3px 1px rgba(60, 64, 67, 0.15);\n",
              "      fill: #174EA6;\n",
              "    }\n",
              "\n",
              "    [theme=dark] .colab-df-convert {\n",
              "      background-color: #3B4455;\n",
              "      fill: #D2E3FC;\n",
              "    }\n",
              "\n",
              "    [theme=dark] .colab-df-convert:hover {\n",
              "      background-color: #434B5C;\n",
              "      box-shadow: 0px 1px 3px 1px rgba(0, 0, 0, 0.15);\n",
              "      filter: drop-shadow(0px 1px 2px rgba(0, 0, 0, 0.3));\n",
              "      fill: #FFFFFF;\n",
              "    }\n",
              "  </style>\n",
              "\n",
              "      <script>\n",
              "        const buttonEl =\n",
              "          document.querySelector('#df-c6bb2dbb-d29a-4f68-a659-f2e009e4d63b button.colab-df-convert');\n",
              "        buttonEl.style.display =\n",
              "          google.colab.kernel.accessAllowed ? 'block' : 'none';\n",
              "\n",
              "        async function convertToInteractive(key) {\n",
              "          const element = document.querySelector('#df-c6bb2dbb-d29a-4f68-a659-f2e009e4d63b');\n",
              "          const dataTable =\n",
              "            await google.colab.kernel.invokeFunction('convertToInteractive',\n",
              "                                                     [key], {});\n",
              "          if (!dataTable) return;\n",
              "\n",
              "          const docLinkHtml = 'Like what you see? Visit the ' +\n",
              "            '<a target=\"_blank\" href=https://colab.research.google.com/notebooks/data_table.ipynb>data table notebook</a>'\n",
              "            + ' to learn more about interactive tables.';\n",
              "          element.innerHTML = '';\n",
              "          dataTable['output_type'] = 'display_data';\n",
              "          await google.colab.output.renderOutput(dataTable, element);\n",
              "          const docLink = document.createElement('div');\n",
              "          docLink.innerHTML = docLinkHtml;\n",
              "          element.appendChild(docLink);\n",
              "        }\n",
              "      </script>\n",
              "    </div>\n",
              "  </div>\n",
              "  "
            ]
          },
          "metadata": {},
          "execution_count": 22
        }
      ],
      "source": [
        "results"
      ]
    },
    {
      "cell_type": "code",
      "execution_count": 23,
      "metadata": {
        "colab": {
          "base_uri": "https://localhost:8080/"
        },
        "id": "7EjD7DhEOv0T",
        "outputId": "335bbf1a-a15d-4c6f-b410-47ed4db06c06"
      },
      "outputs": [
        {
          "output_type": "execute_result",
          "data": {
            "text/plain": [
              "0.8927745718475059"
            ]
          },
          "metadata": {},
          "execution_count": 23
        }
      ],
      "source": [
        "results['AUC'].mean()"
      ]
    },
    {
      "cell_type": "code",
      "execution_count": null,
      "metadata": {
        "id": "ofpZ-E3mxK2j"
      },
      "outputs": [],
      "source": [
        ""
      ]
    }
  ],
  "metadata": {
    "accelerator": "GPU",
    "colab": {
      "collapsed_sections": [],
      "name": "xception_new.ipynb",
      "provenance": []
    },
    "kernelspec": {
      "display_name": "Python 3 (ipykernel)",
      "language": "python",
      "name": "python3"
    },
    "language_info": {
      "codemirror_mode": {
        "name": "ipython",
        "version": 3
      },
      "file_extension": ".py",
      "mimetype": "text/x-python",
      "name": "python",
      "nbconvert_exporter": "python",
      "pygments_lexer": "ipython3",
      "version": "3.9.7"
    }
  },
  "nbformat": 4,
  "nbformat_minor": 0
}