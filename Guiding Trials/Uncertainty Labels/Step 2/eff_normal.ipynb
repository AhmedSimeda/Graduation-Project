{
  "cells": [
    {
      "cell_type": "code",
      "execution_count": 1,
      "metadata": {
        "colab": {
          "base_uri": "https://localhost:8080/"
        },
        "id": "1BFMewjPicrE",
        "outputId": "b80d7122-b8e7-489f-fea3-bcca1a3f98b5"
      },
      "outputs": [
        {
          "output_type": "stream",
          "name": "stdout",
          "text": [
            "GPU 0: Tesla T4 (UUID: GPU-65c6fbe3-9da8-df49-9f7e-3f3bb55ae785)\n"
          ]
        }
      ],
      "source": [
        "!nvidia-smi -L"
      ]
    },
    {
      "cell_type": "code",
      "execution_count": 2,
      "metadata": {
        "colab": {
          "base_uri": "https://localhost:8080/"
        },
        "id": "UbCQhIOOOYD6",
        "outputId": "131a2238-4bfa-4984-867d-4834069b4f8a"
      },
      "outputs": [
        {
          "output_type": "stream",
          "name": "stdout",
          "text": [
            "Mounted at /content/drive\n"
          ]
        }
      ],
      "source": [
        "from google.colab import drive\n",
        "drive.mount('/content/drive')"
      ]
    },
    {
      "cell_type": "code",
      "execution_count": 3,
      "metadata": {
        "id": "ezLUMrGkOhNJ"
      },
      "outputs": [],
      "source": [
        "!unzip /content/drive/MyDrive/Graduation_Project/CheXpert-v1.0-small.zip > /dev/null"
      ]
    },
    {
      "cell_type": "code",
      "execution_count": 4,
      "metadata": {
        "id": "_8dlabuqhhwh"
      },
      "outputs": [],
      "source": [
        "!pip install timm > /dev/null"
      ]
    },
    {
      "cell_type": "code",
      "execution_count": 5,
      "metadata": {
        "id": "HV-lvLWUOi9V"
      },
      "outputs": [],
      "source": [
        "import cv2\n",
        "import numpy as np \n",
        "import pandas as pd\n",
        "\n",
        "import matplotlib.pyplot as plt\n",
        "\n",
        "import torch \n",
        "from torch import nn\n",
        "from torchsummary import summary\n",
        "\n",
        "import timm\n",
        "from torch.optim import Adam, lr_scheduler\n",
        "\n",
        "from myGen import MyGen\n",
        "\n",
        "from sklearn.metrics import roc_auc_score"
      ]
    },
    {
      "cell_type": "code",
      "execution_count": 6,
      "metadata": {
        "id": "aDfe4k8_jXW3"
      },
      "outputs": [],
      "source": [
        "train = pd.read_csv('/content/CheXpert-v1.0-small/train.csv')"
      ]
    },
    {
      "cell_type": "code",
      "execution_count": 7,
      "metadata": {
        "id": "bmWkX4FljjbT"
      },
      "outputs": [],
      "source": [
        "train.loc[:, train.columns[5:]] = train.loc[:, train.columns[5:]].fillna(0)\n",
        "\n",
        "zeros = ['Cardiomegaly', 'Consolidation', 'Pleural Effusion']\n",
        "train.loc[:, zeros] = train.loc[:, zeros].replace({-1:0})\n",
        "ones = ['Edema', 'Atelectasis']\n",
        "train.loc[:, ones] = train.loc[:, ones].replace({-1:1})\n",
        "\n",
        "train = train[['Path', 'Frontal/Lateral', 'Cardiomegaly', 'Edema', 'Consolidation', 'Atelectasis', 'Pleural Effusion']].copy() "
      ]
    },
    {
      "cell_type": "code",
      "execution_count": 8,
      "metadata": {
        "id": "ze6PDyvtkQR6"
      },
      "outputs": [],
      "source": [
        "train.to_csv('/content/CheXpert-v1.0-small/train_edited.csv', index=False)"
      ]
    },
    {
      "cell_type": "code",
      "execution_count": 9,
      "metadata": {
        "id": "WhX4hTCnAt68"
      },
      "outputs": [],
      "source": [
        "save_weights_path = '/content/drive/MyDrive/Graduation_Project/eff_normal.pth' #edit\n",
        "load_weights_path = '/content/drive/MyDrive/Graduation_Project/eff_normal.pth' #edit"
      ]
    },
    {
      "cell_type": "code",
      "execution_count": 10,
      "metadata": {
        "id": "B1Ccjd9kMYX6",
        "colab": {
          "base_uri": "https://localhost:8080/"
        },
        "outputId": "e525f735-9757-48d1-ed1f-ab84180b5a60"
      },
      "outputs": [
        {
          "output_type": "stream",
          "name": "stderr",
          "text": [
            "Downloading: \"https://github.com/rwightman/pytorch-image-models/releases/download/v0.1-weights/efficientnet_b0_ra-3dd342df.pth\" to /root/.cache/torch/hub/checkpoints/efficientnet_b0_ra-3dd342df.pth\n"
          ]
        },
        {
          "output_type": "stream",
          "name": "stdout",
          "text": [
            "----------------------------------------------------------------\n",
            "        Layer (type)               Output Shape         Param #\n",
            "================================================================\n",
            "            Conv2d-1         [64, 32, 112, 112]             864\n",
            "       BatchNorm2d-2         [64, 32, 112, 112]              64\n",
            "              SiLU-3         [64, 32, 112, 112]               0\n",
            "            Conv2d-4         [64, 32, 112, 112]             288\n",
            "       BatchNorm2d-5         [64, 32, 112, 112]              64\n",
            "              SiLU-6         [64, 32, 112, 112]               0\n",
            "            Conv2d-7              [64, 8, 1, 1]             264\n",
            "              SiLU-8              [64, 8, 1, 1]               0\n",
            "            Conv2d-9             [64, 32, 1, 1]             288\n",
            "          Sigmoid-10             [64, 32, 1, 1]               0\n",
            "    SqueezeExcite-11         [64, 32, 112, 112]               0\n",
            "           Conv2d-12         [64, 16, 112, 112]             512\n",
            "      BatchNorm2d-13         [64, 16, 112, 112]              32\n",
            "         Identity-14         [64, 16, 112, 112]               0\n",
            "DepthwiseSeparableConv-15         [64, 16, 112, 112]               0\n",
            "           Conv2d-16         [64, 96, 112, 112]           1,536\n",
            "      BatchNorm2d-17         [64, 96, 112, 112]             192\n",
            "             SiLU-18         [64, 96, 112, 112]               0\n",
            "           Conv2d-19           [64, 96, 56, 56]             864\n",
            "      BatchNorm2d-20           [64, 96, 56, 56]             192\n",
            "             SiLU-21           [64, 96, 56, 56]               0\n",
            "           Conv2d-22              [64, 4, 1, 1]             388\n",
            "             SiLU-23              [64, 4, 1, 1]               0\n",
            "           Conv2d-24             [64, 96, 1, 1]             480\n",
            "          Sigmoid-25             [64, 96, 1, 1]               0\n",
            "    SqueezeExcite-26           [64, 96, 56, 56]               0\n",
            "           Conv2d-27           [64, 24, 56, 56]           2,304\n",
            "      BatchNorm2d-28           [64, 24, 56, 56]              48\n",
            " InvertedResidual-29           [64, 24, 56, 56]               0\n",
            "           Conv2d-30          [64, 144, 56, 56]           3,456\n",
            "      BatchNorm2d-31          [64, 144, 56, 56]             288\n",
            "             SiLU-32          [64, 144, 56, 56]               0\n",
            "           Conv2d-33          [64, 144, 56, 56]           1,296\n",
            "      BatchNorm2d-34          [64, 144, 56, 56]             288\n",
            "             SiLU-35          [64, 144, 56, 56]               0\n",
            "           Conv2d-36              [64, 6, 1, 1]             870\n",
            "             SiLU-37              [64, 6, 1, 1]               0\n",
            "           Conv2d-38            [64, 144, 1, 1]           1,008\n",
            "          Sigmoid-39            [64, 144, 1, 1]               0\n",
            "    SqueezeExcite-40          [64, 144, 56, 56]               0\n",
            "           Conv2d-41           [64, 24, 56, 56]           3,456\n",
            "      BatchNorm2d-42           [64, 24, 56, 56]              48\n",
            " InvertedResidual-43           [64, 24, 56, 56]               0\n",
            "           Conv2d-44          [64, 144, 56, 56]           3,456\n",
            "      BatchNorm2d-45          [64, 144, 56, 56]             288\n",
            "             SiLU-46          [64, 144, 56, 56]               0\n",
            "           Conv2d-47          [64, 144, 28, 28]           3,600\n",
            "      BatchNorm2d-48          [64, 144, 28, 28]             288\n",
            "             SiLU-49          [64, 144, 28, 28]               0\n",
            "           Conv2d-50              [64, 6, 1, 1]             870\n",
            "             SiLU-51              [64, 6, 1, 1]               0\n",
            "           Conv2d-52            [64, 144, 1, 1]           1,008\n",
            "          Sigmoid-53            [64, 144, 1, 1]               0\n",
            "    SqueezeExcite-54          [64, 144, 28, 28]               0\n",
            "           Conv2d-55           [64, 40, 28, 28]           5,760\n",
            "      BatchNorm2d-56           [64, 40, 28, 28]              80\n",
            " InvertedResidual-57           [64, 40, 28, 28]               0\n",
            "           Conv2d-58          [64, 240, 28, 28]           9,600\n",
            "      BatchNorm2d-59          [64, 240, 28, 28]             480\n",
            "             SiLU-60          [64, 240, 28, 28]               0\n",
            "           Conv2d-61          [64, 240, 28, 28]           6,000\n",
            "      BatchNorm2d-62          [64, 240, 28, 28]             480\n",
            "             SiLU-63          [64, 240, 28, 28]               0\n",
            "           Conv2d-64             [64, 10, 1, 1]           2,410\n",
            "             SiLU-65             [64, 10, 1, 1]               0\n",
            "           Conv2d-66            [64, 240, 1, 1]           2,640\n",
            "          Sigmoid-67            [64, 240, 1, 1]               0\n",
            "    SqueezeExcite-68          [64, 240, 28, 28]               0\n",
            "           Conv2d-69           [64, 40, 28, 28]           9,600\n",
            "      BatchNorm2d-70           [64, 40, 28, 28]              80\n",
            " InvertedResidual-71           [64, 40, 28, 28]               0\n",
            "           Conv2d-72          [64, 240, 28, 28]           9,600\n",
            "      BatchNorm2d-73          [64, 240, 28, 28]             480\n",
            "             SiLU-74          [64, 240, 28, 28]               0\n",
            "           Conv2d-75          [64, 240, 14, 14]           2,160\n",
            "      BatchNorm2d-76          [64, 240, 14, 14]             480\n",
            "             SiLU-77          [64, 240, 14, 14]               0\n",
            "           Conv2d-78             [64, 10, 1, 1]           2,410\n",
            "             SiLU-79             [64, 10, 1, 1]               0\n",
            "           Conv2d-80            [64, 240, 1, 1]           2,640\n",
            "          Sigmoid-81            [64, 240, 1, 1]               0\n",
            "    SqueezeExcite-82          [64, 240, 14, 14]               0\n",
            "           Conv2d-83           [64, 80, 14, 14]          19,200\n",
            "      BatchNorm2d-84           [64, 80, 14, 14]             160\n",
            " InvertedResidual-85           [64, 80, 14, 14]               0\n",
            "           Conv2d-86          [64, 480, 14, 14]          38,400\n",
            "      BatchNorm2d-87          [64, 480, 14, 14]             960\n",
            "             SiLU-88          [64, 480, 14, 14]               0\n",
            "           Conv2d-89          [64, 480, 14, 14]           4,320\n",
            "      BatchNorm2d-90          [64, 480, 14, 14]             960\n",
            "             SiLU-91          [64, 480, 14, 14]               0\n",
            "           Conv2d-92             [64, 20, 1, 1]           9,620\n",
            "             SiLU-93             [64, 20, 1, 1]               0\n",
            "           Conv2d-94            [64, 480, 1, 1]          10,080\n",
            "          Sigmoid-95            [64, 480, 1, 1]               0\n",
            "    SqueezeExcite-96          [64, 480, 14, 14]               0\n",
            "           Conv2d-97           [64, 80, 14, 14]          38,400\n",
            "      BatchNorm2d-98           [64, 80, 14, 14]             160\n",
            " InvertedResidual-99           [64, 80, 14, 14]               0\n",
            "          Conv2d-100          [64, 480, 14, 14]          38,400\n",
            "     BatchNorm2d-101          [64, 480, 14, 14]             960\n",
            "            SiLU-102          [64, 480, 14, 14]               0\n",
            "          Conv2d-103          [64, 480, 14, 14]           4,320\n",
            "     BatchNorm2d-104          [64, 480, 14, 14]             960\n",
            "            SiLU-105          [64, 480, 14, 14]               0\n",
            "          Conv2d-106             [64, 20, 1, 1]           9,620\n",
            "            SiLU-107             [64, 20, 1, 1]               0\n",
            "          Conv2d-108            [64, 480, 1, 1]          10,080\n",
            "         Sigmoid-109            [64, 480, 1, 1]               0\n",
            "   SqueezeExcite-110          [64, 480, 14, 14]               0\n",
            "          Conv2d-111           [64, 80, 14, 14]          38,400\n",
            "     BatchNorm2d-112           [64, 80, 14, 14]             160\n",
            "InvertedResidual-113           [64, 80, 14, 14]               0\n",
            "          Conv2d-114          [64, 480, 14, 14]          38,400\n",
            "     BatchNorm2d-115          [64, 480, 14, 14]             960\n",
            "            SiLU-116          [64, 480, 14, 14]               0\n",
            "          Conv2d-117          [64, 480, 14, 14]          12,000\n",
            "     BatchNorm2d-118          [64, 480, 14, 14]             960\n",
            "            SiLU-119          [64, 480, 14, 14]               0\n",
            "          Conv2d-120             [64, 20, 1, 1]           9,620\n",
            "            SiLU-121             [64, 20, 1, 1]               0\n",
            "          Conv2d-122            [64, 480, 1, 1]          10,080\n",
            "         Sigmoid-123            [64, 480, 1, 1]               0\n",
            "   SqueezeExcite-124          [64, 480, 14, 14]               0\n",
            "          Conv2d-125          [64, 112, 14, 14]          53,760\n",
            "     BatchNorm2d-126          [64, 112, 14, 14]             224\n",
            "InvertedResidual-127          [64, 112, 14, 14]               0\n",
            "          Conv2d-128          [64, 672, 14, 14]          75,264\n",
            "     BatchNorm2d-129          [64, 672, 14, 14]           1,344\n",
            "            SiLU-130          [64, 672, 14, 14]               0\n",
            "          Conv2d-131          [64, 672, 14, 14]          16,800\n",
            "     BatchNorm2d-132          [64, 672, 14, 14]           1,344\n",
            "            SiLU-133          [64, 672, 14, 14]               0\n",
            "          Conv2d-134             [64, 28, 1, 1]          18,844\n",
            "            SiLU-135             [64, 28, 1, 1]               0\n",
            "          Conv2d-136            [64, 672, 1, 1]          19,488\n",
            "         Sigmoid-137            [64, 672, 1, 1]               0\n",
            "   SqueezeExcite-138          [64, 672, 14, 14]               0\n",
            "          Conv2d-139          [64, 112, 14, 14]          75,264\n",
            "     BatchNorm2d-140          [64, 112, 14, 14]             224\n",
            "InvertedResidual-141          [64, 112, 14, 14]               0\n",
            "          Conv2d-142          [64, 672, 14, 14]          75,264\n",
            "     BatchNorm2d-143          [64, 672, 14, 14]           1,344\n",
            "            SiLU-144          [64, 672, 14, 14]               0\n",
            "          Conv2d-145          [64, 672, 14, 14]          16,800\n",
            "     BatchNorm2d-146          [64, 672, 14, 14]           1,344\n",
            "            SiLU-147          [64, 672, 14, 14]               0\n",
            "          Conv2d-148             [64, 28, 1, 1]          18,844\n",
            "            SiLU-149             [64, 28, 1, 1]               0\n",
            "          Conv2d-150            [64, 672, 1, 1]          19,488\n",
            "         Sigmoid-151            [64, 672, 1, 1]               0\n",
            "   SqueezeExcite-152          [64, 672, 14, 14]               0\n",
            "          Conv2d-153          [64, 112, 14, 14]          75,264\n",
            "     BatchNorm2d-154          [64, 112, 14, 14]             224\n",
            "InvertedResidual-155          [64, 112, 14, 14]               0\n",
            "          Conv2d-156          [64, 672, 14, 14]          75,264\n",
            "     BatchNorm2d-157          [64, 672, 14, 14]           1,344\n",
            "            SiLU-158          [64, 672, 14, 14]               0\n",
            "          Conv2d-159            [64, 672, 7, 7]          16,800\n",
            "     BatchNorm2d-160            [64, 672, 7, 7]           1,344\n",
            "            SiLU-161            [64, 672, 7, 7]               0\n",
            "          Conv2d-162             [64, 28, 1, 1]          18,844\n",
            "            SiLU-163             [64, 28, 1, 1]               0\n",
            "          Conv2d-164            [64, 672, 1, 1]          19,488\n",
            "         Sigmoid-165            [64, 672, 1, 1]               0\n",
            "   SqueezeExcite-166            [64, 672, 7, 7]               0\n",
            "          Conv2d-167            [64, 192, 7, 7]         129,024\n",
            "     BatchNorm2d-168            [64, 192, 7, 7]             384\n",
            "InvertedResidual-169            [64, 192, 7, 7]               0\n",
            "          Conv2d-170           [64, 1152, 7, 7]         221,184\n",
            "     BatchNorm2d-171           [64, 1152, 7, 7]           2,304\n",
            "            SiLU-172           [64, 1152, 7, 7]               0\n",
            "          Conv2d-173           [64, 1152, 7, 7]          28,800\n",
            "     BatchNorm2d-174           [64, 1152, 7, 7]           2,304\n",
            "            SiLU-175           [64, 1152, 7, 7]               0\n",
            "          Conv2d-176             [64, 48, 1, 1]          55,344\n",
            "            SiLU-177             [64, 48, 1, 1]               0\n",
            "          Conv2d-178           [64, 1152, 1, 1]          56,448\n",
            "         Sigmoid-179           [64, 1152, 1, 1]               0\n",
            "   SqueezeExcite-180           [64, 1152, 7, 7]               0\n",
            "          Conv2d-181            [64, 192, 7, 7]         221,184\n",
            "     BatchNorm2d-182            [64, 192, 7, 7]             384\n",
            "InvertedResidual-183            [64, 192, 7, 7]               0\n",
            "          Conv2d-184           [64, 1152, 7, 7]         221,184\n",
            "     BatchNorm2d-185           [64, 1152, 7, 7]           2,304\n",
            "            SiLU-186           [64, 1152, 7, 7]               0\n",
            "          Conv2d-187           [64, 1152, 7, 7]          28,800\n",
            "     BatchNorm2d-188           [64, 1152, 7, 7]           2,304\n",
            "            SiLU-189           [64, 1152, 7, 7]               0\n",
            "          Conv2d-190             [64, 48, 1, 1]          55,344\n",
            "            SiLU-191             [64, 48, 1, 1]               0\n",
            "          Conv2d-192           [64, 1152, 1, 1]          56,448\n",
            "         Sigmoid-193           [64, 1152, 1, 1]               0\n",
            "   SqueezeExcite-194           [64, 1152, 7, 7]               0\n",
            "          Conv2d-195            [64, 192, 7, 7]         221,184\n",
            "     BatchNorm2d-196            [64, 192, 7, 7]             384\n",
            "InvertedResidual-197            [64, 192, 7, 7]               0\n",
            "          Conv2d-198           [64, 1152, 7, 7]         221,184\n",
            "     BatchNorm2d-199           [64, 1152, 7, 7]           2,304\n",
            "            SiLU-200           [64, 1152, 7, 7]               0\n",
            "          Conv2d-201           [64, 1152, 7, 7]          28,800\n",
            "     BatchNorm2d-202           [64, 1152, 7, 7]           2,304\n",
            "            SiLU-203           [64, 1152, 7, 7]               0\n",
            "          Conv2d-204             [64, 48, 1, 1]          55,344\n",
            "            SiLU-205             [64, 48, 1, 1]               0\n",
            "          Conv2d-206           [64, 1152, 1, 1]          56,448\n",
            "         Sigmoid-207           [64, 1152, 1, 1]               0\n",
            "   SqueezeExcite-208           [64, 1152, 7, 7]               0\n",
            "          Conv2d-209            [64, 192, 7, 7]         221,184\n",
            "     BatchNorm2d-210            [64, 192, 7, 7]             384\n",
            "InvertedResidual-211            [64, 192, 7, 7]               0\n",
            "          Conv2d-212           [64, 1152, 7, 7]         221,184\n",
            "     BatchNorm2d-213           [64, 1152, 7, 7]           2,304\n",
            "            SiLU-214           [64, 1152, 7, 7]               0\n",
            "          Conv2d-215           [64, 1152, 7, 7]          10,368\n",
            "     BatchNorm2d-216           [64, 1152, 7, 7]           2,304\n",
            "            SiLU-217           [64, 1152, 7, 7]               0\n",
            "          Conv2d-218             [64, 48, 1, 1]          55,344\n",
            "            SiLU-219             [64, 48, 1, 1]               0\n",
            "          Conv2d-220           [64, 1152, 1, 1]          56,448\n",
            "         Sigmoid-221           [64, 1152, 1, 1]               0\n",
            "   SqueezeExcite-222           [64, 1152, 7, 7]               0\n",
            "          Conv2d-223            [64, 320, 7, 7]         368,640\n",
            "     BatchNorm2d-224            [64, 320, 7, 7]             640\n",
            "InvertedResidual-225            [64, 320, 7, 7]               0\n",
            "          Conv2d-226           [64, 1280, 7, 7]         409,600\n",
            "     BatchNorm2d-227           [64, 1280, 7, 7]           2,560\n",
            "            SiLU-228           [64, 1280, 7, 7]               0\n",
            "AdaptiveAvgPool2d-229           [64, 1280, 1, 1]               0\n",
            "         Flatten-230                 [64, 1280]               0\n",
            "SelectAdaptivePool2d-231                 [64, 1280]               0\n",
            "          Linear-232                    [64, 5]           6,405\n",
            "================================================================\n",
            "Total params: 4,013,953\n",
            "Trainable params: 4,013,953\n",
            "Non-trainable params: 0\n",
            "----------------------------------------------------------------\n",
            "Input size (MB): 36.75\n",
            "Forward/backward pass size (MB): 11104.90\n",
            "Params size (MB): 15.31\n",
            "Estimated Total Size (MB): 11156.97\n",
            "----------------------------------------------------------------\n"
          ]
        }
      ],
      "source": [
        "model = timm.create_model('efficientnet_b0', num_classes=5, pretrained=True) #edit\n",
        "model = model.cuda()\n",
        "\n",
        "summary(model, (3, 224, 224), batch_size=64, device='cuda')"
      ]
    },
    {
      "cell_type": "code",
      "execution_count": 11,
      "metadata": {
        "id": "rteLJ084NtTA"
      },
      "outputs": [],
      "source": [
        "def get_lr(optimizer):\n",
        "    for param_group in optimizer.param_groups:\n",
        "        return param_group['lr']"
      ]
    },
    {
      "cell_type": "code",
      "execution_count": 12,
      "metadata": {
        "id": "h1-qVWyinYT5",
        "colab": {
          "base_uri": "https://localhost:8080/"
        },
        "outputId": "9a3554ba-dc17-43e4-a6d0-a9ea8c14c3ba"
      },
      "outputs": [
        {
          "output_type": "stream",
          "name": "stdout",
          "text": [
            "Epoch=0, BatchID=0, Val_AUC=0.5389, Best_Val_AUC=0.5389, lr=0.001000\n",
            "Epoch=0, BatchID=400, Val_AUC=0.8435, Best_Val_AUC=0.8435, lr=0.001000\n",
            "Epoch=0, BatchID=800, Val_AUC=0.8744, Best_Val_AUC=0.8744, lr=0.001000\n",
            "Epoch=0, BatchID=1200, Val_AUC=0.8760, Best_Val_AUC=0.8760, lr=0.001000\n",
            "Epoch=0, BatchID=1600, Val_AUC=0.8755, Best_Val_AUC=0.8760, lr=0.001000\n",
            "Epoch=0, BatchID=2000, Val_AUC=0.8793, Best_Val_AUC=0.8793, lr=0.001000\n",
            "Epoch=0, BatchID=2400, Val_AUC=0.8900, Best_Val_AUC=0.8900, lr=0.001000\n",
            "Epoch=0, BatchID=2800, Val_AUC=0.8700, Best_Val_AUC=0.8900, lr=0.001000\n",
            "Epoch=1, BatchID=0, Val_AUC=0.8679, Best_Val_AUC=0.8900, lr=0.001000\n",
            "Epoch=1, BatchID=400, Val_AUC=0.8552, Best_Val_AUC=0.8900, lr=0.001000\n",
            "Epoch=1, BatchID=800, Val_AUC=0.8665, Best_Val_AUC=0.8900, lr=0.001000\n",
            "Epoch=1, BatchID=1200, Val_AUC=0.8819, Best_Val_AUC=0.8900, lr=0.000500\n",
            "Epoch=1, BatchID=1600, Val_AUC=0.8887, Best_Val_AUC=0.8900, lr=0.000500\n",
            "Epoch=1, BatchID=2000, Val_AUC=0.8870, Best_Val_AUC=0.8900, lr=0.000500\n",
            "Epoch=1, BatchID=2400, Val_AUC=0.8865, Best_Val_AUC=0.8900, lr=0.000500\n",
            "Epoch=1, BatchID=2800, Val_AUC=0.8794, Best_Val_AUC=0.8900, lr=0.000500\n",
            "Epoch=2, BatchID=0, Val_AUC=0.8856, Best_Val_AUC=0.8900, lr=0.000500\n",
            "Epoch=2, BatchID=400, Val_AUC=0.8808, Best_Val_AUC=0.8900, lr=0.000250\n",
            "Epoch=2, BatchID=800, Val_AUC=0.8779, Best_Val_AUC=0.8900, lr=0.000250\n",
            "Epoch=2, BatchID=1200, Val_AUC=0.8904, Best_Val_AUC=0.8904, lr=0.000250\n",
            "Epoch=2, BatchID=1600, Val_AUC=0.8865, Best_Val_AUC=0.8904, lr=0.000250\n",
            "Epoch=2, BatchID=2000, Val_AUC=0.8799, Best_Val_AUC=0.8904, lr=0.000250\n",
            "Epoch=2, BatchID=2400, Val_AUC=0.8764, Best_Val_AUC=0.8904, lr=0.000250\n",
            "Epoch=2, BatchID=2800, Val_AUC=0.8812, Best_Val_AUC=0.8904, lr=0.000250\n",
            "Epoch=3, BatchID=0, Val_AUC=0.8831, Best_Val_AUC=0.8904, lr=0.000125\n",
            "Epoch=3, BatchID=400, Val_AUC=0.8827, Best_Val_AUC=0.8904, lr=0.000125\n",
            "Epoch=3, BatchID=800, Val_AUC=0.8685, Best_Val_AUC=0.8904, lr=0.000125\n",
            "Epoch=3, BatchID=1200, Val_AUC=0.8759, Best_Val_AUC=0.8904, lr=0.000125\n",
            "Epoch=3, BatchID=1600, Val_AUC=0.8800, Best_Val_AUC=0.8904, lr=0.000125\n",
            "Epoch=3, BatchID=2000, Val_AUC=0.8877, Best_Val_AUC=0.8904, lr=0.000125\n",
            "Epoch=3, BatchID=2400, Val_AUC=0.8753, Best_Val_AUC=0.8904, lr=0.000063\n",
            "Epoch=3, BatchID=2800, Val_AUC=0.8751, Best_Val_AUC=0.8904, lr=0.000063\n",
            "Epoch=4, BatchID=0, Val_AUC=0.8812, Best_Val_AUC=0.8904, lr=0.000063\n",
            "Epoch=4, BatchID=400, Val_AUC=0.8832, Best_Val_AUC=0.8904, lr=0.000063\n",
            "Epoch=4, BatchID=800, Val_AUC=0.8828, Best_Val_AUC=0.8904, lr=0.000063\n",
            "Epoch=4, BatchID=1200, Val_AUC=0.8747, Best_Val_AUC=0.8904, lr=0.000063\n",
            "Epoch=4, BatchID=1600, Val_AUC=0.8770, Best_Val_AUC=0.8904, lr=0.000031\n",
            "Epoch=4, BatchID=2000, Val_AUC=0.8779, Best_Val_AUC=0.8904, lr=0.000031\n",
            "Epoch=4, BatchID=2400, Val_AUC=0.8819, Best_Val_AUC=0.8904, lr=0.000031\n",
            "Epoch=4, BatchID=2800, Val_AUC=0.8839, Best_Val_AUC=0.8904, lr=0.000031\n"
          ]
        }
      ],
      "source": [
        "root = '/content/'\n",
        "\n",
        "trainGen = MyGen(image_root_path=root, \n",
        "                 csv_path='CheXpert-v1.0-small/train_edited.csv', \n",
        "                 image_size=224, #edit\n",
        "                 frontal=True)\n",
        "\n",
        "valGen =  MyGen(image_root_path=root, \n",
        "                 csv_path='CheXpert-v1.0-small/valid.csv', \n",
        "                 image_size=224,  #edit\n",
        "                 frontal=True)\n",
        "\n",
        "trainloader =  torch.utils.data.DataLoader(trainGen, batch_size=64, shuffle=True)\n",
        "testloader =  torch.utils.data.DataLoader(valGen, batch_size=64, shuffle=False)\n",
        "\n",
        "# define loss & optimizer\n",
        "Loss = nn.BCELoss()\n",
        "\n",
        "optimizer = Adam(model.parameters(), lr=1e-3)\n",
        "\n",
        "scheduler = lr_scheduler.StepLR(optimizer, step_size=5, gamma=0.5)  # Decay LR by a factor of 0.5 every 5 epochs\n",
        "\n",
        "#model.load_state_dict(torch.load(load_weights_path))\n",
        "\n",
        "# training\n",
        "const_threshold = 5\n",
        "\n",
        "val_auc_mean = 0\n",
        "best_val_auc = 0\n",
        "const_cnt = 0\n",
        "\n",
        "for epoch in range(5):\n",
        "\n",
        "    for idx, data in enumerate(trainloader):\n",
        "      train_data, train_labels = data\n",
        "      train_data, train_labels  = train_data.cuda(), train_labels.cuda()\n",
        "      y_pred = model(train_data)\n",
        "      y_pred = torch.sigmoid(y_pred)\n",
        "      loss = Loss(y_pred, train_labels)\n",
        "\n",
        "      optimizer.zero_grad()\n",
        "      loss.backward()\n",
        "      optimizer.step()\n",
        "        \n",
        "      # validation  \n",
        "      if idx % 400 == 0:\n",
        "         model.eval()\n",
        "         with torch.no_grad():    \n",
        "              test_pred = []\n",
        "              test_true = [] \n",
        "              for data in testloader:\n",
        "                  test_data, test_labels = data\n",
        "                  test_data = test_data.cuda()\n",
        "                  y_pred = model(test_data)\n",
        "                  y_pred = torch.sigmoid(y_pred)\n",
        "                  test_pred.append(y_pred.cpu().detach().numpy())            \n",
        "                  test_true.append(test_labels.numpy())\n",
        "            \n",
        "              test_true = np.concatenate(test_true)\n",
        "              test_pred = np.concatenate(test_pred)\n",
        "              val_auc_mean =  roc_auc_score(test_true, test_pred) \n",
        "              model.train()\n",
        "\n",
        "              if best_val_auc < val_auc_mean:\n",
        "                  const_cnt = 0\n",
        "                  scheduler = lr_scheduler.StepLR(optimizer, step_size=5, gamma=0.5)\n",
        "                  best_val_auc = val_auc_mean\n",
        "                  torch.save(model.state_dict(), save_weights_path)\n",
        "              else:\n",
        "                  const_cnt += 1\n",
        "                  scheduler.step()            \n",
        "\n",
        "              if (const_cnt > const_threshold):\n",
        "                  const_cnt = 0 \n",
        "                  scheduler = lr_scheduler.StepLR(optimizer, step_size=5, gamma=0.5)\n",
        "                  model.load_state_dict(torch.load(save_weights_path))\n",
        "                               \n",
        "              lr = get_lr(optimizer)\n",
        "\n",
        "              print ('Epoch=%s, BatchID=%s, Val_AUC=%.4f, Best_Val_AUC=%.4f, lr=%f' %(epoch, idx, val_auc_mean, best_val_auc, lr))"
      ]
    },
    {
      "cell_type": "code",
      "execution_count": 13,
      "metadata": {
        "id": "vcOQiYC1Hj32"
      },
      "outputs": [],
      "source": [
        "root = '/content/'\n",
        "testGen =  MyGen(image_root_path=root, \n",
        "                 csv_path='CheXpert-v1.0-small/valid.csv', \n",
        "                 image_size=224, \n",
        "                 frontal=True)\n",
        "\n",
        "testloader =  torch.utils.data.DataLoader(testGen, batch_size=1, shuffle=False)"
      ]
    },
    {
      "cell_type": "code",
      "execution_count": 14,
      "metadata": {
        "id": "GEK6mJxhq31H",
        "colab": {
          "base_uri": "https://localhost:8080/"
        },
        "outputId": "841f97a0-fb13-4197-c50b-ef74a4263d32"
      },
      "outputs": [
        {
          "output_type": "execute_result",
          "data": {
            "text/plain": [
              "<All keys matched successfully>"
            ]
          },
          "metadata": {},
          "execution_count": 14
        }
      ],
      "source": [
        "model.load_state_dict(torch.load(save_weights_path))"
      ]
    },
    {
      "cell_type": "code",
      "execution_count": 15,
      "metadata": {
        "id": "zpe-z8zxDyrG"
      },
      "outputs": [],
      "source": [
        "model.eval()\n",
        "with torch.no_grad():    \n",
        "    test_pred = []\n",
        "    test_true = [] \n",
        "    for data in testloader:\n",
        "        test_data, test_labels = data\n",
        "        test_data = test_data.cuda()\n",
        "        y_pred = model(test_data)\n",
        "        y_pred = torch.sigmoid(y_pred)\n",
        "        test_pred.append(y_pred.cpu().detach().numpy())\n",
        "        test_true.append(test_labels.numpy())\n",
        "  \n",
        "    test_true = np.concatenate(test_true)\n",
        "    test_pred = np.concatenate(test_pred)"
      ]
    },
    {
      "cell_type": "code",
      "execution_count": 16,
      "metadata": {
        "id": "fv7xxNPVOsS5"
      },
      "outputs": [],
      "source": [
        "labels = ['Cardiomegaly', 'Edema', 'Consolidation', 'Atelectasis', 'Pleural Effusion']\n",
        "\n",
        "results = pd.DataFrame(index=labels)\n",
        "\n",
        "\n",
        "scores = []\n",
        "for i in range(5):\n",
        "    score = roc_auc_score(test_true[:, i], test_pred[:, i])\n",
        "    scores.append(score)\n",
        "    \n",
        "results['AUC'] = scores"
      ]
    },
    {
      "cell_type": "code",
      "execution_count": 17,
      "metadata": {
        "colab": {
          "base_uri": "https://localhost:8080/",
          "height": 206
        },
        "id": "_dtjEgiROuS3",
        "outputId": "277fefc2-7578-45c4-c256-61f6936dba1a"
      },
      "outputs": [
        {
          "output_type": "execute_result",
          "data": {
            "text/plain": [
              "                       AUC\n",
              "Cardiomegaly      0.845811\n",
              "Edema             0.937202\n",
              "Consolidation     0.921875\n",
              "Atelectasis       0.818583\n",
              "Pleural Effusion  0.928442"
            ],
            "text/html": [
              "\n",
              "  <div id=\"df-4aca2236-5794-4f6a-b8f9-0ac8e82d2cdf\">\n",
              "    <div class=\"colab-df-container\">\n",
              "      <div>\n",
              "<style scoped>\n",
              "    .dataframe tbody tr th:only-of-type {\n",
              "        vertical-align: middle;\n",
              "    }\n",
              "\n",
              "    .dataframe tbody tr th {\n",
              "        vertical-align: top;\n",
              "    }\n",
              "\n",
              "    .dataframe thead th {\n",
              "        text-align: right;\n",
              "    }\n",
              "</style>\n",
              "<table border=\"1\" class=\"dataframe\">\n",
              "  <thead>\n",
              "    <tr style=\"text-align: right;\">\n",
              "      <th></th>\n",
              "      <th>AUC</th>\n",
              "    </tr>\n",
              "  </thead>\n",
              "  <tbody>\n",
              "    <tr>\n",
              "      <th>Cardiomegaly</th>\n",
              "      <td>0.845811</td>\n",
              "    </tr>\n",
              "    <tr>\n",
              "      <th>Edema</th>\n",
              "      <td>0.937202</td>\n",
              "    </tr>\n",
              "    <tr>\n",
              "      <th>Consolidation</th>\n",
              "      <td>0.921875</td>\n",
              "    </tr>\n",
              "    <tr>\n",
              "      <th>Atelectasis</th>\n",
              "      <td>0.818583</td>\n",
              "    </tr>\n",
              "    <tr>\n",
              "      <th>Pleural Effusion</th>\n",
              "      <td>0.928442</td>\n",
              "    </tr>\n",
              "  </tbody>\n",
              "</table>\n",
              "</div>\n",
              "      <button class=\"colab-df-convert\" onclick=\"convertToInteractive('df-4aca2236-5794-4f6a-b8f9-0ac8e82d2cdf')\"\n",
              "              title=\"Convert this dataframe to an interactive table.\"\n",
              "              style=\"display:none;\">\n",
              "        \n",
              "  <svg xmlns=\"http://www.w3.org/2000/svg\" height=\"24px\"viewBox=\"0 0 24 24\"\n",
              "       width=\"24px\">\n",
              "    <path d=\"M0 0h24v24H0V0z\" fill=\"none\"/>\n",
              "    <path d=\"M18.56 5.44l.94 2.06.94-2.06 2.06-.94-2.06-.94-.94-2.06-.94 2.06-2.06.94zm-11 1L8.5 8.5l.94-2.06 2.06-.94-2.06-.94L8.5 2.5l-.94 2.06-2.06.94zm10 10l.94 2.06.94-2.06 2.06-.94-2.06-.94-.94-2.06-.94 2.06-2.06.94z\"/><path d=\"M17.41 7.96l-1.37-1.37c-.4-.4-.92-.59-1.43-.59-.52 0-1.04.2-1.43.59L10.3 9.45l-7.72 7.72c-.78.78-.78 2.05 0 2.83L4 21.41c.39.39.9.59 1.41.59.51 0 1.02-.2 1.41-.59l7.78-7.78 2.81-2.81c.8-.78.8-2.07 0-2.86zM5.41 20L4 18.59l7.72-7.72 1.47 1.35L5.41 20z\"/>\n",
              "  </svg>\n",
              "      </button>\n",
              "      \n",
              "  <style>\n",
              "    .colab-df-container {\n",
              "      display:flex;\n",
              "      flex-wrap:wrap;\n",
              "      gap: 12px;\n",
              "    }\n",
              "\n",
              "    .colab-df-convert {\n",
              "      background-color: #E8F0FE;\n",
              "      border: none;\n",
              "      border-radius: 50%;\n",
              "      cursor: pointer;\n",
              "      display: none;\n",
              "      fill: #1967D2;\n",
              "      height: 32px;\n",
              "      padding: 0 0 0 0;\n",
              "      width: 32px;\n",
              "    }\n",
              "\n",
              "    .colab-df-convert:hover {\n",
              "      background-color: #E2EBFA;\n",
              "      box-shadow: 0px 1px 2px rgba(60, 64, 67, 0.3), 0px 1px 3px 1px rgba(60, 64, 67, 0.15);\n",
              "      fill: #174EA6;\n",
              "    }\n",
              "\n",
              "    [theme=dark] .colab-df-convert {\n",
              "      background-color: #3B4455;\n",
              "      fill: #D2E3FC;\n",
              "    }\n",
              "\n",
              "    [theme=dark] .colab-df-convert:hover {\n",
              "      background-color: #434B5C;\n",
              "      box-shadow: 0px 1px 3px 1px rgba(0, 0, 0, 0.15);\n",
              "      filter: drop-shadow(0px 1px 2px rgba(0, 0, 0, 0.3));\n",
              "      fill: #FFFFFF;\n",
              "    }\n",
              "  </style>\n",
              "\n",
              "      <script>\n",
              "        const buttonEl =\n",
              "          document.querySelector('#df-4aca2236-5794-4f6a-b8f9-0ac8e82d2cdf button.colab-df-convert');\n",
              "        buttonEl.style.display =\n",
              "          google.colab.kernel.accessAllowed ? 'block' : 'none';\n",
              "\n",
              "        async function convertToInteractive(key) {\n",
              "          const element = document.querySelector('#df-4aca2236-5794-4f6a-b8f9-0ac8e82d2cdf');\n",
              "          const dataTable =\n",
              "            await google.colab.kernel.invokeFunction('convertToInteractive',\n",
              "                                                     [key], {});\n",
              "          if (!dataTable) return;\n",
              "\n",
              "          const docLinkHtml = 'Like what you see? Visit the ' +\n",
              "            '<a target=\"_blank\" href=https://colab.research.google.com/notebooks/data_table.ipynb>data table notebook</a>'\n",
              "            + ' to learn more about interactive tables.';\n",
              "          element.innerHTML = '';\n",
              "          dataTable['output_type'] = 'display_data';\n",
              "          await google.colab.output.renderOutput(dataTable, element);\n",
              "          const docLink = document.createElement('div');\n",
              "          docLink.innerHTML = docLinkHtml;\n",
              "          element.appendChild(docLink);\n",
              "        }\n",
              "      </script>\n",
              "    </div>\n",
              "  </div>\n",
              "  "
            ]
          },
          "metadata": {},
          "execution_count": 17
        }
      ],
      "source": [
        "results"
      ]
    },
    {
      "cell_type": "code",
      "execution_count": 18,
      "metadata": {
        "colab": {
          "base_uri": "https://localhost:8080/"
        },
        "id": "7EjD7DhEOv0T",
        "outputId": "64ffd211-376e-49dd-f884-6cbf0eb3647f"
      },
      "outputs": [
        {
          "output_type": "execute_result",
          "data": {
            "text/plain": [
              "0.8903826277593293"
            ]
          },
          "metadata": {},
          "execution_count": 18
        }
      ],
      "source": [
        "results['AUC'].mean()"
      ]
    },
    {
      "cell_type": "code",
      "execution_count": null,
      "metadata": {
        "id": "ofpZ-E3mxK2j"
      },
      "outputs": [],
      "source": [
        ""
      ]
    }
  ],
  "metadata": {
    "accelerator": "GPU",
    "colab": {
      "collapsed_sections": [],
      "name": "eff_normal.ipynb",
      "provenance": []
    },
    "kernelspec": {
      "display_name": "Python 3 (ipykernel)",
      "language": "python",
      "name": "python3"
    },
    "language_info": {
      "codemirror_mode": {
        "name": "ipython",
        "version": 3
      },
      "file_extension": ".py",
      "mimetype": "text/x-python",
      "name": "python",
      "nbconvert_exporter": "python",
      "pygments_lexer": "ipython3",
      "version": "3.9.7"
    }
  },
  "nbformat": 4,
  "nbformat_minor": 0
}