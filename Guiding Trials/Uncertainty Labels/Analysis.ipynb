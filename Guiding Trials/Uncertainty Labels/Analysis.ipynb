{
 "cells": [
  {
   "cell_type": "markdown",
   "id": "e1763053",
   "metadata": {},
   "source": [
    "# Label Uncertainty Analysis"
   ]
  },
  {
   "cell_type": "code",
   "execution_count": 1,
   "id": "8b02adf4",
   "metadata": {},
   "outputs": [],
   "source": [
    "import numpy as np\n",
    "import pandas as pd\n",
    "\n",
    "import matplotlib.pyplot as plt"
   ]
  },
  {
   "cell_type": "code",
   "execution_count": 38,
   "id": "0fcbbb47",
   "metadata": {},
   "outputs": [],
   "source": [
    "# idx  = ['Cardiomegaly', 'Edema', 'Conslidation', 'Atelectasis', 'Pleural Effusion']\n",
    "# cols = ['Efficientnet', 'Xception', 'Mobilenet']\n",
    "# ignore = pd.DataFrame(columns=cols, index=idx)"
   ]
  },
  {
   "cell_type": "code",
   "execution_count": 40,
   "id": "70b6ec6f",
   "metadata": {},
   "outputs": [],
   "source": [
    "# ignore.head()"
   ]
  },
  {
   "cell_type": "code",
   "execution_count": 41,
   "id": "3bce7f56",
   "metadata": {},
   "outputs": [],
   "source": [
    "# ignore['Efficientnet'] = [0.847928, 0.925893, 0.909191, 0.798635, 0.922781]\n",
    "# ignore['Xception'] = [0.851716, 0.935417, 0.943566, 0.830446, 0.936707]\n",
    "# ignore['Mobilenet'] = [0.847259, 0.925893, 0.943199, 0.804514, 0.930254]"
   ]
  },
  {
   "cell_type": "code",
   "execution_count": 42,
   "id": "2cce777f",
   "metadata": {},
   "outputs": [],
   "source": [
    "idx  = ['Cardiomegaly', 'Edema', 'Conslidation', 'Atelectasis', 'Pleural Effusion']\n",
    "cols = ['Efficientnet', 'Xception', 'Mobilenet']\n",
    "ones = pd.DataFrame(columns=cols, index=idx)"
   ]
  },
  {
   "cell_type": "code",
   "execution_count": 43,
   "id": "258cee57",
   "metadata": {},
   "outputs": [],
   "source": [
    "ones['Efficientnet'] = [0.847705, 0.941220, 0.908272, 0.856798, 0.941689]\n",
    "ones['Xception'] = [0.831328, 0.940923, 0.908640, 0.851129, 0.943048]\n",
    "ones['Mobilenet'] = [0.867424, 0.934673, 0.862500, 0.853858, 0.933537]"
   ]
  },
  {
   "cell_type": "code",
   "execution_count": 44,
   "id": "0efd4128",
   "metadata": {},
   "outputs": [],
   "source": [
    "idx  = ['Cardiomegaly', 'Edema', 'Conslidation', 'Atelectasis', 'Pleural Effusion']\n",
    "cols = ['Efficientnet', 'Xception', 'Mobilenet']\n",
    "zeros = pd.DataFrame(columns=cols, index=idx)"
   ]
  },
  {
   "cell_type": "code",
   "execution_count": 45,
   "id": "235bd669",
   "metadata": {},
   "outputs": [],
   "source": [
    "zeros['Efficientnet'] = [0.838792, 0.917262, 0.926471, 0.807874, 0.926178]\n",
    "zeros['Xception'] = [0.833111, 0.930655, 0.929963, 0.813753, 0.935009]\n",
    "zeros['Mobilenet'] = [0.852161, 0.908185, 0.922978, 0.818163, 0.916893]"
   ]
  },
  {
   "cell_type": "code",
   "execution_count": 46,
   "id": "8cba9be9",
   "metadata": {
    "scrolled": true
   },
   "outputs": [],
   "source": [
    "# ignore.mean(axis=1)\n",
    "\n",
    "#out: Cardiomegaly        0.848968\n",
    "#     Edema               0.929068\n",
    "#     Conslidation        0.931985\n",
    "#     Atelectasis         0.811198\n",
    "#     Pleural Effusion    0.929914"
   ]
  },
  {
   "cell_type": "code",
   "execution_count": 8,
   "id": "2fe81f0a",
   "metadata": {},
   "outputs": [
    {
     "data": {
      "text/plain": [
       "Cardiomegaly        0.848819\n",
       "Edema               0.938939\n",
       "Conslidation        0.893137\n",
       "Atelectasis         0.853928\n",
       "Pleural Effusion    0.939425\n",
       "dtype: float64"
      ]
     },
     "execution_count": 8,
     "metadata": {},
     "output_type": "execute_result"
    }
   ],
   "source": [
    "ones.mean(axis=1)"
   ]
  },
  {
   "cell_type": "code",
   "execution_count": 11,
   "id": "d4956f78",
   "metadata": {},
   "outputs": [
    {
     "data": {
      "text/plain": [
       "Cardiomegaly        0.841355\n",
       "Edema               0.918701\n",
       "Conslidation        0.926471\n",
       "Atelectasis         0.813263\n",
       "Pleural Effusion    0.926027\n",
       "dtype: float64"
      ]
     },
     "execution_count": 11,
     "metadata": {},
     "output_type": "execute_result"
    }
   ],
   "source": [
    "zeros.mean(axis=1)"
   ]
  },
  {
   "cell_type": "code",
   "execution_count": 47,
   "id": "e88c4b33",
   "metadata": {},
   "outputs": [
    {
     "data": {
      "text/html": [
       "<div>\n",
       "<style scoped>\n",
       "    .dataframe tbody tr th:only-of-type {\n",
       "        vertical-align: middle;\n",
       "    }\n",
       "\n",
       "    .dataframe tbody tr th {\n",
       "        vertical-align: top;\n",
       "    }\n",
       "\n",
       "    .dataframe thead th {\n",
       "        text-align: right;\n",
       "    }\n",
       "</style>\n",
       "<table border=\"1\" class=\"dataframe\">\n",
       "  <thead>\n",
       "    <tr style=\"text-align: right;\">\n",
       "      <th></th>\n",
       "      <th>Cardiomegaly</th>\n",
       "      <th>Edema</th>\n",
       "      <th>Conslidation</th>\n",
       "      <th>Atelectasis</th>\n",
       "      <th>Pleural Effusion</th>\n",
       "    </tr>\n",
       "  </thead>\n",
       "  <tbody>\n",
       "    <tr>\n",
       "      <th>Ones</th>\n",
       "      <td>0.848819</td>\n",
       "      <td>0.938939</td>\n",
       "      <td>0.893137</td>\n",
       "      <td>0.853928</td>\n",
       "      <td>0.939425</td>\n",
       "    </tr>\n",
       "    <tr>\n",
       "      <th>Zeros</th>\n",
       "      <td>0.841355</td>\n",
       "      <td>0.918701</td>\n",
       "      <td>0.926471</td>\n",
       "      <td>0.813263</td>\n",
       "      <td>0.926027</td>\n",
       "    </tr>\n",
       "  </tbody>\n",
       "</table>\n",
       "</div>"
      ],
      "text/plain": [
       "       Cardiomegaly     Edema  Conslidation  Atelectasis  Pleural Effusion\n",
       "Ones       0.848819  0.938939      0.893137     0.853928          0.939425\n",
       "Zeros      0.841355  0.918701      0.926471     0.813263          0.926027"
      ]
     },
     "execution_count": 47,
     "metadata": {},
     "output_type": "execute_result"
    }
   ],
   "source": [
    "#results = pd.concat([ignore.mean(axis=1), ones.mean(axis=1), zeros.mean(axis=1)], axis=1)\n",
    "#results.columns = ['Ignore', 'Ones', 'Zeros']\n",
    "\n",
    "results = pd.concat([ones.mean(axis=1), zeros.mean(axis=1)], axis=1)\n",
    "results.columns = ['Ones', 'Zeros']\n",
    "results = results.T\n",
    "results"
   ]
  },
  {
   "cell_type": "code",
   "execution_count": 48,
   "id": "e39f0d7a",
   "metadata": {},
   "outputs": [
    {
     "data": {
      "image/png": "[encoded data removed]",
      "text/plain": [
       "<Figure size 720x360 with 1 Axes>"
      ]
     },
     "metadata": {
      "needs_background": "light"
     },
     "output_type": "display_data"
    }
   ],
   "source": [
    "results.plot(kind='bar', figsize=(10, 5), rot=0)\n",
    "plt.legend(bbox_to_anchor=(1.25, 0.5, 0, 0));"
   ]
  },
  {
   "cell_type": "code",
   "execution_count": null,
   "id": "1841f4b9",
   "metadata": {},
   "outputs": [],
   "source": [
    "cardio >> ones\n",
    "edema >> ones\n",
    "cons >> zeros\n",
    "atl >> ones\n",
    "pe >> ones"
   ]
  },
  {
   "cell_type": "code",
   "execution_count": null,
   "id": "37582fee",
   "metadata": {},
   "outputs": [],
   "source": [
    "cardio >> zeros\n",
    "edema >> ones\n",
    "cons >> zeros\n",
    "atl >> ones\n",
    "pe >> zeros"
   ]
  },
  {
   "cell_type": "markdown",
   "id": "c2d5efa5",
   "metadata": {},
   "source": [
    "### After the Analysis\n",
    "- train these three on:\n",
    "\n",
    "> normal imputation\n",
    "\n",
    "> new imputation\n",
    "\n",
    "> random imputation"
   ]
  }
 ],
 "metadata": {
  "kernelspec": {
   "display_name": "Python 3 (ipykernel)",
   "language": "python",
   "name": "python3"
  },
  "language_info": {
   "codemirror_mode": {
    "name": "ipython",
    "version": 3
   },
   "file_extension": ".py",
   "mimetype": "text/x-python",
   "name": "python",
   "nbconvert_exporter": "python",
   "pygments_lexer": "ipython3",
   "version": "3.9.7"
  }
 },
 "nbformat": 4,
 "nbformat_minor": 5
}
