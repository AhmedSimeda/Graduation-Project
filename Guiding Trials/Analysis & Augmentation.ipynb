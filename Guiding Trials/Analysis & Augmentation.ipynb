{
 "cells": [
  {
   "cell_type": "code",
   "execution_count": 1,
   "id": "c5571825",
   "metadata": {},
   "outputs": [],
   "source": [
    "import pandas as pd\n",
    "import numpy as np\n",
    "\n",
    "import matplotlib.pyplot as plt\n",
    "\n",
    "pd.set_option('display.max_rows', None)\n",
    "\n",
    "from termcolor import colored"
   ]
  },
  {
   "cell_type": "code",
   "execution_count": 2,
   "id": "00dfd0b9",
   "metadata": {},
   "outputs": [],
   "source": [
    "def get_clean(data):\n",
    "    data.loc[:, data.columns[5:]] = data.loc[:, data.columns[5:]].fillna(0)\n",
    "    zeros = ['Cardiomegaly', 'Consolidation', 'Pleural Effusion']\n",
    "    data.loc[:, zeros] = data.loc[:, zeros].replace({-1:0})\n",
    "    ones = ['Edema', 'Atelectasis']\n",
    "    data.loc[:, ones] = data.loc[:, ones].replace({-1:1})\n",
    "\n",
    "    data = data[['Path', 'Frontal/Lateral', 'Cardiomegaly', 'Edema', 'Consolidation', \n",
    "                   'Atelectasis', 'Pleural Effusion']].copy() \n",
    "    \n",
    "    return data\n",
    "\n",
    "def get_stats(data):\n",
    "    print(colored(f\"for clean_{data}:\", 'blue'))\n",
    "    print('='*30)\n",
    "    \n",
    "    # not clean\n",
    "    not_clean = pd.read_csv(f'../../Data/Final Data/clean data/not_clean_{data}.csv')\n",
    "    print(f\"{colored(not_clean.shape[0], 'red')} damaged images have been removed\")\n",
    "    \n",
    "    # clean\n",
    "    clean = pd.read_csv(f'../../Data/Final Data/clean data/clean_{data}.csv')\n",
    "    clean = get_clean(clean)\n",
    "    \n",
    "    print('-'*40)\n",
    "    print(clean.iloc[:, 2:].sum(axis=0))\n",
    "    \n",
    "    print('-'*40)\n",
    "    at_car_inter_mask = (clean['Atelectasis'] == 1)&(clean['Cardiomegaly'] == 1)\n",
    "    at_car_inter_num   = clean.loc[at_car_inter_mask, :].shape[0]\n",
    "    print(f\"There are {colored(at_car_inter_num, 'magenta')} images that have both {colored('Atelectasis', on_color='on_yellow')} and {colored('Cardiomegaly', on_color='on_yellow')}\")\n",
    "    \n",
    "    print('-'*60)\n",
    "    clean['num_inter'] = clean.iloc[:, 2:].sum(axis=1)\n",
    "    print(clean['num_inter'].value_counts())"
   ]
  },
  {
   "cell_type": "markdown",
   "id": "4eb2299b",
   "metadata": {},
   "source": [
    "## Analysis"
   ]
  },
  {
   "cell_type": "code",
   "execution_count": 3,
   "id": "52371004",
   "metadata": {},
   "outputs": [
    {
     "name": "stdout",
     "output_type": "stream",
     "text": [
      "\u001b[34mfor clean_4:\u001b[0m\n",
      "==============================\n",
      "\u001b[31m302\u001b[0m damaged images have been removed\n",
      "----------------------------------------\n",
      "Cardiomegaly        26960.0\n",
      "Edema               65164.0\n",
      "Consolidation       14760.0\n",
      "Atelectasis         67026.0\n",
      "Pleural Effusion    86061.0\n",
      "dtype: float64\n",
      "----------------------------------------\n",
      "There are \u001b[35m8051\u001b[0m images that have both \u001b[43mAtelectasis\u001b[0m and \u001b[43mCardiomegaly\u001b[0m\n",
      "------------------------------------------------------------\n",
      "1.0    79866\n",
      "0.0    66043\n",
      "2.0    54956\n",
      "3.0    18963\n",
      "4.0     3116\n",
      "5.0      168\n",
      "Name: num_inter, dtype: int64\n"
     ]
    }
   ],
   "source": [
    "get_stats(4)"
   ]
  },
  {
   "cell_type": "code",
   "execution_count": 10,
   "id": "ef506490",
   "metadata": {
    "scrolled": true
   },
   "outputs": [
    {
     "data": {
      "text/plain": [
       "Cardiomegaly        19421.0\n",
       "Edema               40526.0\n",
       "Consolidation       11056.0\n",
       "Atelectasis         27147.0\n",
       "Pleural Effusion    63773.0\n",
       "dtype: float64"
      ]
     },
     "execution_count": 10,
     "metadata": {},
     "output_type": "execute_result"
    }
   ],
   "source": [
    "ignore = pd.read_csv('../../../../Data/CheXpert-v1.0-small/train.csv')\n",
    "ignore.loc[:, ignore.columns[5:]] = ignore.loc[:, ignore.columns[5:]].fillna(0)\n",
    "\n",
    "ignore = ignore[['Path', 'Frontal/Lateral', 'Cardiomegaly', 'Edema', 'Consolidation', \n",
    "                   'Atelectasis', 'Pleural Effusion']].copy() \n",
    "\n",
    "ignore = ignore.replace({-1:np.nan}).dropna()\n",
    "\n",
    "ignore.iloc[:, 2:].sum()"
   ]
  },
  {
   "cell_type": "code",
   "execution_count": 11,
   "id": "c3056b32",
   "metadata": {},
   "outputs": [
    {
     "data": {
      "text/plain": [
       "(215573, 7)"
      ]
     },
     "execution_count": 11,
     "metadata": {},
     "output_type": "execute_result"
    }
   ],
   "source": [
    "clean_4 = pd.read_csv(f'../../Data/Final Data/clean data/clean_4.csv')\n",
    "clean_4 = get_clean(clean_4)\n",
    "clean_4_no_car = clean_4[clean_4['Cardiomegaly']!=1]\n",
    "\n",
    "car_ignore = ignore[ignore['Cardiomegaly']==1]\n",
    "\n",
    "new_clean = pd.concat([clean_4_no_car, car_ignore])\n",
    "new_clean.shape"
   ]
  },
  {
   "cell_type": "code",
   "execution_count": 13,
   "id": "2434c386",
   "metadata": {},
   "outputs": [
    {
     "data": {
      "text/plain": [
       "Cardiomegaly        19421.0\n",
       "Edema               60908.0\n",
       "Consolidation       14340.0\n",
       "Atelectasis         62173.0\n",
       "Pleural Effusion    83287.0\n",
       "dtype: float64"
      ]
     },
     "execution_count": 13,
     "metadata": {},
     "output_type": "execute_result"
    }
   ],
   "source": [
    "new_clean.iloc[:, 2:].sum()"
   ]
  },
  {
   "cell_type": "code",
   "execution_count": 14,
   "id": "5f921e04",
   "metadata": {},
   "outputs": [],
   "source": [
    "new_clean.to_csv('../../Data/Final Data/analysis/new_clean.csv', index=False)"
   ]
  },
  {
   "cell_type": "markdown",
   "id": "6ed59253",
   "metadata": {},
   "source": [
    "# NIH sample"
   ]
  },
  {
   "cell_type": "code",
   "execution_count": 6,
   "id": "9dfd0be1",
   "metadata": {},
   "outputs": [],
   "source": [
    "nih = pd.read_csv(r'D:\\Graduation Project\\Data\\NIH\\sample_labels.csv')"
   ]
  },
  {
   "cell_type": "code",
   "execution_count": 7,
   "id": "c0a00b65",
   "metadata": {},
   "outputs": [
    {
     "data": {
      "text/html": [
       "<div>\n",
       "<style scoped>\n",
       "    .dataframe tbody tr th:only-of-type {\n",
       "        vertical-align: middle;\n",
       "    }\n",
       "\n",
       "    .dataframe tbody tr th {\n",
       "        vertical-align: top;\n",
       "    }\n",
       "\n",
       "    .dataframe thead th {\n",
       "        text-align: right;\n",
       "    }\n",
       "</style>\n",
       "<table border=\"1\" class=\"dataframe\">\n",
       "  <thead>\n",
       "    <tr style=\"text-align: right;\">\n",
       "      <th></th>\n",
       "      <th>Image Index</th>\n",
       "      <th>Finding Labels</th>\n",
       "      <th>Follow-up #</th>\n",
       "      <th>Patient ID</th>\n",
       "      <th>Patient Age</th>\n",
       "      <th>Patient Gender</th>\n",
       "      <th>View Position</th>\n",
       "      <th>OriginalImageWidth</th>\n",
       "      <th>OriginalImageHeight</th>\n",
       "      <th>OriginalImagePixelSpacing_x</th>\n",
       "      <th>OriginalImagePixelSpacing_y</th>\n",
       "    </tr>\n",
       "  </thead>\n",
       "  <tbody>\n",
       "    <tr>\n",
       "      <th>0</th>\n",
       "      <td>00000013_005.png</td>\n",
       "      <td>Emphysema|Infiltration|Pleural_Thickening|Pneu...</td>\n",
       "      <td>5</td>\n",
       "      <td>13</td>\n",
       "      <td>060Y</td>\n",
       "      <td>M</td>\n",
       "      <td>AP</td>\n",
       "      <td>3056</td>\n",
       "      <td>2544</td>\n",
       "      <td>0.139</td>\n",
       "      <td>0.139</td>\n",
       "    </tr>\n",
       "    <tr>\n",
       "      <th>1</th>\n",
       "      <td>00000013_026.png</td>\n",
       "      <td>Cardiomegaly|Emphysema</td>\n",
       "      <td>26</td>\n",
       "      <td>13</td>\n",
       "      <td>057Y</td>\n",
       "      <td>M</td>\n",
       "      <td>AP</td>\n",
       "      <td>2500</td>\n",
       "      <td>2048</td>\n",
       "      <td>0.168</td>\n",
       "      <td>0.168</td>\n",
       "    </tr>\n",
       "    <tr>\n",
       "      <th>2</th>\n",
       "      <td>00000017_001.png</td>\n",
       "      <td>No Finding</td>\n",
       "      <td>1</td>\n",
       "      <td>17</td>\n",
       "      <td>077Y</td>\n",
       "      <td>M</td>\n",
       "      <td>AP</td>\n",
       "      <td>2500</td>\n",
       "      <td>2048</td>\n",
       "      <td>0.168</td>\n",
       "      <td>0.168</td>\n",
       "    </tr>\n",
       "    <tr>\n",
       "      <th>3</th>\n",
       "      <td>00000030_001.png</td>\n",
       "      <td>Atelectasis</td>\n",
       "      <td>1</td>\n",
       "      <td>30</td>\n",
       "      <td>079Y</td>\n",
       "      <td>M</td>\n",
       "      <td>PA</td>\n",
       "      <td>2992</td>\n",
       "      <td>2991</td>\n",
       "      <td>0.143</td>\n",
       "      <td>0.143</td>\n",
       "    </tr>\n",
       "    <tr>\n",
       "      <th>4</th>\n",
       "      <td>00000032_001.png</td>\n",
       "      <td>Cardiomegaly|Edema|Effusion</td>\n",
       "      <td>1</td>\n",
       "      <td>32</td>\n",
       "      <td>055Y</td>\n",
       "      <td>F</td>\n",
       "      <td>AP</td>\n",
       "      <td>2500</td>\n",
       "      <td>2048</td>\n",
       "      <td>0.168</td>\n",
       "      <td>0.168</td>\n",
       "    </tr>\n",
       "  </tbody>\n",
       "</table>\n",
       "</div>"
      ],
      "text/plain": [
       "        Image Index                                     Finding Labels  \\\n",
       "0  00000013_005.png  Emphysema|Infiltration|Pleural_Thickening|Pneu...   \n",
       "1  00000013_026.png                             Cardiomegaly|Emphysema   \n",
       "2  00000017_001.png                                         No Finding   \n",
       "3  00000030_001.png                                        Atelectasis   \n",
       "4  00000032_001.png                        Cardiomegaly|Edema|Effusion   \n",
       "\n",
       "   Follow-up #  Patient ID Patient Age Patient Gender View Position  \\\n",
       "0            5          13        060Y              M            AP   \n",
       "1           26          13        057Y              M            AP   \n",
       "2            1          17        077Y              M            AP   \n",
       "3            1          30        079Y              M            PA   \n",
       "4            1          32        055Y              F            AP   \n",
       "\n",
       "   OriginalImageWidth  OriginalImageHeight  OriginalImagePixelSpacing_x  \\\n",
       "0                3056                 2544                        0.139   \n",
       "1                2500                 2048                        0.168   \n",
       "2                2500                 2048                        0.168   \n",
       "3                2992                 2991                        0.143   \n",
       "4                2500                 2048                        0.168   \n",
       "\n",
       "   OriginalImagePixelSpacing_y  \n",
       "0                        0.139  \n",
       "1                        0.168  \n",
       "2                        0.168  \n",
       "3                        0.143  \n",
       "4                        0.168  "
      ]
     },
     "execution_count": 7,
     "metadata": {},
     "output_type": "execute_result"
    }
   ],
   "source": [
    "nih.head()"
   ]
  },
  {
   "cell_type": "code",
   "execution_count": 8,
   "id": "28f2fb61",
   "metadata": {},
   "outputs": [],
   "source": [
    "nih = nih[['Image Index', 'Finding Labels']].copy()"
   ]
  },
  {
   "cell_type": "code",
   "execution_count": 9,
   "id": "3b27a633",
   "metadata": {},
   "outputs": [],
   "source": [
    "nih.columns = ['Path', 'Labels']"
   ]
  },
  {
   "cell_type": "code",
   "execution_count": 10,
   "id": "a71ea1f4",
   "metadata": {},
   "outputs": [],
   "source": [
    "nih['Frontal/Lateral'] = 'Frontal'"
   ]
  },
  {
   "cell_type": "code",
   "execution_count": 11,
   "id": "9016c8d3",
   "metadata": {},
   "outputs": [],
   "source": [
    "nih['Path'] = 'sample/images/' + nih['Path']"
   ]
  },
  {
   "cell_type": "code",
   "execution_count": 12,
   "id": "e1b8f3bf",
   "metadata": {},
   "outputs": [
    {
     "data": {
      "text/plain": [
       "No Finding                                                                              3044\n",
       "Infiltration                                                                             503\n",
       "Effusion                                                                                 203\n",
       "Atelectasis                                                                              192\n",
       "Nodule                                                                                   144\n",
       "Pneumothorax                                                                             114\n",
       "Mass                                                                                      99\n",
       "Consolidation                                                                             72\n",
       "Effusion|Infiltration                                                                     69\n",
       "Pleural_Thickening                                                                        65\n",
       "Atelectasis|Infiltration                                                                  57\n",
       "Atelectasis|Effusion                                                                      55\n",
       "Cardiomegaly                                                                              50\n",
       "Infiltration|Nodule                                                                       44\n",
       "Emphysema                                                                                 42\n",
       "Edema                                                                                     41\n",
       "Fibrosis                                                                                  38\n",
       "Atelectasis|Effusion|Infiltration                                                         31\n",
       "Cardiomegaly|Effusion                                                                     30\n",
       "Infiltration|Mass                                                                         29\n",
       "Edema|Infiltration                                                                        21\n",
       "Effusion|Pneumothorax                                                                     20\n",
       "Infiltration|Pneumothorax                                                                 19\n",
       "Consolidation|Infiltration                                                                18\n",
       "Mass|Nodule                                                                               17\n",
       "Effusion|Mass                                                                             16\n",
       "Mass|Pneumothorax                                                                         16\n",
       "Atelectasis|Consolidation                                                                 15\n",
       "Emphysema|Pneumothorax                                                                    15\n",
       "Pneumonia                                                                                 14\n",
       "Effusion|Pleural_Thickening                                                               14\n",
       "Consolidation|Effusion                                                                    12\n",
       "Atelectasis|Nodule                                                                        12\n",
       "Infiltration|Pleural_Thickening                                                           12\n",
       "Atelectasis|Consolidation|Effusion                                                        11\n",
       "Effusion|Nodule                                                                           11\n",
       "Edema|Effusion|Infiltration                                                               10\n",
       "Cardiomegaly|Infiltration                                                                 10\n",
       "Atelectasis|Pneumothorax                                                                   9\n",
       "Consolidation|Mass                                                                         9\n",
       "Mass|Pleural_Thickening                                                                    9\n",
       "Effusion|Emphysema                                                                         8\n",
       "Infiltration|Pneumonia                                                                     8\n",
       "Consolidation|Effusion|Infiltration                                                        8\n",
       "Nodule|Pneumothorax                                                                        7\n",
       "Emphysema|Mass                                                                             7\n",
       "Pleural_Thickening|Pneumothorax                                                            6\n",
       "Fibrosis|Infiltration                                                                      6\n",
       "Atelectasis|Effusion|Pneumothorax                                                          6\n",
       "Cardiomegaly|Effusion|Infiltration                                                         6\n",
       "Nodule|Pleural_Thickening                                                                  6\n",
       "Effusion|Infiltration|Nodule                                                               6\n",
       "Edema|Effusion                                                                             6\n",
       "Emphysema|Infiltration                                                                     6\n",
       "Atelectasis|Fibrosis                                                                       5\n",
       "Effusion|Emphysema|Pneumothorax                                                            5\n",
       "Atelectasis|Pleural_Thickening                                                             5\n",
       "Hernia                                                                                     5\n",
       "Atelectasis|Pneumonia                                                                      5\n",
       "Atelectasis|Mass                                                                           5\n",
       "Effusion|Fibrosis                                                                          5\n",
       "Effusion|Mass|Nodule                                                                       5\n",
       "Atelectasis|Cardiomegaly|Effusion                                                          4\n",
       "Atelectasis|Cardiomegaly                                                                   4\n",
       "Consolidation|Effusion|Mass                                                                4\n",
       "Edema|Infiltration|Pneumonia                                                               4\n",
       "Atelectasis|Effusion|Mass                                                                  4\n",
       "Atelectasis|Consolidation|Effusion|Infiltration                                            4\n",
       "Effusion|Infiltration|Pneumothorax                                                         4\n",
       "Effusion|Infiltration|Pleural_Thickening                                                   4\n",
       "Atelectasis|Edema                                                                          4\n",
       "Atelectasis|Consolidation|Infiltration                                                     4\n",
       "Consolidation|Pleural_Thickening                                                           4\n",
       "Fibrosis|Pleural_Thickening                                                                4\n",
       "Cardiomegaly|Edema                                                                         4\n",
       "Consolidation|Pneumonia                                                                    3\n",
       "Cardiomegaly|Consolidation|Effusion                                                        3\n",
       "Consolidation|Edema                                                                        3\n",
       "Fibrosis|Mass                                                                              3\n",
       "Atelectasis|Effusion|Emphysema|Infiltration                                                3\n",
       "Cardiomegaly|Consolidation                                                                 3\n",
       "Effusion|Infiltration|Mass                                                                 3\n",
       "Cardiomegaly|Emphysema                                                                     3\n",
       "Atelectasis|Infiltration|Pleural_Thickening                                                3\n",
       "Atelectasis|Emphysema                                                                      3\n",
       "Consolidation|Nodule                                                                       3\n",
       "Emphysema|Pleural_Thickening                                                               3\n",
       "Mass|Nodule|Pneumothorax                                                                   3\n",
       "Edema|Pneumonia                                                                            3\n",
       "Effusion|Pleural_Thickening|Pneumothorax                                                   2\n",
       "Infiltration|Nodule|Pneumonia                                                              2\n",
       "Atelectasis|Infiltration|Nodule                                                            2\n",
       "Atelectasis|Infiltration|Pneumothorax                                                      2\n",
       "Emphysema|Mass|Pneumothorax                                                                2\n",
       "Consolidation|Effusion|Infiltration|Nodule                                                 2\n",
       "Atelectasis|Consolidation|Effusion|Pleural_Thickening                                      2\n",
       "Nodule|Pneumonia                                                                           2\n",
       "Effusion|Mass|Nodule|Pleural_Thickening                                                    2\n",
       "Atelectasis|Effusion|Infiltration|Mass                                                     2\n",
       "Atelectasis|Effusion|Emphysema                                                             2\n",
       "Atelectasis|Fibrosis|Infiltration                                                          2\n",
       "Mass|Nodule|Pleural_Thickening                                                             2\n",
       "Consolidation|Infiltration|Mass                                                            2\n",
       "Effusion|Nodule|Pneumothorax                                                               2\n",
       "Atelectasis|Emphysema|Mass                                                                 2\n",
       "Infiltration|Nodule|Pleural_Thickening                                                     2\n",
       "Atelectasis|Hernia                                                                         2\n",
       "Effusion|Infiltration|Nodule|Pneumothorax                                                  2\n",
       "Atelectasis|Cardiomegaly|Consolidation                                                     1\n",
       "Atelectasis|Cardiomegaly|Effusion|Infiltration|Pleural_Thickening                          1\n",
       "Atelectasis|Edema|Effusion|Pneumonia                                                       1\n",
       "Infiltration|Pleural_Thickening|Pneumothorax                                               1\n",
       "Consolidation|Infiltration|Pneumonia                                                       1\n",
       "Atelectasis|Effusion|Fibrosis                                                              1\n",
       "Effusion|Mass|Nodule|Pneumothorax                                                          1\n",
       "Atelectasis|Consolidation|Mass                                                             1\n",
       "Atelectasis|Emphysema|Infiltration|Pneumothorax                                            1\n",
       "Cardiomegaly|Edema|Mass                                                                    1\n",
       "Edema|Infiltration|Nodule                                                                  1\n",
       "Consolidation|Edema|Infiltration                                                           1\n",
       "Consolidation|Effusion|Mass|Nodule|Pleural_Thickening                                      1\n",
       "Cardiomegaly|Fibrosis|Infiltration                                                         1\n",
       "Emphysema|Infiltration|Nodule|Pneumothorax                                                 1\n",
       "Consolidation|Infiltration|Pneumothorax                                                    1\n",
       "Cardiomegaly|Edema|Infiltration|Nodule                                                     1\n",
       "Atelectasis|Effusion|Pleural_Thickening                                                    1\n",
       "Atelectasis|Consolidation|Nodule                                                           1\n",
       "Atelectasis|Consolidation|Infiltration|Mass|Pleural_Thickening                             1\n",
       "Emphysema|Infiltration|Mass|Pneumothorax                                                   1\n",
       "Atelectasis|Emphysema|Pneumothorax                                                         1\n",
       "Emphysema|Pneumonia                                                                        1\n",
       "Pleural_Thickening|Pneumonia                                                               1\n",
       "Atelectasis|Emphysema|Fibrosis                                                             1\n",
       "Effusion|Emphysema|Pleural_Thickening                                                      1\n",
       "Infiltration|Mass|Nodule|Pneumothorax                                                      1\n",
       "Cardiomegaly|Effusion|Nodule                                                               1\n",
       "Emphysema|Infiltration|Pleural_Thickening|Pneumothorax                                     1\n",
       "Cardiomegaly|Mass                                                                          1\n",
       "Atelectasis|Emphysema|Infiltration|Nodule|Pneumothorax                                     1\n",
       "Mass|Pleural_Thickening|Pneumothorax                                                       1\n",
       "Emphysema|Nodule|Pneumothorax                                                              1\n",
       "Atelectasis|Effusion|Mass|Nodule                                                           1\n",
       "Edema|Infiltration|Mass|Pneumonia|Pneumothorax                                             1\n",
       "Consolidation|Fibrosis                                                                     1\n",
       "Atelectasis|Mass|Nodule                                                                    1\n",
       "Consolidation|Infiltration|Pleural_Thickening                                              1\n",
       "Effusion|Fibrosis|Mass|Nodule                                                              1\n",
       "Atelectasis|Emphysema|Fibrosis|Pleural_Thickening                                          1\n",
       "Atelectasis|Emphysema|Infiltration                                                         1\n",
       "Infiltration|Mass|Nodule|Pleural_Thickening|Pneumothorax                                   1\n",
       "Edema|Nodule                                                                               1\n",
       "Atelectasis|Cardiomegaly|Effusion|Fibrosis|Nodule                                          1\n",
       "Effusion|Mass|Pleural_Thickening                                                           1\n",
       "Atelectasis|Edema|Effusion                                                                 1\n",
       "Emphysema|Pneumonia|Pneumothorax                                                           1\n",
       "Atelectasis|Nodule|Pneumothorax                                                            1\n",
       "Cardiomegaly|Consolidation|Effusion|Mass|Pneumothorax                                      1\n",
       "Edema|Emphysema|Infiltration|Pneumonia                                                     1\n",
       "Cardiomegaly|Effusion|Pleural_Thickening                                                   1\n",
       "Atelectasis|Effusion|Infiltration|Nodule                                                   1\n",
       "Atelectasis|Effusion|Mass|Pleural_Thickening                                               1\n",
       "Cardiomegaly|Effusion|Pneumonia                                                            1\n",
       "Emphysema|Infiltration|Pleural_Thickening                                                  1\n",
       "Fibrosis|Nodule                                                                            1\n",
       "Consolidation|Effusion|Infiltration|Pleural_Thickening                                     1\n",
       "Edema|Infiltration|Mass                                                                    1\n",
       "Consolidation|Effusion|Infiltration|Mass|Nodule                                            1\n",
       "Atelectasis|Consolidation|Infiltration|Pneumonia                                           1\n",
       "Atelectasis|Cardiomegaly|Effusion|Fibrosis|Infiltration                                    1\n",
       "Atelectasis|Consolidation|Edema|Effusion|Infiltration                                      1\n",
       "Atelectasis|Effusion|Nodule                                                                1\n",
       "Cardiomegaly|Edema|Infiltration|Pneumonia                                                  1\n",
       "Infiltration|Mass|Nodule|Pleural_Thickening                                                1\n",
       "Atelectasis|Consolidation|Effusion|Mass|Nodule|Pneumothorax                                1\n",
       "Edema|Effusion|Mass                                                                        1\n",
       "Effusion|Infiltration|Mass|Pneumothorax                                                    1\n",
       "Fibrosis|Infiltration|Mass                                                                 1\n",
       "Cardiomegaly|Consolidation|Infiltration                                                    1\n",
       "Edema|Mass                                                                                 1\n",
       "Consolidation|Effusion|Infiltration|Mass                                                   1\n",
       "Atelectasis|Emphysema|Infiltration|Mass|Pneumothorax                                       1\n",
       "Emphysema|Nodule                                                                           1\n",
       "Effusion|Nodule|Pleural_Thickening                                                         1\n",
       "Emphysema|Pleural_Thickening|Pneumothorax                                                  1\n",
       "Infiltration|Mass|Nodule                                                                   1\n",
       "Effusion|Infiltration|Mass|Nodule                                                          1\n",
       "Consolidation|Effusion|Pleural_Thickening                                                  1\n",
       "Consolidation|Edema|Effusion|Pneumonia                                                     1\n",
       "Atelectasis|Effusion|Hernia|Infiltration                                                   1\n",
       "Consolidation|Mass|Nodule|Pneumonia                                                        1\n",
       "Consolidation|Effusion|Pneumonia                                                           1\n",
       "Effusion|Mass|Pleural_Thickening|Pneumothorax                                              1\n",
       "Cardiomegaly|Edema|Effusion                                                                1\n",
       "Cardiomegaly|Pleural_Thickening                                                            1\n",
       "Atelectasis|Consolidation|Mass|Pneumonia                                                   1\n",
       "Atelectasis|Consolidation|Effusion|Fibrosis|Pleural_Thickening                             1\n",
       "Consolidation|Fibrosis|Infiltration                                                        1\n",
       "Effusion|Emphysema|Infiltration                                                            1\n",
       "Hernia|Mass                                                                                1\n",
       "Hernia|Infiltration|Mass                                                                   1\n",
       "Atelectasis|Cardiomegaly|Consolidation|Effusion|Infiltration|Mass|Pleural_Thickening       1\n",
       "Effusion|Infiltration|Pneumonia                                                            1\n",
       "Effusion|Pneumonia                                                                         1\n",
       "Consolidation|Fibrosis|Pneumothorax                                                        1\n",
       "Atelectasis|Consolidation|Effusion|Emphysema                                               1\n",
       "Atelectasis|Cardiomegaly|Effusion|Mass                                                     1\n",
       "Atelectasis|Hernia|Pneumothorax                                                            1\n",
       "Fibrosis|Pleural_Thickening|Pneumothorax                                                   1\n",
       "Fibrosis|Nodule|Pleural_Thickening                                                         1\n",
       "Atelectasis|Consolidation|Effusion|Mass                                                    1\n",
       "Edema|Effusion|Nodule                                                                      1\n",
       "Atelectasis|Consolidation|Effusion|Emphysema|Nodule|Pneumothorax                           1\n",
       "Atelectasis|Cardiomegaly|Infiltration                                                      1\n",
       "Fibrosis|Hernia|Mass                                                                       1\n",
       "Consolidation|Emphysema                                                                    1\n",
       "Atelectasis|Edema|Effusion|Infiltration|Pneumonia                                          1\n",
       "Effusion|Fibrosis|Infiltration|Nodule                                                      1\n",
       "Cardiomegaly|Consolidation|Pneumonia                                                       1\n",
       "Mass|Nodule|Pneumonia                                                                      1\n",
       "Atelectasis|Effusion|Infiltration|Pneumothorax                                             1\n",
       "Atelectasis|Consolidation|Edema                                                            1\n",
       "Atelectasis|Consolidation|Pneumothorax                                                     1\n",
       "Edema|Fibrosis                                                                             1\n",
       "Consolidation|Infiltration|Nodule|Pneumothorax                                             1\n",
       "Consolidation|Emphysema|Infiltration                                                       1\n",
       "Consolidation|Infiltration|Mass|Nodule                                                     1\n",
       "Atelectasis|Consolidation|Effusion|Infiltration|Pneumonia                                  1\n",
       "Consolidation|Pneumothorax                                                                 1\n",
       "Cardiomegaly|Effusion|Mass|Pneumothorax                                                    1\n",
       "Cardiomegaly|Effusion|Emphysema                                                            1\n",
       "Atelectasis|Effusion|Emphysema|Pneumothorax                                                1\n",
       "Cardiomegaly|Effusion|Fibrosis                                                             1\n",
       "Emphysema|Fibrosis                                                                         1\n",
       "Atelectasis|Consolidation|Mass|Pneumothorax                                                1\n",
       "Atelectasis|Effusion|Hernia                                                                1\n",
       "Atelectasis|Effusion|Pleural_Thickening|Pneumothorax                                       1\n",
       "Cardiomegaly|Effusion|Infiltration|Nodule                                                  1\n",
       "Fibrosis|Infiltration|Pleural_Thickening                                                   1\n",
       "Atelectasis|Consolidation|Infiltration|Pneumothorax                                        1\n",
       "Atelectasis|Consolidation|Edema|Infiltration|Pneumonia                                     1\n",
       "Atelectasis|Edema|Effusion|Infiltration                                                    1\n",
       "Atelectasis|Consolidation|Nodule|Pleural_Thickening|Pneumothorax                           1\n",
       "Consolidation|Effusion|Pneumothorax                                                        1\n",
       "Atelectasis|Infiltration|Mass|Pleural_Thickening                                           1\n",
       "Name: Labels, dtype: int64"
      ]
     },
     "execution_count": 12,
     "metadata": {},
     "output_type": "execute_result"
    }
   ],
   "source": [
    "nih['Labels'].value_counts()"
   ]
  },
  {
   "cell_type": "code",
   "execution_count": 13,
   "id": "39199ce3",
   "metadata": {},
   "outputs": [],
   "source": [
    "columns = ['Cardiomegaly', 'Edema', 'Consolidation', 'Atelectasis', 'Effusion']\n",
    "\n",
    "for col in columns:\n",
    "    col_values = []\n",
    "    nih[col] = nih.iloc[:, 1].apply(lambda x: int(col in x))"
   ]
  },
  {
   "cell_type": "code",
   "execution_count": 14,
   "id": "5e2a6e5d",
   "metadata": {},
   "outputs": [],
   "source": [
    "nih.drop('Labels', axis=1, inplace=True)"
   ]
  },
  {
   "cell_type": "code",
   "execution_count": 15,
   "id": "2a0d387c",
   "metadata": {},
   "outputs": [
    {
     "data": {
      "text/html": [
       "<div>\n",
       "<style scoped>\n",
       "    .dataframe tbody tr th:only-of-type {\n",
       "        vertical-align: middle;\n",
       "    }\n",
       "\n",
       "    .dataframe tbody tr th {\n",
       "        vertical-align: top;\n",
       "    }\n",
       "\n",
       "    .dataframe thead th {\n",
       "        text-align: right;\n",
       "    }\n",
       "</style>\n",
       "<table border=\"1\" class=\"dataframe\">\n",
       "  <thead>\n",
       "    <tr style=\"text-align: right;\">\n",
       "      <th></th>\n",
       "      <th>Path</th>\n",
       "      <th>Frontal/Lateral</th>\n",
       "      <th>Cardiomegaly</th>\n",
       "      <th>Edema</th>\n",
       "      <th>Consolidation</th>\n",
       "      <th>Atelectasis</th>\n",
       "      <th>Effusion</th>\n",
       "    </tr>\n",
       "  </thead>\n",
       "  <tbody>\n",
       "    <tr>\n",
       "      <th>0</th>\n",
       "      <td>sample/images/00000013_005.png</td>\n",
       "      <td>Frontal</td>\n",
       "      <td>0</td>\n",
       "      <td>0</td>\n",
       "      <td>0</td>\n",
       "      <td>0</td>\n",
       "      <td>0</td>\n",
       "    </tr>\n",
       "    <tr>\n",
       "      <th>1</th>\n",
       "      <td>sample/images/00000013_026.png</td>\n",
       "      <td>Frontal</td>\n",
       "      <td>1</td>\n",
       "      <td>0</td>\n",
       "      <td>0</td>\n",
       "      <td>0</td>\n",
       "      <td>0</td>\n",
       "    </tr>\n",
       "    <tr>\n",
       "      <th>2</th>\n",
       "      <td>sample/images/00000017_001.png</td>\n",
       "      <td>Frontal</td>\n",
       "      <td>0</td>\n",
       "      <td>0</td>\n",
       "      <td>0</td>\n",
       "      <td>0</td>\n",
       "      <td>0</td>\n",
       "    </tr>\n",
       "    <tr>\n",
       "      <th>3</th>\n",
       "      <td>sample/images/00000030_001.png</td>\n",
       "      <td>Frontal</td>\n",
       "      <td>0</td>\n",
       "      <td>0</td>\n",
       "      <td>0</td>\n",
       "      <td>1</td>\n",
       "      <td>0</td>\n",
       "    </tr>\n",
       "    <tr>\n",
       "      <th>4</th>\n",
       "      <td>sample/images/00000032_001.png</td>\n",
       "      <td>Frontal</td>\n",
       "      <td>1</td>\n",
       "      <td>1</td>\n",
       "      <td>0</td>\n",
       "      <td>0</td>\n",
       "      <td>1</td>\n",
       "    </tr>\n",
       "  </tbody>\n",
       "</table>\n",
       "</div>"
      ],
      "text/plain": [
       "                             Path Frontal/Lateral  Cardiomegaly  Edema  \\\n",
       "0  sample/images/00000013_005.png         Frontal             0      0   \n",
       "1  sample/images/00000013_026.png         Frontal             1      0   \n",
       "2  sample/images/00000017_001.png         Frontal             0      0   \n",
       "3  sample/images/00000030_001.png         Frontal             0      0   \n",
       "4  sample/images/00000032_001.png         Frontal             1      1   \n",
       "\n",
       "   Consolidation  Atelectasis  Effusion  \n",
       "0              0            0         0  \n",
       "1              0            0         0  \n",
       "2              0            0         0  \n",
       "3              0            1         0  \n",
       "4              0            0         1  "
      ]
     },
     "execution_count": 15,
     "metadata": {},
     "output_type": "execute_result"
    }
   ],
   "source": [
    "nih.head()"
   ]
  },
  {
   "cell_type": "code",
   "execution_count": 16,
   "id": "3b481daf",
   "metadata": {},
   "outputs": [
    {
     "data": {
      "text/plain": [
       "Cardiomegaly     141\n",
       "Edema            118\n",
       "Consolidation    226\n",
       "Atelectasis      508\n",
       "Effusion         644\n",
       "dtype: int64"
      ]
     },
     "execution_count": 16,
     "metadata": {},
     "output_type": "execute_result"
    }
   ],
   "source": [
    "nih.iloc[:, 2:].sum(axis=0)"
   ]
  },
  {
   "cell_type": "code",
   "execution_count": 17,
   "id": "c4d40d33",
   "metadata": {},
   "outputs": [],
   "source": [
    "nih.rename(columns={'Effusion':'Pleural Effusion'}, inplace=True)"
   ]
  },
  {
   "cell_type": "code",
   "execution_count": 19,
   "id": "b9bf391f",
   "metadata": {},
   "outputs": [],
   "source": [
    "mask_1 = nih.iloc[:, 2:].sum(axis=1) == 1\n",
    "mask_2 = nih['Cardiomegaly'] == 1\n",
    "car_nih = nih.loc[mask_1&mask_2, :]"
   ]
  },
  {
   "cell_type": "code",
   "execution_count": 20,
   "id": "44c960d3",
   "metadata": {},
   "outputs": [],
   "source": [
    "aug_car = pd.concat([clean, car_nih])"
   ]
  },
  {
   "cell_type": "code",
   "execution_count": 21,
   "id": "31d8d8a5",
   "metadata": {},
   "outputs": [
    {
     "data": {
      "text/plain": [
       "(217006, 7)"
      ]
     },
     "execution_count": 21,
     "metadata": {},
     "output_type": "execute_result"
    }
   ],
   "source": [
    "aug_car.shape"
   ]
  },
  {
   "cell_type": "code",
   "execution_count": 22,
   "id": "e72c29c2",
   "metadata": {},
   "outputs": [],
   "source": [
    "aug_car.to_csv('aug_car_r2.csv', index=False)"
   ]
  },
  {
   "cell_type": "code",
   "execution_count": 23,
   "id": "629e5b49",
   "metadata": {},
   "outputs": [],
   "source": [
    "mask_1 = nih.iloc[:, 2:].sum(axis=1) == 1\n",
    "mask_2 = nih['Atelectasis'] == 1\n",
    "atl_nih = nih.loc[mask_1&mask_2, :]"
   ]
  },
  {
   "cell_type": "code",
   "execution_count": 24,
   "id": "216cf4a7",
   "metadata": {},
   "outputs": [],
   "source": [
    "aug_atl = pd.concat([clean, atl_nih])"
   ]
  },
  {
   "cell_type": "code",
   "execution_count": 25,
   "id": "2ff74d32",
   "metadata": {},
   "outputs": [
    {
     "data": {
      "text/plain": [
       "(217257, 7)"
      ]
     },
     "execution_count": 25,
     "metadata": {},
     "output_type": "execute_result"
    }
   ],
   "source": [
    "aug_atl.shape"
   ]
  },
  {
   "cell_type": "code",
   "execution_count": 26,
   "id": "9d09c490",
   "metadata": {},
   "outputs": [],
   "source": [
    "aug_atl.to_csv('aug_atl_r2.csv', index=False)"
   ]
  },
  {
   "cell_type": "code",
   "execution_count": 27,
   "id": "e92a9cba",
   "metadata": {},
   "outputs": [],
   "source": [
    "aug_data = pd.concat([clean, nih])"
   ]
  },
  {
   "cell_type": "code",
   "execution_count": 28,
   "id": "b41f5b95",
   "metadata": {},
   "outputs": [],
   "source": [
    "aug_data.to_csv('aug_data_r2.csv', index=False)"
   ]
  },
  {
   "cell_type": "code",
   "execution_count": 29,
   "id": "07c3c7d9",
   "metadata": {},
   "outputs": [
    {
     "data": {
      "text/plain": [
       "(222546, 7)"
      ]
     },
     "execution_count": 29,
     "metadata": {},
     "output_type": "execute_result"
    }
   ],
   "source": [
    "aug_data.shape"
   ]
  },
  {
   "cell_type": "code",
   "execution_count": 18,
   "id": "6014d3f1",
   "metadata": {},
   "outputs": [],
   "source": [
    "mask_1 = nih.iloc[:, 2:].sum(axis=1) == 1\n",
    "mask_2 = nih['Cardiomegaly'] == 1\n",
    "car_nih = nih.loc[mask_1&mask_2, :]\n",
    "\n",
    "mask_1 = nih.iloc[:, 2:].sum(axis=1) == 1\n",
    "mask_2 = nih['Atelectasis'] == 1\n",
    "atl_nih = nih.loc[mask_1&mask_2, :]\n",
    "\n",
    "aug_car_atl = pd.concat([clean, car_nih, atl_nih])"
   ]
  },
  {
   "cell_type": "code",
   "execution_count": 19,
   "id": "12cecc84",
   "metadata": {},
   "outputs": [
    {
     "data": {
      "text/plain": [
       "(217323, 7)"
      ]
     },
     "execution_count": 19,
     "metadata": {},
     "output_type": "execute_result"
    }
   ],
   "source": [
    "aug_car_atl.shape"
   ]
  },
  {
   "cell_type": "code",
   "execution_count": 20,
   "id": "efd19800",
   "metadata": {},
   "outputs": [],
   "source": [
    "aug_car_atl.to_csv('aug_car_atl.csv', index=False)"
   ]
  },
  {
   "cell_type": "markdown",
   "id": "3b5c6014",
   "metadata": {},
   "source": [
    "# Balancing"
   ]
  },
  {
   "cell_type": "code",
   "execution_count": 5,
   "id": "4dd1cdc5",
   "metadata": {},
   "outputs": [],
   "source": [
    "import pandas as pd\n",
    "import numpy as np\n",
    "\n",
    "import matplotlib.pyplot as plt\n",
    "\n",
    "pd.set_option('display.max_rows', None)"
   ]
  },
  {
   "cell_type": "code",
   "execution_count": 6,
   "id": "718d4ab2",
   "metadata": {},
   "outputs": [],
   "source": [
    "clean = pd.read_csv('../../Data/Final Data/analysis/new_clean_r2.csv')"
   ]
  },
  {
   "cell_type": "code",
   "execution_count": 7,
   "id": "eacfad7d",
   "metadata": {},
   "outputs": [
    {
     "data": {
      "text/plain": [
       "Cardiomegaly        24811.0\n",
       "Edema               63738.0\n",
       "Consolidation       14402.0\n",
       "Atelectasis         62346.0\n",
       "Pleural Effusion    83441.0\n",
       "dtype: float64"
      ]
     },
     "execution_count": 7,
     "metadata": {},
     "output_type": "execute_result"
    }
   ],
   "source": [
    "clean.iloc[:, 2:].sum()"
   ]
  },
  {
   "cell_type": "code",
   "execution_count": 8,
   "id": "aa56b649",
   "metadata": {},
   "outputs": [],
   "source": [
    "mask = (clean['Pleural Effusion'] == 1)&(clean['Atelectasis'] == 1)\n",
    "clean_p1 = clean.loc[mask, :]\n",
    "clean_p2 = clean.loc[~mask, :]"
   ]
  },
  {
   "cell_type": "code",
   "execution_count": 9,
   "id": "93230de2",
   "metadata": {},
   "outputs": [
    {
     "data": {
      "text/plain": [
       "((216940, 7), (29317, 7), (187623, 7))"
      ]
     },
     "execution_count": 9,
     "metadata": {},
     "output_type": "execute_result"
    }
   ],
   "source": [
    "clean.shape, clean_p1.shape, clean_p2.shape"
   ]
  },
  {
   "cell_type": "code",
   "execution_count": 10,
   "id": "5b21c5ec",
   "metadata": {},
   "outputs": [
    {
     "data": {
      "text/plain": [
       "216940"
      ]
     },
     "execution_count": 10,
     "metadata": {},
     "output_type": "execute_result"
    }
   ],
   "source": [
    "29317+187623"
   ]
  },
  {
   "cell_type": "code",
   "execution_count": 11,
   "id": "61156cdb",
   "metadata": {},
   "outputs": [
    {
     "data": {
      "text/plain": [
       "Cardiomegaly        21029.0\n",
       "Edema               53716.0\n",
       "Consolidation       12196.0\n",
       "Atelectasis         33029.0\n",
       "Pleural Effusion    54124.0\n",
       "dtype: float64"
      ]
     },
     "execution_count": 11,
     "metadata": {},
     "output_type": "execute_result"
    }
   ],
   "source": [
    "clean_p2.iloc[:, 2:].sum()"
   ]
  },
  {
   "cell_type": "code",
   "execution_count": 13,
   "id": "ee5b1ff4",
   "metadata": {},
   "outputs": [
    {
     "data": {
      "text/plain": [
       "(29317, 7)"
      ]
     },
     "execution_count": 13,
     "metadata": {},
     "output_type": "execute_result"
    }
   ],
   "source": [
    "clean_p1_sample = clean_p1.sample()"
   ]
  },
  {
   "cell_type": "code",
   "execution_count": 12,
   "id": "1d8dfe0a",
   "metadata": {},
   "outputs": [
    {
     "data": {
      "text/plain": [
       "Cardiomegaly        24811.0\n",
       "Edema               63738.0\n",
       "Consolidation       14402.0\n",
       "Atelectasis         62346.0\n",
       "Pleural Effusion    83441.0\n",
       "dtype: float64"
      ]
     },
     "execution_count": 12,
     "metadata": {},
     "output_type": "execute_result"
    }
   ],
   "source": [
    "new_clean_b = pd.concat([clean_p1, clean_p2])\n",
    "new_clean_b.iloc[:, 2:].sum()"
   ]
  },
  {
   "cell_type": "code",
   "execution_count": null,
   "id": "9059e814",
   "metadata": {},
   "outputs": [],
   "source": []
  }
 ],
 "metadata": {
  "kernelspec": {
   "display_name": "Python 3",
   "language": "python",
   "name": "python3"
  },
  "language_info": {
   "codemirror_mode": {
    "name": "ipython",
    "version": 3
   },
   "file_extension": ".py",
   "mimetype": "text/x-python",
   "name": "python",
   "nbconvert_exporter": "python",
   "pygments_lexer": "ipython3",
   "version": "3.8.8"
  }
 },
 "nbformat": 4,
 "nbformat_minor": 5
}
