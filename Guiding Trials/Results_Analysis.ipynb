{
 "cells": [
  {
   "cell_type": "code",
   "execution_count": 1,
   "id": "c7befd72",
   "metadata": {},
   "outputs": [],
   "source": [
    "import joblib\n",
    "\n",
    "import pandas as pd\n",
    "import numpy as np\n",
    "\n",
    "import matplotlib.pyplot as plt\n",
    "import seaborn as sns"
   ]
  },
  {
   "cell_type": "code",
   "execution_count": 2,
   "id": "7bae7a6f",
   "metadata": {},
   "outputs": [],
   "source": [
    "y_pred = joblib.load('test_pred.sav')"
   ]
  },
  {
   "cell_type": "code",
   "execution_count": 3,
   "id": "edda2c39",
   "metadata": {},
   "outputs": [],
   "source": [
    "y_pred = np.where(y_pred>0.5, 1, 0)"
   ]
  },
  {
   "cell_type": "code",
   "execution_count": 4,
   "id": "02d10ae8",
   "metadata": {},
   "outputs": [
    {
     "data": {
      "text/plain": [
       "(9828, 5)"
      ]
     },
     "execution_count": 4,
     "metadata": {},
     "output_type": "execute_result"
    }
   ],
   "source": [
    "y_pred.shape"
   ]
  },
  {
   "cell_type": "code",
   "execution_count": 5,
   "id": "9c65e8a7",
   "metadata": {},
   "outputs": [],
   "source": [
    "from sklearn.model_selection import train_test_split\n",
    "\n",
    "all_data = pd.read_csv('../Data/clean_data_1.csv')\n",
    "\n",
    "data_train, val_test = train_test_split(all_data, test_size=0.1, random_state=42)\n",
    "data_val, data_test = train_test_split(val_test, test_size=0.5, random_state=42)\n",
    "\n",
    "y_true = data_test.iloc[:, 1:].values"
   ]
  },
  {
   "cell_type": "code",
   "execution_count": 6,
   "id": "9b2b7bb0",
   "metadata": {},
   "outputs": [
    {
     "data": {
      "text/plain": [
       "(9828, 5)"
      ]
     },
     "execution_count": 6,
     "metadata": {},
     "output_type": "execute_result"
    }
   ],
   "source": [
    "y_true.shape"
   ]
  },
  {
   "cell_type": "code",
   "execution_count": 7,
   "id": "cc13c338",
   "metadata": {},
   "outputs": [
    {
     "data": {
      "text/plain": [
       "array([[1., 1., 0., 0., 0.],\n",
       "       [0., 0., 0., 1., 1.],\n",
       "       [0., 0., 0., 0., 0.],\n",
       "       ...,\n",
       "       [1., 0., 0., 1., 0.],\n",
       "       [0., 1., 0., 0., 0.],\n",
       "       [0., 0., 0., 0., 0.]])"
      ]
     },
     "execution_count": 7,
     "metadata": {},
     "output_type": "execute_result"
    }
   ],
   "source": [
    "y_true"
   ]
  },
  {
   "cell_type": "code",
   "execution_count": 8,
   "id": "982d88dc",
   "metadata": {},
   "outputs": [],
   "source": [
    "diseases = pd.read_csv('../Data/clean_data_1.csv').columns[1:]"
   ]
  },
  {
   "cell_type": "code",
   "execution_count": 9,
   "id": "f2b144d5",
   "metadata": {},
   "outputs": [
    {
     "data": {
      "text/plain": [
       "Index(['Cardiomegaly', 'Edema', 'Consolidation', 'Atelectasis',\n",
       "       'Pleural Effusion'],\n",
       "      dtype='object')"
      ]
     },
     "execution_count": 9,
     "metadata": {},
     "output_type": "execute_result"
    }
   ],
   "source": [
    "diseases"
   ]
  },
  {
   "cell_type": "code",
   "execution_count": 10,
   "id": "cb097831",
   "metadata": {},
   "outputs": [],
   "source": [
    "acc = y_true-y_pred"
   ]
  },
  {
   "cell_type": "code",
   "execution_count": 11,
   "id": "79f21bfd",
   "metadata": {},
   "outputs": [
    {
     "data": {
      "text/plain": [
       "array([[ 0.,  0.,  0., -1.,  0.],\n",
       "       [ 0.,  0., -1.,  1.,  0.],\n",
       "       [ 0.,  0.,  0.,  0.,  0.],\n",
       "       ...,\n",
       "       [ 1.,  0.,  0.,  0.,  0.],\n",
       "       [-1.,  0., -1.,  0.,  0.],\n",
       "       [ 0.,  0.,  0.,  0.,  0.]])"
      ]
     },
     "execution_count": 11,
     "metadata": {},
     "output_type": "execute_result"
    }
   ],
   "source": [
    "acc"
   ]
  },
  {
   "cell_type": "code",
   "execution_count": 12,
   "id": "ac67750b",
   "metadata": {},
   "outputs": [],
   "source": [
    "mask = np.isin(acc, [-1, 1]).sum(axis=1) > 0\n",
    "acc = acc[mask].reshape(-1, 5)"
   ]
  },
  {
   "cell_type": "code",
   "execution_count": 13,
   "id": "deaabb19",
   "metadata": {},
   "outputs": [
    {
     "data": {
      "text/plain": [
       "(7643, 5)"
      ]
     },
     "execution_count": 13,
     "metadata": {},
     "output_type": "execute_result"
    }
   ],
   "source": [
    "acc.shape"
   ]
  },
  {
   "cell_type": "code",
   "execution_count": 14,
   "id": "3e9c7a7c",
   "metadata": {},
   "outputs": [
    {
     "data": {
      "text/plain": [
       "array([[ 0.,  0.,  0., -1.,  0.],\n",
       "       [ 0.,  0., -1.,  1.,  0.],\n",
       "       [ 0.,  0., -1., -1.,  0.],\n",
       "       ...,\n",
       "       [-1., -1.,  0.,  0.,  0.],\n",
       "       [ 1.,  0.,  0.,  0.,  0.],\n",
       "       [-1.,  0., -1.,  0.,  0.]])"
      ]
     },
     "execution_count": 14,
     "metadata": {},
     "output_type": "execute_result"
    }
   ],
   "source": [
    "acc"
   ]
  },
  {
   "cell_type": "code",
   "execution_count": 15,
   "id": "513ea061",
   "metadata": {},
   "outputs": [
    {
     "data": {
      "image/png": "[encoded data removed]",
      "text/plain": [
       "<Figure size 1080x1080 with 5 Axes>"
      ]
     },
     "metadata": {
      "needs_background": "light"
     },
     "output_type": "display_data"
    }
   ],
   "source": [
    "plt.figure(figsize=(15, 15))\n",
    "for i, p in enumerate([1, 3, 5, 7, 9]):\n",
    "    plt.subplot(3, 3, p)\n",
    "    sns.countplot(x=acc[:, i]);\n",
    "    plt.title(diseases[i])"
   ]
  },
  {
   "cell_type": "markdown",
   "id": "86f38e5a",
   "metadata": {},
   "source": [
    "_Cardiomegaly_"
   ]
  },
  {
   "cell_type": "code",
   "execution_count": 16,
   "id": "1204c76d",
   "metadata": {},
   "outputs": [],
   "source": [
    "cardiomegaly_ones = acc[acc[:, 0] == 1]"
   ]
  },
  {
   "cell_type": "code",
   "execution_count": 17,
   "id": "15427263",
   "metadata": {},
   "outputs": [
    {
     "name": "stdout",
     "output_type": "stream",
     "text": [
      "Interaction with Edema: 45\n",
      "Interaction with Consolidation: 111\n",
      "Interaction with Atelectasis: 117\n",
      "Interaction with Pleural Effusion: 30\n"
     ]
    }
   ],
   "source": [
    "# Cardiomegaly Vs the rest \n",
    "for i in [1, 2, 3, 4]:\n",
    "    print(f'Interaction with {diseases[i]}: {list(cardiomegaly_ones[:, i]).count(-1)}')"
   ]
  },
  {
   "cell_type": "markdown",
   "id": "e8b0dfaa",
   "metadata": {},
   "source": [
    "_Edema_"
   ]
  },
  {
   "cell_type": "code",
   "execution_count": 18,
   "id": "b61a536b",
   "metadata": {},
   "outputs": [],
   "source": [
    "edema_ones = acc[acc[:, 1] == 1]"
   ]
  },
  {
   "cell_type": "code",
   "execution_count": 19,
   "id": "2acae012",
   "metadata": {},
   "outputs": [
    {
     "name": "stdout",
     "output_type": "stream",
     "text": [
      "Interaction with Cardiomegaly: 86\n",
      "Interaction with Consolidation: 234\n",
      "Interaction with Atelectasis: 267\n",
      "Interaction with Pleural Effusion: 85\n"
     ]
    }
   ],
   "source": [
    "# Edema Vs the rest \n",
    "for i in [0, 2, 3, 4]:\n",
    "    print(f'Interaction with {diseases[i]}: {list(edema_ones[:, i]).count(-1)}')"
   ]
  },
  {
   "cell_type": "markdown",
   "id": "6fe02bba",
   "metadata": {},
   "source": [
    "_Consolidation_"
   ]
  },
  {
   "cell_type": "code",
   "execution_count": 20,
   "id": "994c31fc",
   "metadata": {},
   "outputs": [],
   "source": [
    "consolidation_ones = acc[acc[:, 2] == 1]"
   ]
  },
  {
   "cell_type": "code",
   "execution_count": 21,
   "id": "503b548d",
   "metadata": {},
   "outputs": [
    {
     "name": "stdout",
     "output_type": "stream",
     "text": [
      "Interaction with Cardiomegaly: 38\n",
      "Interaction with Edema: 36\n",
      "Interaction with Atelectasis: 57\n",
      "Interaction with Pleural Effusion: 15\n"
     ]
    }
   ],
   "source": [
    "# Consolidation Vs the rest \n",
    "for i in [0, 1, 3, 4]:\n",
    "    print(f'Interaction with {diseases[i]}: {list(consolidation_ones[:, i]).count(-1)}')"
   ]
  },
  {
   "cell_type": "markdown",
   "id": "a54014e2",
   "metadata": {},
   "source": [
    "_Atelectasis_"
   ]
  },
  {
   "cell_type": "code",
   "execution_count": 22,
   "id": "a9c741ff",
   "metadata": {},
   "outputs": [],
   "source": [
    "atelectasis_ones = acc[acc[:, 3] == 1]"
   ]
  },
  {
   "cell_type": "code",
   "execution_count": 23,
   "id": "114e0d3b",
   "metadata": {},
   "outputs": [
    {
     "name": "stdout",
     "output_type": "stream",
     "text": [
      "Interaction with Cardiomegaly: 82\n",
      "Interaction with Edema: 86\n",
      "Interaction with Consolidation: 190\n",
      "Interaction with Pleural Effusion: 48\n"
     ]
    }
   ],
   "source": [
    "# Atelectasis Vs the rest \n",
    "for i in [0, 1, 2, 4]:\n",
    "    print(f'Interaction with {diseases[i]}: {list(atelectasis_ones[:, i]).count(-1)}')"
   ]
  },
  {
   "cell_type": "markdown",
   "id": "67843adf",
   "metadata": {},
   "source": [
    "_Pleural Effusion_"
   ]
  },
  {
   "cell_type": "code",
   "execution_count": 24,
   "id": "534a9db5",
   "metadata": {},
   "outputs": [],
   "source": [
    "pleuralEffusion_ones = acc[acc[:, 4] == 1]"
   ]
  },
  {
   "cell_type": "code",
   "execution_count": 25,
   "id": "a24e1895",
   "metadata": {},
   "outputs": [
    {
     "name": "stdout",
     "output_type": "stream",
     "text": [
      "Interaction with Cardiomegaly: 134\n",
      "Interaction with Edema: 169\n",
      "Interaction with Consolidation: 216\n",
      "Interaction with Atelectasis: 282\n"
     ]
    }
   ],
   "source": [
    "# Pleural Effusion Vs the rest \n",
    "for i in [0, 1, 2, 3]:\n",
    "    print(f'Interaction with {diseases[i]}: {list(pleuralEffusion_ones[:, i]).count(-1)}')"
   ]
  },
  {
   "cell_type": "code",
   "execution_count": null,
   "id": "62ef770d",
   "metadata": {},
   "outputs": [],
   "source": []
  }
 ],
 "metadata": {
  "kernelspec": {
   "display_name": "Python 3",
   "language": "python",
   "name": "python3"
  },
  "language_info": {
   "codemirror_mode": {
    "name": "ipython",
    "version": 3
   },
   "file_extension": ".py",
   "mimetype": "text/x-python",
   "name": "python",
   "nbconvert_exporter": "python",
   "pygments_lexer": "ipython3",
   "version": "3.8.8"
  }
 },
 "nbformat": 4,
 "nbformat_minor": 5
}
