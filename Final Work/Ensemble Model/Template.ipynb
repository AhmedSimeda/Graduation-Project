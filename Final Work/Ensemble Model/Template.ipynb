{
  "cells": [
    {
      "cell_type": "code",
      "execution_count": null,
      "metadata": {
        "id": "1BFMewjPicrE"
      },
      "outputs": [],
      "source": [
        "!nvidia-smi -L"
      ]
    },
    {
      "cell_type": "code",
      "execution_count": null,
      "metadata": {
        "id": "UbCQhIOOOYD6"
      },
      "outputs": [],
      "source": [
        "from google.colab import drive\n",
        "drive.mount('/content/drive')"
      ]
    },
    {
      "cell_type": "code",
      "execution_count": null,
      "metadata": {
        "id": "ezLUMrGkOhNJ"
      },
      "outputs": [],
      "source": [
        "!unzip /content/drive/MyDrive/Graduation_Project/CheXpert-v1.0-small.zip > /dev/null"
      ]
    },
    {
      "cell_type": "code",
      "execution_count": null,
      "metadata": {
        "id": "_8dlabuqhhwh"
      },
      "outputs": [],
      "source": [
        "!pip install timm > /dev/null"
      ]
    },
    {
      "cell_type": "code",
      "execution_count": null,
      "metadata": {
        "id": "HV-lvLWUOi9V"
      },
      "outputs": [],
      "source": [
        "import cv2\n",
        "import numpy as np \n",
        "import pandas as pd\n",
        "\n",
        "import matplotlib.pyplot as plt\n",
        "\n",
        "import torch \n",
        "from torch import nn\n",
        "from torchsummary import summary\n",
        "\n",
        "import timm\n",
        "from torch.optim import Adam, lr_scheduler\n",
        "\n",
        "from myGen_1 import MyGen\n",
        "\n",
        "from sklearn.metrics import roc_auc_score"
      ]
    },
    {
      "cell_type": "code",
      "execution_count": null,
      "metadata": {
        "id": "aDfe4k8_jXW3"
      },
      "outputs": [],
      "source": [
        "train = pd.read_csv('/content/CheXpert-v1.0-small/train.csv')"
      ]
    },
    {
      "cell_type": "code",
      "execution_count": null,
      "metadata": {
        "id": "bmWkX4FljjbT"
      },
      "outputs": [],
      "source": [
        "train.loc[:, train.columns[5:]] = train.loc[:, train.columns[5:]].fillna(0)\n",
        "\n",
        "zeros = ['Cardiomegaly', 'Consolidation', 'Pleural Effusion']\n",
        "train.loc[:, zeros] = train.loc[:, zeros].replace({-1:0})\n",
        "ones = ['Edema', 'Atelectasis']\n",
        "train.loc[:, ones] = train.loc[:, ones].replace({-1:1})\n",
        "\n",
        "train = train[['Path', 'Frontal/Lateral', 'Cardiomegaly', 'Edema', 'Consolidation', 'Atelectasis', 'Pleural Effusion']].copy() "
      ]
    },
    {
      "cell_type": "code",
      "execution_count": null,
      "metadata": {
        "id": "ze6PDyvtkQR6"
      },
      "outputs": [],
      "source": [
        "train.to_csv('/content/CheXpert-v1.0-small/train_edited.csv', index=False)"
      ]
    },
    {
      "cell_type": "code",
      "execution_count": null,
      "metadata": {
        "id": "WhX4hTCnAt68"
      },
      "outputs": [],
      "source": [
        "save_weights_path = '/content/drive/MyDrive/Single_Weights/Template.pth' #edit save location\n",
        "load_weights_path = '/content/drive/MyDrive/Final_Weights/Multi_Label/Template.pth'  #edit load location"
      ]
    },
    {
      "cell_type": "code",
      "execution_count": null,
      "metadata": {
        "id": "z9QGdW0sSI3Q"
      },
      "outputs": [],
      "source": [
        "timm.list_models(pretrained=True)"
      ]
    },
    {
      "cell_type": "code",
      "execution_count": null,
      "metadata": {
        "id": "B1Ccjd9kMYX6"
      },
      "outputs": [],
      "source": [
        "model = timm.create_model('mobilenetv3_large_100_miil', num_classes=5, pretrained=False) #edit model name\n",
        "model = model.cuda()\n",
        "\n",
        "summary(model, (3, 320, 320), batch_size=32, device='cuda')\n",
        "\n",
        "model.load_state_dict(torch.load(load_weights_path))"
      ]
    },
    {
      "cell_type": "markdown",
      "metadata": {
        "id": "vWsMaFQKSZ5C"
      },
      "source": [
        "# Test_1"
      ]
    },
    {
      "cell_type": "code",
      "execution_count": null,
      "metadata": {
        "id": "PxxcXjaeTpb3"
      },
      "outputs": [],
      "source": [
        "root = '/content/'\n",
        "testGen =  MyGen(image_root_path=root, \n",
        "                 csv_path='CheXpert-v1.0-small/valid.csv', \n",
        "                 image_size=320,   #edit image size\n",
        "                 frontal=True,\n",
        "                 use_proposed_1=False,\n",
        "                 use_proposed_2=False)\n",
        "\n",
        "testloader =  torch.utils.data.DataLoader(testGen, batch_size=1, shuffle=False)\n",
        "\n",
        "\n",
        "model.eval()\n",
        "with torch.no_grad():    \n",
        "    test_pred = []\n",
        "    test_true = [] \n",
        "    for data in testloader:\n",
        "        test_data, test_labels = data\n",
        "        test_data = test_data.cuda()\n",
        "        y_pred = model(test_data)\n",
        "        y_pred = torch.sigmoid(y_pred)\n",
        "        test_pred.append(y_pred.cpu().detach().numpy())\n",
        "        test_true.append(test_labels.numpy())\n",
        "  \n",
        "    test_true = np.concatenate(test_true)\n",
        "    test_pred = np.concatenate(test_pred)\n",
        "\n",
        "val_auc_mean =  roc_auc_score(test_true, test_pred) \n",
        "val_auc_mean"
      ]
    },
    {
      "cell_type": "code",
      "execution_count": null,
      "metadata": {
        "id": "4kTby3SWThbY"
      },
      "outputs": [],
      "source": [
        "labels = ['Cardiomegaly', 'Edema', 'Consolidation', 'Atelectasis', 'Pleural Effusion']\n",
        "\n",
        "results = pd.DataFrame(index=labels)\n",
        "\n",
        "\n",
        "scores = []\n",
        "for i in range(5):\n",
        "    score = roc_auc_score(test_true[:, i], test_pred[:, i])\n",
        "    scores.append(score)\n",
        "    \n",
        "results['AUC'] = scores\n",
        "results"
      ]
    },
    {
      "cell_type": "code",
      "execution_count": null,
      "metadata": {
        "id": "qOyCQRXB0KqE"
      },
      "outputs": [],
      "source": [
        "single_model = nn.Sequential(*list(model.children())[:-1], nn.Linear(1280, 1)).cuda()  #edit n units in Linear Layer\n",
        "\n",
        "summary(single_model, (3, 320, 320), batch_size=32, device='cuda')"
      ]
    },
    {
      "cell_type": "code",
      "execution_count": null,
      "metadata": {
        "id": "bqWBkS2y8Dzn"
      },
      "outputs": [],
      "source": [
        "n_params = len(list(model.parameters()))  # num of layers\n",
        "idx      = 0  #edit idx according to ['Cardiomegaly', 'Edema', 'Consolidation', 'Atelectasis', 'Pleural Effusion']  \n",
        " \n",
        "param_1 = list(model.parameters())[-2][idx,:].unsqueeze(dim=0) \n",
        "param_2 = list(model.parameters())[-1][idx].unsqueeze(dim=0)\n",
        "\n",
        "for i, param in enumerate(single_model.parameters()):\n",
        "    if i==(n_params-2):\n",
        "        param.data = param_1\n",
        "    elif i==(n_params-1):\n",
        "        param.data = param_2"
      ]
    },
    {
      "cell_type": "markdown",
      "metadata": {
        "id": "S4QETxpuxJGV"
      },
      "source": [
        "# Test_2"
      ]
    },
    {
      "cell_type": "code",
      "execution_count": null,
      "metadata": {
        "id": "HgTKwcWl0NCc"
      },
      "outputs": [],
      "source": [
        "root = '/content/'\n",
        "testGen =  MyGen(image_root_path=root, \n",
        "                 csv_path='CheXpert-v1.0-small/valid.csv', \n",
        "                 image_size=320,  #edit image size\n",
        "                 frontal=True,\n",
        "                 use_proposed_1=False,\n",
        "                 use_proposed_2=False,\n",
        "                 col_to_train=['Cardiomegaly'])  #edit disease name\n",
        "\n",
        "testloader =  torch.utils.data.DataLoader(testGen, batch_size=1, shuffle=False)"
      ]
    },
    {
      "cell_type": "code",
      "execution_count": null,
      "metadata": {
        "id": "xyo6c0s5-f_V"
      },
      "outputs": [],
      "source": [
        "single_model.eval()\n",
        "with torch.no_grad():    \n",
        "    test_pred = []\n",
        "    test_true = [] \n",
        "    for data in testloader:\n",
        "        test_data, test_labels = data\n",
        "        test_data = test_data.cuda()\n",
        "        y_pred = single_model(test_data)\n",
        "        y_pred = torch.sigmoid(y_pred)\n",
        "        test_pred.append(y_pred.cpu().detach().numpy())\n",
        "        test_true.append(test_labels.numpy())\n",
        "  \n",
        "    test_true = np.concatenate(test_true)\n",
        "    test_pred = np.concatenate(test_pred)"
      ]
    },
    {
      "cell_type": "code",
      "execution_count": null,
      "metadata": {
        "id": "VqQbHH6R-mv6"
      },
      "outputs": [],
      "source": [
        "val_auc_mean =  roc_auc_score(test_true, test_pred) "
      ]
    },
    {
      "cell_type": "code",
      "execution_count": null,
      "metadata": {
        "id": "nP4LJGYy-vZX"
      },
      "outputs": [],
      "source": [
        "val_auc_mean"
      ]
    },
    {
      "cell_type": "markdown",
      "metadata": {
        "id": "p7gosBuexYY8"
      },
      "source": [
        "# Let's begin training"
      ]
    },
    {
      "cell_type": "code",
      "execution_count": null,
      "metadata": {
        "id": "RZmuIBzRxZ_d"
      },
      "outputs": [],
      "source": [
        "def get_lr(optimizer):\n",
        "    for param_group in optimizer.param_groups:\n",
        "        return param_group['lr']"
      ]
    },
    {
      "cell_type": "code",
      "execution_count": null,
      "metadata": {
        "id": "jvF5WWbZxkEA"
      },
      "outputs": [],
      "source": [
        "root = '/content/'\n",
        "\n",
        "trainGen = MyGen(image_root_path=root, \n",
        "                 csv_path='CheXpert-v1.0-small/train_edited.csv', \n",
        "                 image_size=320, #edit\n",
        "                 frontal=True,\n",
        "                 use_proposed_1=True,\n",
        "                 use_proposed_2=False,\n",
        "                 col_to_train=['Cardiomegaly'])  #edit\n",
        "\n",
        "valGen =  MyGen(image_root_path=root, \n",
        "                 csv_path='CheXpert-v1.0-small/valid.csv', \n",
        "                 image_size=320, #edit\n",
        "                 frontal=True,\n",
        "                 use_proposed_1=True,\n",
        "                 use_proposed_2=False,\n",
        "                 col_to_train=['Cardiomegaly'])  #edit\n",
        "\n",
        "trainloader =  torch.utils.data.DataLoader(trainGen, batch_size=32, shuffle=True) # batchsize = 32 >> 320 if not then 64\n",
        "testloader =  torch.utils.data.DataLoader(valGen, batch_size=32, shuffle=False)   # batchsize = 32 >> 320 if not then 64\n",
        "\n",
        "# define loss & optimizer\n",
        "Loss = nn.BCELoss()\n",
        "\n",
        "optimizer = Adam(single_model.parameters(), lr=1e-3)\n",
        "\n",
        "scheduler = lr_scheduler.StepLR(optimizer, step_size=8, gamma=0.5)  # if batchsize = 32 >> stepsize = 8 if not >> 4 \n",
        "\n",
        "# training\n",
        "const_threshold = 8  #if batchsize = 32 >> const_threshold = 8 if not >> 4 \n",
        "\n",
        "val_auc_mean = 0\n",
        "best_val_auc = 0  \n",
        "const_cnt = 0\n",
        "\n",
        "for epoch in range(5):\n",
        "\n",
        "    for idx, data in enumerate(trainloader):\n",
        "      train_data, train_labels = data\n",
        "      train_data, train_labels  = train_data.cuda(), train_labels.cuda()\n",
        "      y_pred = single_model(train_data)\n",
        "      y_pred = torch.sigmoid(y_pred)\n",
        "      loss = Loss(y_pred, train_labels)\n",
        "\n",
        "      optimizer.zero_grad()\n",
        "      loss.backward()\n",
        "      optimizer.step()\n",
        "        \n",
        "      # validation  \n",
        "      if idx % 400 == 0:\n",
        "         single_model.eval()\n",
        "         with torch.no_grad():    \n",
        "              test_pred = []\n",
        "              test_true = [] \n",
        "              for data in testloader:\n",
        "                  test_data, test_labels = data\n",
        "                  test_data = test_data.cuda()\n",
        "                  y_pred = single_model(test_data)\n",
        "                  y_pred = torch.sigmoid(y_pred)\n",
        "                  test_pred.append(y_pred.cpu().detach().numpy())            \n",
        "                  test_true.append(test_labels.numpy())\n",
        "            \n",
        "              test_true = np.concatenate(test_true)\n",
        "              test_pred = np.concatenate(test_pred)\n",
        "              val_auc_mean =  roc_auc_score(test_true, test_pred) \n",
        "              single_model.train()\n",
        "\n",
        "              if best_val_auc < val_auc_mean:\n",
        "                  const_cnt = 0\n",
        "                  scheduler = lr_scheduler.StepLR(optimizer, step_size=8, gamma=0.5) #if batchsize = 32 >> stepsize = 8 if not >> 4 \n",
        "                  best_val_auc = val_auc_mean\n",
        "                  torch.save(single_model.state_dict(), save_weights_path)\n",
        "              else:\n",
        "                  const_cnt += 1\n",
        "                  scheduler.step()            \n",
        "\n",
        "              if (const_cnt > const_threshold):\n",
        "                  const_cnt = 0 \n",
        "                  scheduler = lr_scheduler.StepLR(optimizer, step_size=8, gamma=0.5) #if batchsize = 32 >> stepsize = 8 if not >> 4 \n",
        "                  single_model.load_state_dict(torch.load(save_weights_path))\n",
        "                               \n",
        "              lr = get_lr(optimizer)\n",
        "\n",
        "              print('Epoch=%s, BatchID=%s, Val_AUC=%.4f, Best_Val_AUC=%.4f, lr=%f' %(epoch, idx, val_auc_mean, best_val_auc, lr))"
      ]
    },
    {
      "cell_type": "code",
      "execution_count": null,
      "metadata": {
        "id": "3xegWmZP4bO_"
      },
      "outputs": [],
      "source": [
        ""
      ]
    }
  ],
  "metadata": {
    "accelerator": "GPU",
    "colab": {
      "collapsed_sections": [],
      "name": "2.Template.ipynb",
      "provenance": []
    },
    "kernelspec": {
      "display_name": "Python 3 (ipykernel)",
      "language": "python",
      "name": "python3"
    },
    "language_info": {
      "codemirror_mode": {
        "name": "ipython",
        "version": 3
      },
      "file_extension": ".py",
      "mimetype": "text/x-python",
      "name": "python",
      "nbconvert_exporter": "python",
      "pygments_lexer": "ipython3",
      "version": "3.9.7"
    }
  },
  "nbformat": 4,
  "nbformat_minor": 0
}